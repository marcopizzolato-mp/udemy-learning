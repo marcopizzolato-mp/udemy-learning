{
 "cells": [
  {
   "cell_type": "markdown",
   "id": "b915f476",
   "metadata": {},
   "source": [
    "# Overview"
   ]
  },
  {
   "cell_type": "markdown",
   "id": "02767609",
   "metadata": {},
   "source": [
    "Numbers:\n",
    "    - Integral\n",
    "    - Non integral"
   ]
  },
  {
   "cell_type": "markdown",
   "id": "9e8fe758",
   "metadata": {},
   "source": [
    "Sequences:\n",
    "    - Mutable: list\n",
    "    - Immutable: Tuples; Strings\n",
    "\n",
    "Sets:\n",
    "    - Mutable: Sets\n",
    "    - Immutable: Frozen-sets\n",
    "\n",
    "Mappings:\n",
    "    - Dictionary"
   ]
  },
  {
   "cell_type": "markdown",
   "id": "d9974ced",
   "metadata": {},
   "source": [
    "Callables (anything you can invoke):\n",
    "    - User defined functions\n",
    "    - Generators\n",
    "    - Classes\n",
    "    - Intance methods\n",
    "    - Class instance (__call__())\n",
    "    - Built-in functions (len(), open())\n",
    "    - Built-in methods (len(), open())\n",
    "\n",
    "Singleton\n",
    "    - none\n",
    "    - NotImplemented\n",
    "    - Ellipsis"
   ]
  },
  {
   "cell_type": "markdown",
   "id": "4a4ee862",
   "metadata": {},
   "source": [
    "### Lesson 7 - Naming convention"
   ]
  },
  {
   "cell_type": "code",
   "execution_count": 4,
   "id": "fee339a2",
   "metadata": {},
   "outputs": [
    {
     "name": "stdout",
     "output_type": "stream",
     "text": [
      "[1, 2, 3, 20]\n"
     ]
    }
   ],
   "source": [
    "l = [1,2,3]\n",
    "val = 20\n",
    "idx = 0\n",
    "\n",
    "while idx < len(l):\n",
    "    if l[idx] == val:\n",
    "        break\n",
    "    idx += 1\n",
    "# Else runs ONLY if the while loop does not encounter the BREAK\n",
    "else:\n",
    "    l.append(val)\n",
    "    \n",
    "print(l)"
   ]
  },
  {
   "cell_type": "markdown",
   "id": "5fcfec53",
   "metadata": {},
   "source": [
    "## Classes"
   ]
  },
  {
   "cell_type": "markdown",
   "id": "585c0ba8",
   "metadata": {},
   "source": [
    "#### Base Class with some special methods"
   ]
  },
  {
   "cell_type": "code",
   "execution_count": 29,
   "id": "a880edf5",
   "metadata": {},
   "outputs": [],
   "source": [
    "class Rectangle:\n",
    "    # After the object gets created the object is initialised \n",
    "    def __init__(self, width, height):\n",
    "        # Proprties (Attributes that are not callable) \n",
    "        self.width = width\n",
    "        self.height = height\n",
    "    \n",
    "    # Methods (Attributes that can be called)\n",
    "    def area(self):\n",
    "        return self.width * self.height\n",
    "    \n",
    "    def perim(self):\n",
    "        return 2* (self.width + self.height)\n",
    "    # Gives a special result when calling the function str()\n",
    "    def __str__(self):\n",
    "        return 'Rectangle: width {0}, height {1}'.format(self.width, self.height)\n",
    "    # Gives a special result when calling the object r1 alone with no methods or attributres \n",
    "    def __repr__(self):\n",
    "        return 'Rectangle({0},{1})'.format(self.width, self.height)\n",
    "    # This checks if two objects have the same properties\n",
    "    def __eq__(self, other):\n",
    "        # Check if \"other\" is a rectangle -> catch it returning a False\n",
    "        if isinstance(other, Rectangle):\n",
    "            return self.width == other.width and self.height == other.height\n",
    "        else:\n",
    "            return False\n",
    "    def __lt__(self, other):\n",
    "        if isinstance(other, Rectangle):\n",
    "            return self.area() < other.area()\n",
    "        else:\n",
    "            NotImplemented"
   ]
  },
  {
   "cell_type": "code",
   "execution_count": 32,
   "id": "8d9ad212",
   "metadata": {},
   "outputs": [
    {
     "name": "stdout",
     "output_type": "stream",
     "text": [
      "200\n",
      "Rectangle: width 10, height 20\n",
      "__eq__\n",
      "True\n",
      "True\n",
      "False\n",
      "__lt__\n",
      "True\n"
     ]
    }
   ],
   "source": [
    "r1 = Rectangle(10, 20) \n",
    "\n",
    "print(r1.area())\n",
    "print(str(r1))\n",
    "r1\n",
    "\n",
    "# Test for the equality __eq__\n",
    "print('__eq__')\n",
    "r2 = Rectangle(10, 20) \n",
    "print(r1 is not r2) # True because they are two different objects\n",
    "print(r1 == r2) # True\n",
    "print(r1 == 100) # Check if \"other\" is a rectangle -> catch it returning a False\n",
    "\n",
    "# Test for less than __lt__\n",
    "\n",
    "r3 = Rectangle(100, 200)\n",
    "\n",
    "print('__lt__')\n",
    "print(r1 < r3)"
   ]
  },
  {
   "cell_type": "markdown",
   "id": "9eedf019",
   "metadata": {},
   "source": [
    "#### Base Class with setter and getter \n",
    "\n",
    "I am having BARE properties \"width\" and \"height\" without the _ to make them private. The trick here is that to set the bare properties I am passing throguh the @width.setter and @height.setter which are implementing some control logic and after writing on the private property.\n",
    "So.. I am passing through the setter/getter methods and therefore to the private properties to set the BARE ones "
   ]
  },
  {
   "cell_type": "code",
   "execution_count": 39,
   "id": "2a4ceb85",
   "metadata": {},
   "outputs": [],
   "source": [
    "class Rectangle:\n",
    "    # After the object gets created the object is initialised \n",
    "    def __init__(self, width, height):\n",
    "        # I can set the properties as private with underscore.\n",
    "        # However I can get around it by using the property @property @set (pythonic way) \n",
    "        self.width = width\n",
    "        self.height = height\n",
    "    \n",
    "    # These are getters\n",
    "    @property \n",
    "    def width(self):\n",
    "        print(\"side effect to demonstrate this method runs\")\n",
    "        return self._width\n",
    "    @property\n",
    "    def height(self):\n",
    "        return self._height\n",
    "    \n",
    "    # These are setters \n",
    "    @width.setter\n",
    "    def width(self, width):\n",
    "        if width <= 0:\n",
    "            raise ValueError('must be positive')\n",
    "        else: \n",
    "            self._width = width\n",
    "    @height.setter\n",
    "    def height(self, height):\n",
    "        if height <= 0:\n",
    "            raise ValueError('must be positive')\n",
    "        else: \n",
    "            self._height = height\n",
    "\n",
    "    \n",
    "    # Methods (Attributes that can be called)\n",
    "    def area(self):\n",
    "        return self.width * self.height\n",
    "    \n",
    "    def perim(self):\n",
    "        return 2* (self.width + self.height)\n",
    "    # Gives a special result when calling the function str()\n",
    "    def __str__(self):\n",
    "        return 'Rectangle: width {0}, height {1}'.format(self.width, self.height)\n",
    "    # Gives a special result when calling the object r1 alone with no methods or attributres \n",
    "    def __repr__(self):\n",
    "        return 'Rectangle({0},{1})'.format(self.width, self.height)\n",
    "    # This checks if two objects have the same properties\n",
    "    def __eq__(self, other):\n",
    "        # Check if \"other\" is a rectangle -> catch it returning a False\n",
    "        if isinstance(other, Rectangle):\n",
    "            return self.width == other.width and self.height == other.height\n",
    "        else:\n",
    "            return False\n",
    "    def __lt__(self, other):\n",
    "        if isinstance(other, Rectangle):\n",
    "            return self.area() < other.area()\n",
    "        else:\n",
    "            NotImplemented"
   ]
  },
  {
   "cell_type": "code",
   "execution_count": 48,
   "id": "52b3a177",
   "metadata": {},
   "outputs": [
    {
     "name": "stdout",
     "output_type": "stream",
     "text": [
      "side effect to demonstrate this method runs\n",
      "side effect to demonstrate this method runs\n"
     ]
    },
    {
     "data": {
      "text/plain": [
       "Rectangle(10,20)"
      ]
     },
     "execution_count": 48,
     "metadata": {},
     "output_type": "execute_result"
    }
   ],
   "source": [
    "r1 = Rectangle(10, 20)\n",
    "r1.width\n",
    "r1.height\n",
    "r1"
   ]
  },
  {
   "cell_type": "markdown",
   "id": "22fcbe88",
   "metadata": {},
   "source": [
    "## Python Lesson 1 - Variables\n",
    "\n",
    "memory management  \n",
    "reference counting <-> garbage collection  \n",
    "dynamic VS static counting  \n",
    "mutability - immutability  \n",
    "shared references  \n",
    "variable equality (what does equality means)   \n",
    "everything is an object  "
   ]
  },
  {
   "cell_type": "code",
   "execution_count": 57,
   "id": "5e089f80",
   "metadata": {},
   "outputs": [
    {
     "data": {
      "text/plain": [
       "11"
      ]
     },
     "execution_count": 57,
     "metadata": {},
     "output_type": "execute_result"
    }
   ],
   "source": [
    "import sys\n",
    "sys.getrefcount(r1)\n",
    "import ctypes\n",
    "ctypes.c_long.from_address(id(r2)).value"
   ]
  },
  {
   "cell_type": "code",
   "execution_count": null,
   "id": "d67898c8",
   "metadata": {},
   "outputs": [],
   "source": []
  },
  {
   "cell_type": "code",
   "execution_count": null,
   "id": "67381609",
   "metadata": {},
   "outputs": [],
   "source": []
  },
  {
   "cell_type": "code",
   "execution_count": null,
   "id": "7e916eb8",
   "metadata": {},
   "outputs": [],
   "source": []
  },
  {
   "cell_type": "code",
   "execution_count": null,
   "id": "bd05f754",
   "metadata": {},
   "outputs": [],
   "source": []
  }
 ],
 "metadata": {
  "kernelspec": {
   "display_name": "Python 3",
   "language": "python",
   "name": "python3"
  },
  "language_info": {
   "codemirror_mode": {
    "name": "ipython",
    "version": 3
   },
   "file_extension": ".py",
   "mimetype": "text/x-python",
   "name": "python",
   "nbconvert_exporter": "python",
   "pygments_lexer": "ipython3",
   "version": "3.8.8"
  }
 },
 "nbformat": 4,
 "nbformat_minor": 5
}
