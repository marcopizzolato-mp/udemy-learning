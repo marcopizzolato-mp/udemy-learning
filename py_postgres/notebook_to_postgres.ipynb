{
 "cells": [
  {
   "cell_type": "markdown",
   "metadata": {},
   "source": [
    "https://wiki.postgresql.org/wiki/Psycopg2_Tutorial"
   ]
  },
  {
   "cell_type": "code",
   "execution_count": 1,
   "metadata": {},
   "outputs": [],
   "source": [
    "# Libraries\n",
    "\n",
    "import pandas as pd\n",
    "from pandas import Series, DataFrame\n",
    "\n",
    "import psycopg2 as pg2\n",
    "from configparser import ConfigParser\n",
    "\n",
    "import os\n",
    "import numpy as np"
   ]
  },
  {
   "cell_type": "code",
   "execution_count": 2,
   "metadata": {},
   "outputs": [
    {
     "name": "stdout",
     "output_type": "stream",
     "text": [
      "{'user': 'postgres', 'password': 'mammamia', 'host': 'localhost', 'port': '5432', 'database': 'udemydb'}\n"
     ]
    }
   ],
   "source": [
    "# Import credentials\n",
    "filename='./mothership.ini' # <-- Open the file and ADD YOUR CREDENTIALS\n",
    "section='postgresql_home'\n",
    "\n",
    "# Create a parser\n",
    "parser = ConfigParser()\n",
    "# Read config file\n",
    "parser.read(filename)\n",
    "\n",
    "# Get section, default to postgresql\n",
    "db_all = {}\n",
    "if parser.has_section(section):\n",
    "    params = parser.items(section)\n",
    "    for param in params:\n",
    "        db_all[param[0]] = param[1]\n",
    "else:\n",
    "    raise Exception('Section {0} not found in the {1} file'.format(section, filename))\n",
    "\n",
    "print(db_all)"
   ]
  },
  {
   "cell_type": "code",
   "execution_count": 3,
   "metadata": {},
   "outputs": [],
   "source": [
    "# Create a connection with PostgreSQL\n",
    "conn = pg2.connect(**db_all)\n",
    "\n",
    "# Start cursor to be ready to query\n",
    "cur = conn.cursor()"
   ]
  },
  {
   "cell_type": "markdown",
   "metadata": {},
   "source": [
    "### Select specific columns"
   ]
  },
  {
   "cell_type": "code",
   "execution_count": 20,
   "metadata": {},
   "outputs": [
    {
     "name": "stdout",
     "output_type": "stream",
     "text": [
      "            0          1                                      2\n",
      "0       Jared        Ely           jared.ely@sakilacustomer.org\n",
      "1        Mary      Smith          mary.smith@sakilacustomer.org\n",
      "2    Patricia    Johnson    patricia.johnson@sakilacustomer.org\n",
      "3       Linda   Williams      linda.williams@sakilacustomer.org\n",
      "4     Barbara      Jones       barbara.jones@sakilacustomer.org\n",
      "..        ...        ...                                    ...\n",
      "594  Terrence  Gunderson  terrence.gunderson@sakilacustomer.org\n",
      "595   Enrique   Forsythe    enrique.forsythe@sakilacustomer.org\n",
      "596   Freddie     Duggan      freddie.duggan@sakilacustomer.org\n",
      "597      Wade   Delvalle       wade.delvalle@sakilacustomer.org\n",
      "598    Austin    Cintron      austin.cintron@sakilacustomer.org\n",
      "\n",
      "[599 rows x 3 columns]\n"
     ]
    }
   ],
   "source": [
    "\n",
    "conn = pg2.connect(**db_all)\n",
    "cur = conn.cursor()\n",
    "\n",
    "# Challenge - Retireve all the customer name, surname and address\n",
    "cur.execute(\"SELECT first_name,last_name,email FROM public.customer;\")\n",
    "\n",
    "customers = cur.fetchall()\n",
    "\n",
    "df_customer = DataFrame(customers)\n",
    "print(df_customer)\n",
    "\n",
    "conn.close()"
   ]
  },
  {
   "cell_type": "markdown",
   "metadata": {},
   "source": [
    "### Count all rowas in a table - Count unique values"
   ]
  },
  {
   "cell_type": "code",
   "execution_count": 16,
   "metadata": {},
   "outputs": [
    {
     "name": "stdout",
     "output_type": "stream",
     "text": [
      "       0\n",
      "0  14596\n",
      "   0\n",
      "0  2\n"
     ]
    }
   ],
   "source": [
    "\n",
    "conn = pg2.connect(**db_all)\n",
    "cur = conn.cursor()\n",
    "\n",
    "\n",
    "# Count the total amount of rows in a Table\n",
    "\n",
    "# Pass a string to the cursor method to execute a command\n",
    "cur.execute(\"SELECT COUNT(*) FROM payment\")\n",
    "# Pass the result to a variable (which is a list)\n",
    "data = cur.fetchall()\n",
    "# Pass the list of tupels to a data frame\n",
    "test_data_frame = DataFrame(data)\n",
    "# See data Frame\n",
    "print(test_data_frame)\n",
    "\n",
    "\n",
    "# Count the different values in a Table\n",
    "\n",
    "# Pass a string to the cursor method to execute a command\n",
    "cur.execute(\"SELECT COUNT(DISTINCT(staff_id)) FROM payment\")\n",
    "# Pass the result to a variable (which is a list)\n",
    "data = cur.fetchall()\n",
    "# Pass the list of tupels to a data frame\n",
    "test_data_frame = DataFrame(data)\n",
    "# See data Frame\n",
    "print(test_data_frame)\n",
    "\n",
    "\n",
    "conn.close()\n"
   ]
  },
  {
   "cell_type": "markdown",
   "metadata": {},
   "source": [
    "### See all columns and data type in a table"
   ]
  },
  {
   "cell_type": "code",
   "execution_count": 19,
   "metadata": {},
   "outputs": [
    {
     "name": "stdout",
     "output_type": "stream",
     "text": [
      "              0                            1\n",
      "0    payment_id                      integer\n",
      "1   customer_id                     smallint\n",
      "2      staff_id                     smallint\n",
      "3     rental_id                      integer\n",
      "4        amount                      numeric\n",
      "5  payment_date  timestamp without time zone\n"
     ]
    }
   ],
   "source": [
    "\n",
    "conn = pg2.connect(**db_all)\n",
    "cur = conn.cursor()\n",
    "\n",
    "cur.execute(\"SELECT column_name, data_type FROM information_schema.columns WHERE table_name = 'payment';\")\n",
    "\n",
    "data = cur.fetchall()\n",
    "test_data_frame = DataFrame(data)\n",
    "print(test_data_frame)\n",
    "\n",
    "conn.close()"
   ]
  },
  {
   "cell_type": "code",
   "execution_count": null,
   "metadata": {},
   "outputs": [],
   "source": [
    "conn = pg2.connect(**db_all)\n",
    "cur = conn.cusor()\n",
    "\n",
    "cur.execute(\"SELECT \")"
   ]
  },
  {
   "cell_type": "code",
   "execution_count": null,
   "metadata": {},
   "outputs": [],
   "source": []
  }
 ],
 "metadata": {
  "kernelspec": {
   "display_name": "Python 3 (ipykernel)",
   "language": "python",
   "name": "python3"
  },
  "language_info": {
   "codemirror_mode": {
    "name": "ipython",
    "version": 3
   },
   "file_extension": ".py",
   "mimetype": "text/x-python",
   "name": "python",
   "nbconvert_exporter": "python",
   "pygments_lexer": "ipython3",
   "version": "3.7.11"
  }
 },
 "nbformat": 4,
 "nbformat_minor": 4
}
