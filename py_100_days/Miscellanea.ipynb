{
 "cells": [
  {
   "cell_type": "markdown",
   "id": "1fb625f1-139d-4a13-a46f-f913b533bbed",
   "metadata": {},
   "source": [
    "### Day 8"
   ]
  },
  {
   "cell_type": "code",
   "execution_count": null,
   "id": "a1327cd4-c4cc-4cc8-8c5e-644ee4376212",
   "metadata": {},
   "outputs": [],
   "source": [
    "ancora = \"Y\"\n",
    "record = {\n",
    "    'Tony':10,\n",
    "    'Julius':90,\n",
    "    'Ard':12}\n",
    "\n",
    "\n",
    "mas = max(record, key=record.get)\n",
    "a = list(record.keys())\n",
    "b = list(record.values())\n",
    "idx = b.index(mas)\n"
   ]
  },
  {
   "cell_type": "code",
   "execution_count": null,
   "id": "a2faa2b6-eed4-48f2-ae4b-6f997e4dd8e3",
   "metadata": {},
   "outputs": [],
   "source": [
    "mas"
   ]
  },
  {
   "cell_type": "code",
   "execution_count": null,
   "id": "db7970c3-d593-4c0d-a912-0c670561a694",
   "metadata": {},
   "outputs": [],
   "source": [
    "a = list(record.keys())\n",
    "a"
   ]
  },
  {
   "cell_type": "code",
   "execution_count": null,
   "id": "6ded2310-39fc-4f81-bf6f-d3e1be3d4bd8",
   "metadata": {},
   "outputs": [],
   "source": [
    "131%26"
   ]
  },
  {
   "cell_type": "code",
   "execution_count": null,
   "id": "fce87b15-162c-408e-8534-9e0c8ec5790c",
   "metadata": {},
   "outputs": [],
   "source": []
  },
  {
   "cell_type": "markdown",
   "id": "f1609738-e650-48f6-9b50-ab54ef62d76b",
   "metadata": {},
   "source": [
    "### Lesson XX"
   ]
  },
  {
   "cell_type": "code",
   "execution_count": null,
   "id": "ff55f67d-c19a-47c6-b8a4-6c28d3c00019",
   "metadata": {},
   "outputs": [],
   "source": [
    "import random"
   ]
  },
  {
   "cell_type": "code",
   "execution_count": null,
   "id": "548eb745-e590-479a-8cb9-b414f5a69d0d",
   "metadata": {},
   "outputs": [],
   "source": [
    "#Write your code below this line 👇\n",
    "\n",
    "signs = [rock,paper,scissors]\n",
    "\n",
    "user = input(\"What do you choose? Type 0 for Rock, 1 for Paper or 2 for Scissors.\")\n",
    "\n",
    "computer = random.randint(0,2)\n",
    "\n",
    "\n",
    "if computer == 0 and user == 1:\n",
    "  print(f\"The user wins computer {computer}, user {user}\")\n",
    "elif computer == 0 and user == 2:\n",
    "  print(f\"The computer wins computer {computer}, user {user}\")\n",
    "elif computer == 1 and user == 0:\n",
    "  print(f\"The computer wins computer {computer}, user {user}\")\n",
    "elif computer == 1 and user == 2:\n",
    "  print(f\"The user wins computer {computer}, user {user}\")\n",
    "elif computer == 2 and user == 0:\n",
    "  print(f\"The user wins computer {computer}, user {user}\")\n",
    "elif computer == 2 and user == 1:\n",
    "  print(f\"The computer wins computer {computer}, user {user}\")\n",
    "else:\n",
    "  print(f\"This is a Draw computer {computer}, user {user}\")"
   ]
  },
  {
   "cell_type": "code",
   "execution_count": null,
   "id": "bc623605-0a01-41de-9b03-717b7bcb1834",
   "metadata": {},
   "outputs": [],
   "source": [
    "computer = 1\n",
    "user = 0\n",
    "\n",
    "if computer == 0 and user == 1:\n",
    "    print(f\"The user wins computer {computer}, user {user}\")\n",
    "elif computer == 0 and user == 2:\n",
    "    print(f\"The computer wins computer {computer}, user {user}\")\n",
    "elif computer == 1 and user == 0:\n",
    "    print(f\"The computer wins computer {computer}, user {user}\")"
   ]
  },
  {
   "cell_type": "code",
   "execution_count": null,
   "id": "fcf1a665-12f5-439c-9783-e2e39987f632",
   "metadata": {},
   "outputs": [],
   "source": [
    "ll = ['a','b','c','d']\n",
    "print(random.choice(ll))"
   ]
  },
  {
   "cell_type": "code",
   "execution_count": null,
   "id": "696814b6-4cdb-4c8b-ae0b-46cccdacb366",
   "metadata": {},
   "outputs": [],
   "source": []
  },
  {
   "cell_type": "code",
   "execution_count": null,
   "id": "bb7aa330-87ca-43e3-b776-58f4385876f0",
   "metadata": {},
   "outputs": [],
   "source": [
    "rock = '''\n",
    "    _______\n",
    "---'   ____)\n",
    "      (_____)\n",
    "      (_____)\n",
    "      (____)\n",
    "---.__(___)\n",
    "'''\n",
    "\n",
    "paper = '''\n",
    "    _______\n",
    "---'   ____)____\n",
    "          ______)\n",
    "          _______)\n",
    "         _______)\n",
    "---.__________)\n",
    "'''\n",
    "\n",
    "scissors = '''\n",
    "    _______\n",
    "---'   ____)____\n",
    "          ______)\n",
    "       __________)\n",
    "      (____)\n",
    "---.__(___)\n",
    "'''"
   ]
  },
  {
   "cell_type": "code",
   "execution_count": null,
   "id": "856653ed-61a2-4d6e-b8d2-00a3302dda1e",
   "metadata": {},
   "outputs": [],
   "source": []
  },
  {
   "cell_type": "code",
   "execution_count": null,
   "id": "ed01a06c-e4c4-4fb8-aafa-30d20fc32822",
   "metadata": {},
   "outputs": [],
   "source": [
    "#Password Generator Project\n",
    "import random\n",
    "letters = ['a', 'b', 'c', 'd', 'e', 'f', 'g', 'h', 'i', 'j', 'k', 'l', 'm', 'n', 'o', 'p', 'q', 'r', 's', 't', 'u', 'v', 'w', 'x', 'y', 'z', 'A', 'B', 'C', 'D', 'E', 'F', 'G', 'H', 'I', 'J', 'K', 'L', 'M', 'N', 'O', 'P', 'Q', 'R', 'S', 'T', 'U', 'V', 'W', 'X', 'Y', 'Z']\n",
    "numbers = ['0', '1', '2', '3', '4', '5', '6', '7', '8', '9']\n",
    "symbols = ['!', '#', '$', '%', '&', '(', ')', '*', '+']\n",
    "\n",
    "print(\"Welcome to the PyPassword Generator!\")\n",
    "nr_letters= int(input(\"How many letters would you like in your password?\\n\")) \n",
    "nr_symbols = int(input(f\"How many symbols would you like?\\n\"))\n",
    "nr_numbers = int(input(f\"How many numbers would you like?\\n\"))\n",
    "\n",
    "#Eazy Level - Order not randomised:\n",
    "#e.g. 4 letter, 2 symbol, 2 number = JduE&!91\n",
    "\n",
    "# ff_psw = ''\n",
    "\n",
    "# for ll in range(0,nr_letters):\n",
    "#   ff_psw = ff_psw + random.choice(letters)\n",
    "# for nn in range(0,nr_symbols):\n",
    "#   ff_psw = ff_psw + random.choice(numbers)\n",
    "# for ss in range(0,nr_numbers):\n",
    "#   ff_psw = ff_psw + random.choice(symbols)\n",
    "\n",
    "# print(ff_psw)\n",
    "\n",
    "#Hard Level - Order of characters randomised:\n",
    "#e.g. 4 letter, 2 symbol, 2 number = g^2jk8&P\n",
    "\n",
    "ff_psw = []\n",
    "\n",
    "for ll in range(0,nr_letters):\n",
    "    ff_psw.append(random.choice(letters))\n",
    "for nn in range(0,nr_symbols):\n",
    "    ff_psw.append(random.choice(numbers))\n",
    "for ss in range(0,nr_numbers):\n",
    "    ff_psw.append(random.choice(symbols))\n"
   ]
  },
  {
   "cell_type": "code",
   "execution_count": null,
   "id": "0b96e457-1167-47e7-8414-1bdebf925544",
   "metadata": {},
   "outputs": [],
   "source": [
    "random.shuffle(ff_psw)\n",
    "out_psw = \"\".join(ff_psw)\n",
    "print(ff_psw)\n",
    "print(out_psw)"
   ]
  },
  {
   "cell_type": "code",
   "execution_count": null,
   "id": "363ba937-cc17-4a69-9f1f-8803134e7800",
   "metadata": {},
   "outputs": [],
   "source": [
    "print(ff_psw)"
   ]
  },
  {
   "cell_type": "code",
   "execution_count": null,
   "id": "0405b6cd-5671-4ce8-81ed-844dc832e856",
   "metadata": {},
   "outputs": [],
   "source": [
    "for i in range(1:6):\n",
    "    print(i)"
   ]
  },
  {
   "cell_type": "code",
   "execution_count": null,
   "id": "673337e5-2c48-474b-a696-d7037f4c0f51",
   "metadata": {},
   "outputs": [],
   "source": [
    "import random"
   ]
  },
  {
   "cell_type": "code",
   "execution_count": null,
   "id": "36711bba-b811-41b3-a75e-8425328ce9ed",
   "metadata": {},
   "outputs": [],
   "source": [
    "#Step 1 \n",
    "\n",
    "word_list = [\"aardvark\", \"baboon\", \"camel\"]\n",
    "\n",
    "#TODO-1 - Randomly choose a word from the word_list and assign it to a variable called chosen_word.\n",
    "chosen_word = random.choice(word_list)\n",
    "#TODO-2 - Ask the user to guess a letter and assign their answer to a variable called guess. Make guess lowercase.\n",
    "guess = input(\"Guess a letter...\").lower()\n",
    "#TODO-3 - Check if the letter the user guessed (guess) is one of the letters in the chosen_word.\n",
    "for aa in enumerate(chosen_word):\n",
    "    print(aa)\n",
    "    if aa[1] == guess:\n",
    "        print(True)\n",
    "    else:\n",
    "        print(False)"
   ]
  },
  {
   "cell_type": "code",
   "execution_count": null,
   "id": "7d280b6f-786b-4783-a715-60874bb3f1c9",
   "metadata": {},
   "outputs": [],
   "source": [
    "#Step 2\n",
    "\n",
    "import random\n",
    "word_list = [\"aardvark\", \"baboon\", \"camel\"]\n",
    "chosen_word = random.choice(word_list)\n",
    "\n",
    "#Testing code\n",
    "print(f'Pssst, the solution is {chosen_word}.')\n",
    "\n",
    "# display the empty word\n",
    "display = [\"_\" for x in range(len(chosen_word))]\n",
    "\n",
    "# initialize a null list\n",
    "end_of_game = False\n",
    "\n",
    "        \n",
    "while end_of_game != True:\n",
    "\n",
    "    guess = input(\"Guess a letter: \").lower()\n",
    "    print(unique_letters)\n",
    "    for letter in enumerate(chosen_word):\n",
    "        letter_p = letter[0]\n",
    "        letter_l = letter[1]\n",
    "       \n",
    "        if letter_l == guess:\n",
    "            # print(\"Right\")\n",
    "            display[letter_p] = letter_l\n",
    "    # else:\n",
    "        # print(\"Wrong\")\n",
    "\n",
    "    # Check if end_of_game\n",
    "    if \"_\" not in display:\n",
    "        end_of_game = True\n",
    "\n",
    "        \n",
    "    print(display)\n",
    "\n",
    "print(\"You win\")"
   ]
  },
  {
   "cell_type": "code",
   "execution_count": null,
   "id": "aa92e611-cdb2-486d-928e-9a3c7a6b5d98",
   "metadata": {},
   "outputs": [],
   "source": [
    "a =  \"baboon\"\n",
    "len(a)"
   ]
  },
  {
   "cell_type": "code",
   "execution_count": null,
   "id": "9305a44b-3132-4da2-b1ba-491fde9af28f",
   "metadata": {},
   "outputs": [],
   "source": [
    "a = ['_', '_', '_', 'o', 'o', '_']\n",
    "a.remove(\"_\")\n",
    "a"
   ]
  },
  {
   "cell_type": "code",
   "execution_count": null,
   "id": "fdf4c194-cbe5-4995-8092-47c193dec0e5",
   "metadata": {},
   "outputs": [],
   "source": [
    "letter"
   ]
  },
  {
   "cell_type": "code",
   "execution_count": null,
   "id": "279c6b2a-04f5-4657-80d0-089696871ad3",
   "metadata": {},
   "outputs": [],
   "source": []
  },
  {
   "cell_type": "code",
   "execution_count": null,
   "id": "50e2718b-f14c-4863-9bb3-5ca29d2136d8",
   "metadata": {},
   "outputs": [],
   "source": []
  },
  {
   "cell_type": "code",
   "execution_count": null,
   "id": "7055238b-df84-49db-8890-413e5032e680",
   "metadata": {},
   "outputs": [],
   "source": [
    "letter in unique_letters"
   ]
  }
 ],
 "metadata": {
  "kernelspec": {
   "display_name": "Python 3 (ipykernel)",
   "language": "python",
   "name": "python3"
  },
  "language_info": {
   "codemirror_mode": {
    "name": "ipython",
    "version": 3
   },
   "file_extension": ".py",
   "mimetype": "text/x-python",
   "name": "python",
   "nbconvert_exporter": "python",
   "pygments_lexer": "ipython3",
   "version": "3.7.11"
  }
 },
 "nbformat": 4,
 "nbformat_minor": 5
}
