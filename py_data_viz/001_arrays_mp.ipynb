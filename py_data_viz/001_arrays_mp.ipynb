{
 "cells": [
  {
   "cell_type": "code",
   "execution_count": 1,
   "metadata": {},
   "outputs": [],
   "source": [
    "import numpy as np"
   ]
  },
  {
   "cell_type": "markdown",
   "metadata": {},
   "source": [
    "# Summary"
   ]
  },
  {
   "cell_type": "markdown",
   "metadata": {},
   "source": [
    "- range function\n",
    "- enumerate function\n",
    "- zip function\n",
    "- in function (value in dictionary or list)\n",
    "- crea una array"
   ]
  },
  {
   "cell_type": "markdown",
   "metadata": {},
   "source": [
    "# Development"
   ]
  },
  {
   "cell_type": "markdown",
   "metadata": {},
   "source": [
    "### Arrays"
   ]
  },
  {
   "cell_type": "code",
   "execution_count": 3,
   "metadata": {},
   "outputs": [
    {
     "data": {
      "text/plain": [
       "[4, 6, 8, 10, 12, 14, 16, 18, 20]"
      ]
     },
     "execution_count": 3,
     "metadata": {},
     "output_type": "execute_result"
    }
   ],
   "source": [
    "### Range: generates numbers START/END/STEP\n",
    "# Range is a generator, it needs to be casted in a list\n",
    "list(range(4,21,2))"
   ]
  },
  {
   "cell_type": "code",
   "execution_count": 5,
   "metadata": {},
   "outputs": [
    {
     "name": "stdout",
     "output_type": "stream",
     "text": [
      "(0, 'a')\n",
      "(1, 'b')\n",
      "(2, 'c')\n",
      "(3, 'd')\n",
      "(4, 'e')\n",
      "0\n",
      "a\n",
      "1\n",
      "b\n",
      "2\n",
      "c\n",
      "3\n",
      "d\n",
      "4\n",
      "e\n"
     ]
    }
   ],
   "source": [
    "### Enumerate: to go through elements in list using count.\n",
    "# It returns tuples\n",
    "word = \"abcde\"\n",
    "for item in enumerate(word):\n",
    "    print (item)\n",
    "    \n",
    "for item, letter in enumerate(word):\n",
    "    print(item)\n",
    "    print(letter)"
   ]
  },
  {
   "cell_type": "code",
   "execution_count": 9,
   "metadata": {},
   "outputs": [
    {
     "name": "stdout",
     "output_type": "stream",
     "text": [
      "{(3, 'c'), (1, 'a'), (2, 'b')}\n",
      "3\n",
      "c\n",
      "1\n",
      "a\n",
      "2\n",
      "b\n"
     ]
    }
   ],
   "source": [
    "### Zip list: generates tuples with objects from each list\n",
    "\n",
    "my_list1 = [1,2,3]\n",
    "my_list2 = ['a','b','c']\n",
    "zipped = set(zip(my_list1, my_list2))\n",
    "print(zipped)\n",
    "\n",
    "for a in zipped:\n",
    "    print(a[0])\n",
    "    print(a[1])"
   ]
  },
  {
   "cell_type": "code",
   "execution_count": null,
   "metadata": {},
   "outputs": [],
   "source": [
    "### IN: check if the value is in a list or a dictionary.\n",
    "\n",
    "*** in d.values()\n",
    "*** in d.keys()\n",
    "#-- not run --"
   ]
  },
  {
   "cell_type": "code",
   "execution_count": 13,
   "metadata": {},
   "outputs": [
    {
     "name": "stdout",
     "output_type": "stream",
     "text": [
      "['w', 'o', 'r', 'l', 'd']\n",
      "['W', 'o', 'r', 'l', 'd']\n",
      "[[-100.  -60.  -40.  -20.  -10.    0.   10.   20.   25.   40.   50.  100.]\n",
      " [-148.  -76.  -40.   -4.   14.   32.   50.   68.   77.  104.  122.  212.]]\n",
      "[(-100, -148.0), (-60, -76.0), (-40, -40.0), (-20, -4.0), (-10, 14.0), (0, 32.0), (10, 50.0), (20, 68.0), (25, 77.0), (40, 104.0), (50, 122.0), (100, 212.0)]\n"
     ]
    }
   ],
   "source": [
    "### Comprehension: instead of separating a list with FOR - LOOP\n",
    "my_list3 = []\n",
    "for letter in 'world':\n",
    "    my_list3.append(letter)\n",
    "print(my_list3)\n",
    "\n",
    "my_list4 = [x for x in 'World']\n",
    "print(my_list4)\n",
    "\n",
    "## Temperature changer\n",
    "celsius = [-100, -60, -40, -20, -10, 0, 10, 20, 25, 40, 50, 100]\n",
    "\n",
    "farenheight = [((9/5)*x+32) for x in celsius]\n",
    "\n",
    "array = np.array([celsius, farenheight])\n",
    "print(array)\n",
    "\n",
    "zipped = set(zip(celsius, farenheight))\n",
    "print(sorted(zipped))"
   ]
  },
  {
   "cell_type": "markdown",
   "metadata": {},
   "source": [
    "Numpy Array"
   ]
  },
  {
   "cell_type": "code",
   "execution_count": 2,
   "metadata": {},
   "outputs": [
    {
     "name": "stdout",
     "output_type": "stream",
     "text": [
      "create array:\n",
      "[1 3 5 7 9]\n",
      "2d array:\n",
      "[[1 2 3 9]\n",
      " [4 5 6 9]\n",
      " [7 8 9 9]]\n",
      "(3, 4)\n",
      "int32\n",
      "[[0. 0. 0.]\n",
      " [0. 0. 0.]\n",
      " [0. 0. 0.]\n",
      " [0. 0. 0.]\n",
      " [0. 0. 0.]]\n",
      "[[1. 1.]\n",
      " [1. 1.]]\n",
      "[0. 0. 0. 0. 0. 0.]\n",
      "[[1. 0. 0. 0. 0. 0. 0.]\n",
      " [0. 1. 0. 0. 0. 0. 0.]\n",
      " [0. 0. 1. 0. 0. 0. 0.]\n",
      " [0. 0. 0. 1. 0. 0. 0.]\n",
      " [0. 0. 0. 0. 1. 0. 0.]\n",
      " [0. 0. 0. 0. 0. 1. 0.]\n",
      " [0. 0. 0. 0. 0. 0. 1.]]\n"
     ]
    }
   ],
   "source": [
    "## create an array\n",
    "print(\"create array:\")\n",
    "array = np.arange(1,11,2)\n",
    "print(array)\n",
    "\n",
    "print(\"2d array:\")\n",
    "array_2d = np.array(([1,2,3,9],[4,5,6,9],[7,8,9,9]))\n",
    "print(array_2d)\n",
    "print(array_2d.shape)\n",
    "print(array_2d.dtype)\n",
    "\n",
    "# Create an array of zeros, ones and empty given the dimension\n",
    "zeros_array = np.zeros([5,3])\n",
    "print(zeros_array)\n",
    "ones_array = np.ones([2,2])\n",
    "print(ones_array)\n",
    "empty_array = np.empty(6).round(1)\n",
    "print(empty_array)\n",
    "eye_array = np.eye(7)\n",
    "print(eye_array)"
   ]
  },
  {
   "cell_type": "code",
   "execution_count": 36,
   "metadata": {},
   "outputs": [
    {
     "data": {
      "text/plain": [
       "array([[5., 5.],\n",
       "       [5., 5.]])"
      ]
     },
     "execution_count": 36,
     "metadata": {},
     "output_type": "execute_result"
    }
   ],
   "source": [
    "## Operations with arrays <- are quite straight forward\n",
    "ones_array * 5"
   ]
  },
  {
   "cell_type": "code",
   "execution_count": 42,
   "metadata": {},
   "outputs": [
    {
     "name": "stdout",
     "output_type": "stream",
     "text": [
      "create array:\n",
      "[ 1.   1.5  2.   2.5  3.   3.5  4.   4.5  5.   5.5  6.   6.5  7.   7.5\n",
      "  8.   8.5  9.   9.5 10.  10.5]\n",
      "[1.  1.5 2. ]\n",
      "[2.5 3. ]\n",
      "[ 1.   1.5  2.   2.5  3.   3.5  4.   4.5  5.   5.5  6.   6.5  7.   7.5\n",
      "  8.   8.5  9.   9.5 10.  10.5]\n",
      "slice array:\n",
      "[[1]\n",
      " [4]\n",
      " [7]]\n"
     ]
    }
   ],
   "source": [
    "print(\"create array:\")\n",
    "array = np.arange(1,11,0.5)\n",
    "print(array)\n",
    "\n",
    "# Slice with start and end point\n",
    "print(array[0:3])\n",
    "print(array[3:5])\n",
    "\n",
    "# Select ALL the array <- keep the column\n",
    "print(array[:])\n",
    "\n",
    "print(\"slice array:\")\n",
    "print(\n",
    "array_2d[:3,:1]\n",
    ")"
   ]
  },
  {
   "cell_type": "code",
   "execution_count": 3,
   "metadata": {
    "scrolled": true
   },
   "outputs": [
    {
     "name": "stdout",
     "output_type": "stream",
     "text": [
      "2d array:\n",
      "[[ 1  2  3  4]\n",
      " [ 5  6  7  8]\n",
      " [ 9 10 11 12]]\n",
      "[ 9 10 11 12]\n",
      "11\n",
      "slice array:\n",
      "[[ 2]\n",
      " [ 6]\n",
      " [10]]\n"
     ]
    }
   ],
   "source": [
    "print(\"2d array:\")\n",
    "array_2d = np.array(([1,2,3,4],[5,6,7,8],[9,10,11,12]))\n",
    "print(array_2d)\n",
    "# Selecting Row or Column ARRAY[ROW][COLUMN]\n",
    "# Selecting one row\n",
    "print(array_2d[2])\n",
    "\n",
    "# Selecting one value\n",
    "print(array_2d[2][2])\n",
    "\n",
    "print(\"slice array:\")\n",
    "print(array_2d[:3,1:2])\n"
   ]
  },
  {
   "cell_type": "code",
   "execution_count": 4,
   "metadata": {},
   "outputs": [
    {
     "name": "stdout",
     "output_type": "stream",
     "text": [
      "10\n",
      "[[0. 0. 0. 0. 0. 0. 0. 0. 0. 0.]\n",
      " [0. 0. 1. 1. 0. 0. 0. 0. 0. 0.]\n",
      " [0. 0. 2. 2. 0. 0. 0. 0. 0. 0.]\n",
      " [0. 0. 3. 3. 0. 0. 0. 0. 0. 0.]\n",
      " [0. 0. 4. 4. 0. 0. 0. 0. 0. 0.]\n",
      " [0. 0. 5. 5. 0. 0. 0. 0. 0. 0.]\n",
      " [0. 0. 6. 6. 0. 0. 0. 0. 0. 0.]\n",
      " [0. 0. 7. 7. 0. 0. 0. 0. 0. 0.]\n",
      " [0. 0. 8. 8. 0. 0. 0. 0. 0. 0.]\n",
      " [0. 0. 9. 9. 0. 0. 0. 0. 0. 0.]]\n"
     ]
    },
    {
     "data": {
      "text/plain": [
       "array([[4., 4.],\n",
       "       [6., 6.],\n",
       "       [6., 6.],\n",
       "       [2., 2.]])"
      ]
     },
     "execution_count": 4,
     "metadata": {},
     "output_type": "execute_result"
    }
   ],
   "source": [
    "## REPLACE values\n",
    "arr_zeros2 = np.zeros([10,10])\n",
    "ii = arr_zeros2.shape[1]\n",
    "print(ii)\n",
    "for i in range(ii):\n",
    "    arr_zeros2[i][2:4] = i\n",
    "\n",
    "print(arr_zeros2)\n",
    "\n",
    "## (1)Reordering of the rows plus (2)Fancy indexing to subset\n",
    "arr_zeros2[[4,6,6,2]][:10,2:4]"
   ]
  },
  {
   "cell_type": "code",
   "execution_count": 92,
   "metadata": {},
   "outputs": [
    {
     "name": "stdout",
     "output_type": "stream",
     "text": [
      "[[ 1  2  3  4  5]\n",
      " [ 6  7  8  9 10]\n",
      " [11 12 13 14 15]\n",
      " [16 17 18 19 20]\n",
      " [21 22 23 24 25]\n",
      " [26 27 28 29 30]\n",
      " [31 32 33 34 35]\n",
      " [36 37 38 39 40]\n",
      " [41 42 43 44 45]\n",
      " [46 47 48 49 50]]\n",
      "(10, 5)\n",
      "[[ 1  6 11 16 21 26 31 36 41 46]\n",
      " [ 2  7 12 17 22 27 32 37 42 47]\n",
      " [ 3  8 13 18 23 28 33 38 43 48]\n",
      " [ 4  9 14 19 24 29 34 39 44 49]\n",
      " [ 5 10 15 20 25 30 35 40 45 50]]\n",
      "(5, 10)\n"
     ]
    }
   ],
   "source": [
    "\n",
    "## Create 2D array and transpose it\n",
    "arr = np.arange(1,51).reshape(10,5)\n",
    "print(arr)\n",
    "print(arr.shape)\n",
    "\n",
    "print(arr.T)\n",
    "print(arr.T.shape)"
   ]
  },
  {
   "cell_type": "code",
   "execution_count": 98,
   "metadata": {},
   "outputs": [
    {
     "name": "stdout",
     "output_type": "stream",
     "text": [
      "[[[ 1  2  3  4  5  6]\n",
      "  [ 7  8  9 10 11 12]\n",
      "  [13 14 15 16 17 18]\n",
      "  [19 20 21 22 23 24]\n",
      "  [25 26 27 28 29 30]]\n",
      "\n",
      " [[31 32 33 34 35 36]\n",
      "  [37 38 39 40 41 42]\n",
      "  [43 44 45 46 47 48]\n",
      "  [49 50 51 52 53 54]\n",
      "  [55 56 57 58 59 60]]]\n",
      "(2, 5, 6)\n",
      "[[[ 1 31]\n",
      "  [ 7 37]\n",
      "  [13 43]\n",
      "  [19 49]\n",
      "  [25 55]]\n",
      "\n",
      " [[ 2 32]\n",
      "  [ 8 38]\n",
      "  [14 44]\n",
      "  [20 50]\n",
      "  [26 56]]\n",
      "\n",
      " [[ 3 33]\n",
      "  [ 9 39]\n",
      "  [15 45]\n",
      "  [21 51]\n",
      "  [27 57]]\n",
      "\n",
      " [[ 4 34]\n",
      "  [10 40]\n",
      "  [16 46]\n",
      "  [22 52]\n",
      "  [28 58]]\n",
      "\n",
      " [[ 5 35]\n",
      "  [11 41]\n",
      "  [17 47]\n",
      "  [23 53]\n",
      "  [29 59]]\n",
      "\n",
      " [[ 6 36]\n",
      "  [12 42]\n",
      "  [18 48]\n",
      "  [24 54]\n",
      "  [30 60]]]\n",
      "(6, 5, 2)\n"
     ]
    }
   ],
   "source": [
    "## Create 3D array and transpose it\n",
    "arr = np.arange(1,61).reshape(2,5,6)\n",
    "print(arr)\n",
    "print(arr.shape)\n",
    "\n",
    "print(arr.T)\n",
    "print(arr.T.shape)"
   ]
  },
  {
   "cell_type": "code",
   "execution_count": 99,
   "metadata": {},
   "outputs": [
    {
     "name": "stdout",
     "output_type": "stream",
     "text": [
      "[[[ 0  1]\n",
      "  [ 2  3]\n",
      "  [ 4  5]\n",
      "  [ 6  7]\n",
      "  [ 8  9]]\n",
      "\n",
      " [[10 11]\n",
      "  [12 13]\n",
      "  [14 15]\n",
      "  [16 17]\n",
      "  [18 19]]\n",
      "\n",
      " [[20 21]\n",
      "  [22 23]\n",
      "  [24 25]\n",
      "  [26 27]\n",
      "  [28 29]]\n",
      "\n",
      " [[30 31]\n",
      "  [32 33]\n",
      "  [34 35]\n",
      "  [36 37]\n",
      "  [38 39]]\n",
      "\n",
      " [[40 41]\n",
      "  [42 43]\n",
      "  [44 45]\n",
      "  [46 47]\n",
      "  [48 49]]]\n",
      "(5, 5, 2)\n",
      "[[[ 0 10 20 30 40]\n",
      "  [ 2 12 22 32 42]\n",
      "  [ 4 14 24 34 44]\n",
      "  [ 6 16 26 36 46]\n",
      "  [ 8 18 28 38 48]]\n",
      "\n",
      " [[ 1 11 21 31 41]\n",
      "  [ 3 13 23 33 43]\n",
      "  [ 5 15 25 35 45]\n",
      "  [ 7 17 27 37 47]\n",
      "  [ 9 19 29 39 49]]]\n",
      "(2, 5, 5)\n"
     ]
    }
   ],
   "source": [
    "## Create 3D array and transpose it\n",
    "arr = np.arange(50).reshape(5,5,2)\n",
    "print(arr)\n",
    "print(arr.shape)\n",
    "\n",
    "print(arr.T)\n",
    "print(arr.T.shape)"
   ]
  },
  {
   "cell_type": "code",
   "execution_count": 105,
   "metadata": {},
   "outputs": [
    {
     "name": "stdout",
     "output_type": "stream",
     "text": [
      "[[[ 0  1  2  3  4]\n",
      "  [ 5  6  7  8  9]]\n",
      "\n",
      " [[10 11 12 13 14]\n",
      "  [15 16 17 18 19]]]\n",
      "(2, 2, 5)\n",
      "[[[ 0 10]\n",
      "  [ 5 15]]\n",
      "\n",
      " [[ 1 11]\n",
      "  [ 6 16]]\n",
      "\n",
      " [[ 2 12]\n",
      "  [ 7 17]]\n",
      "\n",
      " [[ 3 13]\n",
      "  [ 8 18]]\n",
      "\n",
      " [[ 4 14]\n",
      "  [ 9 19]]]\n",
      "(5, 2, 2)\n",
      "[[[ 0  1  2  3  4]\n",
      "  [10 11 12 13 14]]\n",
      "\n",
      " [[ 5  6  7  8  9]\n",
      "  [15 16 17 18 19]]]\n"
     ]
    }
   ],
   "source": [
    "## Create 3D array and transpose it\n",
    "arr = np.arange(20).reshape(2,2,5)\n",
    "print(arr)\n",
    "print(arr.shape)\n",
    "\n",
    "print(arr.T)\n",
    "print(arr.T.shape)\n",
    "# Swap Axes\n",
    "print(arr.swapaxes(0,1))"
   ]
  },
  {
   "cell_type": "code",
   "execution_count": 96,
   "metadata": {},
   "outputs": [
    {
     "name": "stdout",
     "output_type": "stream",
     "text": [
      "[-1.87917468  0.06168903  0.86532223 -1.16696018  0.09475538 -0.45985333\n",
      " -2.20915177 -0.53724244  0.21853817 -2.7303778 ]\n",
      "[ 0.30050892 -0.25560759  2.85397651  0.340507    1.1553761   0.7667338\n",
      "  0.05579276  0.77568795  1.87116096 -1.12012738]\n"
     ]
    },
    {
     "data": {
      "text/plain": [
       "array([ 0.30050892,  0.06168903,  2.85397651,  0.340507  ,  1.1553761 ,\n",
       "        0.7667338 ,  0.05579276,  0.77568795,  1.87116096, -1.12012738])"
      ]
     },
     "execution_count": 96,
     "metadata": {},
     "output_type": "execute_result"
    }
   ],
   "source": [
    "## Functions\n",
    "np.sqrt(arr)\n",
    "np.exp(arr)\n",
    "\n",
    "## binary functions (2 arrays involved)\n",
    "A = np.random.randn(10)\n",
    "B = np.random.randn(10)\n",
    "\n",
    "print(A)\n",
    "print(B)\n",
    "\n",
    "np.add(A,B) # gets the sum \n",
    "np.maximum(A,B) # gets the max"
   ]
  },
  {
   "cell_type": "markdown",
   "metadata": {},
   "source": [
    "##### Array processing"
   ]
  },
  {
   "cell_type": "code",
   "execution_count": 97,
   "metadata": {},
   "outputs": [],
   "source": [
    "import matplotlib.pyplot as plt\n",
    "%matplotlib inline ## to see inline in the notebook"
   ]
  },
  {
   "cell_type": "code",
   "execution_count": 108,
   "metadata": {},
   "outputs": [],
   "source": [
    "points = np.arange(-5,5,0.01)"
   ]
  },
  {
   "cell_type": "code",
   "execution_count": 110,
   "metadata": {},
   "outputs": [],
   "source": [
    "## Create a grid,\n",
    "# DX has the array going from -5 to +5 along rows\n",
    "# DY has the array going from -5 to +5 along columns\n",
    "\n",
    "dx,dy = np.meshgrid(points,points)"
   ]
  },
  {
   "cell_type": "code",
   "execution_count": 111,
   "metadata": {},
   "outputs": [
    {
     "data": {
      "text/plain": [
       "(1000, 1000)"
      ]
     },
     "execution_count": 111,
     "metadata": {},
     "output_type": "execute_result"
    }
   ],
   "source": [
    "dx.shape"
   ]
  },
  {
   "cell_type": "code",
   "execution_count": 131,
   "metadata": {},
   "outputs": [
    {
     "data": {
      "text/plain": [
       "-4.950000000000001"
      ]
     },
     "execution_count": 131,
     "metadata": {},
     "output_type": "execute_result"
    }
   ],
   "source": [
    "dy[5,10]"
   ]
  },
  {
   "cell_type": "code",
   "execution_count": 128,
   "metadata": {},
   "outputs": [
    {
     "data": {
      "text/plain": [
       "0.9824526126243321"
      ]
     },
     "execution_count": 128,
     "metadata": {},
     "output_type": "execute_result"
    }
   ],
   "source": [
    "np.sin(dx[5,10])"
   ]
  },
  {
   "cell_type": "code",
   "execution_count": 129,
   "metadata": {},
   "outputs": [
    {
     "data": {
      "text/plain": [
       "0.9719030694018206"
      ]
     },
     "execution_count": 129,
     "metadata": {},
     "output_type": "execute_result"
    }
   ],
   "source": [
    "np.sin(dy[5,10])"
   ]
  },
  {
   "cell_type": "code",
   "execution_count": 134,
   "metadata": {},
   "outputs": [
    {
     "data": {
      "text/plain": [
       "0.026885188695882745"
      ]
     },
     "execution_count": 134,
     "metadata": {},
     "output_type": "execute_result"
    }
   ],
   "source": [
    "z = (np.sin(dx) + np.sin(dy))\n",
    "\n",
    "z.shape\n",
    "\n",
    "z[380,0]"
   ]
  },
  {
   "cell_type": "code",
   "execution_count": 107,
   "metadata": {},
   "outputs": [
    {
     "data": {
      "text/plain": [
       "Text(0.5, 1.0, 'sin(X) + sin(Y)')"
      ]
     },
     "execution_count": 107,
     "metadata": {},
     "output_type": "execute_result"
    },
    {
     "data": {
      "image/png": "[encoded data removed]",
      "text/plain": [
       "<Figure size 432x288 with 2 Axes>"
      ]
     },
     "metadata": {
      "needs_background": "light"
     },
     "output_type": "display_data"
    }
   ],
   "source": [
    "plt.imshow(z)\n",
    "plt.colorbar()\n",
    "\n",
    "plt.title(\"sin(X) + sin(Y)\")"
   ]
  },
  {
   "cell_type": "code",
   "execution_count": 135,
   "metadata": {},
   "outputs": [],
   "source": [
    "## Choose between array using array of booleans\n",
    "A = np.array([1,2,3,4])\n",
    "B = np.array([100,200,300,400])\n",
    "condition = np.array([True, True, False, False])\n"
   ]
  },
  {
   "cell_type": "code",
   "execution_count": 137,
   "metadata": {},
   "outputs": [
    {
     "data": {
      "text/plain": [
       "{(1, 100), (2, 200), (3, 300), (4, 400)}"
      ]
     },
     "execution_count": 137,
     "metadata": {},
     "output_type": "execute_result"
    }
   ],
   "source": [
    "set(zip(A,B))"
   ]
  },
  {
   "cell_type": "code",
   "execution_count": 136,
   "metadata": {},
   "outputs": [
    {
     "data": {
      "text/plain": [
       "[1, 300, 2, 400]"
      ]
     },
     "execution_count": 136,
     "metadata": {},
     "output_type": "execute_result"
    }
   ],
   "source": [
    "answer = [(A_val if cond else B_val) for A_val,B_val,cond in set(zip(A,B,condition))]\n",
    "answer\n",
    "\n"
   ]
  },
  {
   "cell_type": "code",
   "execution_count": 138,
   "metadata": {},
   "outputs": [
    {
     "data": {
      "text/plain": [
       "array([  1,   2, 300, 400])"
      ]
     },
     "execution_count": 138,
     "metadata": {},
     "output_type": "execute_result"
    }
   ],
   "source": [
    "## The same can be done with NP.WHERE\n",
    "\n",
    "answer2 = np.where(condition, A, B)\n",
    "answer2\n"
   ]
  },
  {
   "cell_type": "code",
   "execution_count": 148,
   "metadata": {},
   "outputs": [
    {
     "data": {
      "text/plain": [
       "array([[ 0,  1,  2,  3],\n",
       "       [ 4,  5,  6,  7],\n",
       "       [ 8,  9, 10, 11]])"
      ]
     },
     "execution_count": 148,
     "metadata": {},
     "output_type": "execute_result"
    }
   ],
   "source": [
    "arr3"
   ]
  },
  {
   "cell_type": "code",
   "execution_count": 153,
   "metadata": {},
   "outputs": [
    {
     "data": {
      "text/plain": [
       "array([[ 0,  1, 22, 23],\n",
       "       [ 4,  5, 26, 27],\n",
       "       [ 8,  9, 30, 31]])"
      ]
     },
     "execution_count": 153,
     "metadata": {},
     "output_type": "execute_result"
    }
   ],
   "source": [
    "C = np.arange(12).reshape(3,4)\n",
    "D = C +20\n",
    "\n",
    "condition = np.array([True, True, False, False])\n",
    "answer3 = np.where(condition, C, D)\n",
    "answer3\n"
   ]
  },
  {
   "cell_type": "code",
   "execution_count": 154,
   "metadata": {},
   "outputs": [],
   "source": [
    "from numpy.random import randn"
   ]
  },
  {
   "cell_type": "code",
   "execution_count": 163,
   "metadata": {},
   "outputs": [],
   "source": [
    "arr_rnd = randn(20)\n",
    "\n",
    "arr_rnd = np.where(arr_rnd<0,\"NA\",arr_rnd)"
   ]
  },
  {
   "cell_type": "code",
   "execution_count": 162,
   "metadata": {},
   "outputs": [
    {
     "data": {
      "text/plain": [
       "1770"
      ]
     },
     "execution_count": 162,
     "metadata": {},
     "output_type": "execute_result"
    }
   ],
   "source": [
    "arr_3d2 = np.arange(60).reshape(6,5,2)\n",
    "arr_3d2.sum()\n"
   ]
  },
  {
   "cell_type": "code",
   "execution_count": 166,
   "metadata": {},
   "outputs": [
    {
     "data": {
      "text/plain": [
       "array([ True, False])"
      ]
     },
     "execution_count": 166,
     "metadata": {},
     "output_type": "execute_result"
    }
   ],
   "source": [
    "np.in1d([\"NA\",\"3\"],arr_rnd)"
   ]
  }
 ],
 "metadata": {
  "kernelspec": {
   "display_name": "Python 3",
   "language": "python",
   "name": "python3"
  },
  "language_info": {
   "codemirror_mode": {
    "name": "ipython",
    "version": 3
   },
   "file_extension": ".py",
   "mimetype": "text/x-python",
   "name": "python",
   "nbconvert_exporter": "python",
   "pygments_lexer": "ipython3",
   "version": "3.6.7"
  }
 },
 "nbformat": 4,
 "nbformat_minor": 2
}
