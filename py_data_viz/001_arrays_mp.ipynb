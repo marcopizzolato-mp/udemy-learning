{
 "cells": [
  {
   "cell_type": "code",
   "execution_count": null,
   "metadata": {},
   "outputs": [],
   "source": [
    "import numpy as np"
   ]
  },
  {
   "cell_type": "markdown",
   "metadata": {},
   "source": [
    "# Summary"
   ]
  },
  {
   "cell_type": "markdown",
   "metadata": {},
   "source": [
    "- range function\n",
    "- enumerate function\n",
    "- zip function\n",
    "- in function (value in dictionary or list)\n",
    "- comprehension\n",
    "- crea array\n",
    "- various on arrays"
   ]
  },
  {
   "cell_type": "code",
   "execution_count": null,
   "metadata": {},
   "outputs": [],
   "source": [
    "a1 = np.array(range(1,21,1))"
   ]
  },
  {
   "cell_type": "code",
   "execution_count": null,
   "metadata": {},
   "outputs": [],
   "source": [
    "a1.reshape(2,5,2)"
   ]
  },
  {
   "cell_type": "code",
   "execution_count": null,
   "metadata": {},
   "outputs": [],
   "source": [
    "a2 = a1.reshape(4,5) "
   ]
  },
  {
   "cell_type": "code",
   "execution_count": null,
   "metadata": {},
   "outputs": [],
   "source": [
    "a2.shape"
   ]
  },
  {
   "cell_type": "code",
   "execution_count": null,
   "metadata": {},
   "outputs": [],
   "source": [
    "# np.add(a2,a2) # gets the sum \n",
    "# np.maximum(a2,a2) # gets the max"
   ]
  },
  {
   "cell_type": "code",
   "execution_count": null,
   "metadata": {},
   "outputs": [],
   "source": []
  },
  {
   "cell_type": "code",
   "execution_count": null,
   "metadata": {},
   "outputs": [],
   "source": []
  },
  {
   "cell_type": "code",
   "execution_count": null,
   "metadata": {},
   "outputs": [],
   "source": []
  },
  {
   "cell_type": "code",
   "execution_count": null,
   "metadata": {},
   "outputs": [],
   "source": []
  },
  {
   "cell_type": "markdown",
   "metadata": {},
   "source": [
    "# Development"
   ]
  },
  {
   "cell_type": "markdown",
   "metadata": {},
   "source": [
    "Range"
   ]
  },
  {
   "cell_type": "code",
   "execution_count": null,
   "metadata": {},
   "outputs": [],
   "source": [
    "### Range: generates numbers START/END/STEP\n",
    "# Range is a generator, it needs to be casted in a list\n",
    "list(range(4,21,2))"
   ]
  },
  {
   "cell_type": "markdown",
   "metadata": {},
   "source": [
    "Enumerate"
   ]
  },
  {
   "cell_type": "code",
   "execution_count": null,
   "metadata": {},
   "outputs": [],
   "source": [
    "### Enumerate: to go through elements in list using count.\n",
    "# It returns tuples\n",
    "word = \"abcde\"\n",
    "for item in enumerate(word):\n",
    "    print (item)\n",
    "    \n",
    "for item, letter in enumerate(word):\n",
    "    print(item)\n",
    "    print(letter)"
   ]
  },
  {
   "cell_type": "markdown",
   "metadata": {},
   "source": [
    "Zip function"
   ]
  },
  {
   "cell_type": "code",
   "execution_count": null,
   "metadata": {},
   "outputs": [],
   "source": [
    "### Zip list: generates tuples with objects from each list\n",
    "\n",
    "my_list1 = [1,2,3]\n",
    "my_list2 = ['a','b','c']\n",
    "zipped = set(zip(my_list1, my_list2))\n",
    "print(zipped)\n",
    "\n",
    "for a in zipped:\n",
    "    print(a[0])\n",
    "    print(a[1])"
   ]
  },
  {
   "cell_type": "markdown",
   "metadata": {},
   "source": [
    "Value in dictionary"
   ]
  },
  {
   "cell_type": "code",
   "execution_count": null,
   "metadata": {},
   "outputs": [],
   "source": [
    "### IN: check if the value is in a list or a dictionary.\n",
    "\n",
    "*** in d.values()\n",
    "*** in d.keys()\n",
    "#-- not run --"
   ]
  },
  {
   "cell_type": "markdown",
   "metadata": {},
   "source": [
    "Comprehension"
   ]
  },
  {
   "cell_type": "code",
   "execution_count": null,
   "metadata": {},
   "outputs": [],
   "source": [
    "### Comprehension: instead of separating a list with FOR - LOOP\n",
    "my_list3 = []\n",
    "for letter in 'world':\n",
    "    my_list3.append(letter)\n",
    "print(my_list3)\n",
    "\n",
    "my_list4 = [x for x in 'World']\n",
    "print(my_list4)\n",
    "\n",
    "## Temperature changer\n",
    "celsius = [-100, -60, -40, -20, -10, 0, 10, 20, 25, 40, 50, 100]\n",
    "\n",
    "farenheight = [((9/5)*x+32) for x in celsius]\n",
    "\n",
    "array = np.array([celsius, farenheight])\n",
    "print(array)\n",
    "\n",
    "zipped = set(zip(celsius, farenheight))\n",
    "print(sorted(zipped))"
   ]
  },
  {
   "cell_type": "markdown",
   "metadata": {},
   "source": [
    "Numpy Array"
   ]
  },
  {
   "cell_type": "code",
   "execution_count": null,
   "metadata": {},
   "outputs": [],
   "source": [
    "## create an array\n",
    "print(\"create array:\")\n",
    "array = np.arange(1,11,2)\n",
    "print(array)\n",
    "\n",
    "print(\"2d array:\")\n",
    "array_2d = np.array(([1,2,3,9],[4,5,6,9],[7,8,9,9]))\n",
    "print(array_2d)\n",
    "print(array_2d.shape)\n",
    "print(array_2d.dtype)\n",
    "\n",
    "# Create an array of zeros, ones and empty given the dimension\n",
    "zeros_array = np.zeros([5,3])\n",
    "print(zeros_array)\n",
    "ones_array = np.ones([2,2])\n",
    "print(ones_array)\n",
    "empty_array = np.empty(6).round(1)\n",
    "print(empty_array)\n",
    "eye_array = np.eye(7)\n",
    "print(eye_array)"
   ]
  },
  {
   "cell_type": "code",
   "execution_count": null,
   "metadata": {},
   "outputs": [],
   "source": [
    "## Operations with arrays <- are quite straight forward\n",
    "ones_array * 5"
   ]
  },
  {
   "cell_type": "code",
   "execution_count": null,
   "metadata": {},
   "outputs": [],
   "source": [
    "print(array_2d)"
   ]
  },
  {
   "cell_type": "code",
   "execution_count": null,
   "metadata": {},
   "outputs": [],
   "source": [
    "print(\"create array:\")\n",
    "array = np.arange(1,11,1)\n",
    "print(array)\n",
    "\n",
    "# Slice with start and end point\n",
    "print(array[0:3])\n",
    "print(array[3:5])\n",
    "print(array[5:])\n",
    "\n",
    "# Select ALL the array <- keep the column\n",
    "print(array[:])\n",
    "\n",
    "print(\"slice array:\")\n",
    "print(\n",
    "array_2d[:,2:]\n",
    ")"
   ]
  },
  {
   "cell_type": "code",
   "execution_count": null,
   "metadata": {},
   "outputs": [],
   "source": [
    "print(\"2d array:\")\n",
    "array_2d = np.array(([1,2,3,4],[5,6,7,8],[9,10,11,12]))\n",
    "print(array_2d)\n",
    "# Selecting Row or Column ARRAY[ROW][COLUMN]\n",
    "# Selecting one row\n",
    "print(array_2d[0][2:])\n",
    "\n",
    "# Selecting one value\n",
    "print(array_2d[2][2])\n",
    "\n",
    "print(\"slice array:\")\n",
    "print(array_2d[:3,1:2])\n"
   ]
  },
  {
   "cell_type": "code",
   "execution_count": null,
   "metadata": {},
   "outputs": [],
   "source": [
    "## REPLACE values\n",
    "arr_zeros2 = np.zeros([10,10])\n",
    "ii = arr_zeros2.shape[1]\n",
    "print(ii)\n",
    "for i in range(ii):\n",
    "    arr_zeros2[i][2:4] = i\n",
    "\n",
    "print(arr_zeros2)\n",
    "\n",
    "## (1)Reordering of the rows plus (2)Fancy indexing to subset\n",
    "arr_zeros2[[4,6,6,2]][:10,2:4]"
   ]
  },
  {
   "cell_type": "code",
   "execution_count": null,
   "metadata": {},
   "outputs": [],
   "source": [
    "\n",
    "## Create 2D array and transpose it\n",
    "arr = np.arange(1,51).reshape(10,5)\n",
    "print(arr)\n",
    "print(arr.shape)\n",
    "\n",
    "print(arr.T)\n",
    "print(arr.T.shape)"
   ]
  },
  {
   "cell_type": "code",
   "execution_count": null,
   "metadata": {},
   "outputs": [],
   "source": [
    "## Create 3D array and transpose it\n",
    "arr = np.arange(1,61).reshape(2,5,6)\n",
    "print(arr)\n",
    "print(arr.shape)\n",
    "\n",
    "print(arr.T)\n",
    "print(arr.T.shape)"
   ]
  },
  {
   "cell_type": "code",
   "execution_count": null,
   "metadata": {},
   "outputs": [],
   "source": [
    "## Create 3D array and transpose it\n",
    "arr = np.arange(50).reshape(5,5,2)\n",
    "print(arr)\n",
    "print(arr.shape)\n",
    "\n",
    "print(arr.T)\n",
    "print(arr.T.shape)"
   ]
  },
  {
   "cell_type": "code",
   "execution_count": null,
   "metadata": {},
   "outputs": [],
   "source": [
    "## Create 3D array and transpose it\n",
    "arr = np.arange(20).reshape(2,2,5)\n",
    "print(arr)\n",
    "print(arr.shape)\n",
    "\n",
    "print(arr.T)\n",
    "print(arr.T.shape)\n",
    "# Swap Axes\n",
    "print(arr.swapaxes(0,1))"
   ]
  },
  {
   "cell_type": "code",
   "execution_count": null,
   "metadata": {},
   "outputs": [],
   "source": [
    "## Functions\n",
    "np.sqrt(arr)\n",
    "np.exp(arr)\n",
    "\n",
    "## binary functions (2 arrays involved)\n",
    "A = np.random.randn(10)\n",
    "B = np.random.randn(10)\n",
    "\n",
    "print(A)\n",
    "print(B)\n",
    "\n",
    "np.add(A,B) # gets the sum \n",
    "np.maximum(A,B) # gets the max"
   ]
  },
  {
   "cell_type": "markdown",
   "metadata": {},
   "source": [
    "##### Array processing"
   ]
  },
  {
   "cell_type": "code",
   "execution_count": null,
   "metadata": {},
   "outputs": [],
   "source": [
    "import matplotlib.pyplot as plt\n",
    "%matplotlib inline ## to see inline in the notebook"
   ]
  },
  {
   "cell_type": "code",
   "execution_count": null,
   "metadata": {},
   "outputs": [],
   "source": [
    "points = np.arange(-5,5,0.01)"
   ]
  },
  {
   "cell_type": "code",
   "execution_count": null,
   "metadata": {},
   "outputs": [],
   "source": [
    "## Create a grid,\n",
    "# DX has the array going from -5 to +5 along rows\n",
    "# DY has the array going from -5 to +5 along columns\n",
    "\n",
    "dx,dy = np.meshgrid(points,points)"
   ]
  },
  {
   "cell_type": "code",
   "execution_count": null,
   "metadata": {},
   "outputs": [],
   "source": [
    "dx.shape"
   ]
  },
  {
   "cell_type": "code",
   "execution_count": null,
   "metadata": {},
   "outputs": [],
   "source": [
    "dy[5,10]"
   ]
  },
  {
   "cell_type": "code",
   "execution_count": null,
   "metadata": {},
   "outputs": [],
   "source": [
    "np.sin(dx[5,10])"
   ]
  },
  {
   "cell_type": "code",
   "execution_count": null,
   "metadata": {},
   "outputs": [],
   "source": [
    "np.sin(dy[5,10])"
   ]
  },
  {
   "cell_type": "code",
   "execution_count": null,
   "metadata": {},
   "outputs": [],
   "source": [
    "z = (np.sin(dx) + np.sin(dy))\n",
    "\n",
    "z.shape\n",
    "\n",
    "z[380,0]"
   ]
  },
  {
   "cell_type": "code",
   "execution_count": null,
   "metadata": {},
   "outputs": [],
   "source": [
    "plt.imshow(z)\n",
    "plt.colorbar()\n",
    "\n",
    "plt.title(\"sin(X) + sin(Y)\")"
   ]
  },
  {
   "cell_type": "code",
   "execution_count": null,
   "metadata": {},
   "outputs": [],
   "source": [
    "## Choose between array using array of booleans\n",
    "A = np.array([1,2,3,4])\n",
    "B = np.array([100,200,300,400])\n",
    "condition = np.array([True, True, False, False])\n"
   ]
  },
  {
   "cell_type": "code",
   "execution_count": null,
   "metadata": {},
   "outputs": [],
   "source": [
    "set(zip(A,B))"
   ]
  },
  {
   "cell_type": "code",
   "execution_count": null,
   "metadata": {},
   "outputs": [],
   "source": [
    "answer = [(A_val if cond else B_val) for A_val,B_val,cond in set(zip(A,B,condition))]\n",
    "answer\n",
    "\n"
   ]
  },
  {
   "cell_type": "code",
   "execution_count": null,
   "metadata": {},
   "outputs": [],
   "source": [
    "## The same can be done with NP.WHERE\n",
    "\n",
    "answer2 = np.where(condition, A, B)\n",
    "answer2\n"
   ]
  },
  {
   "cell_type": "code",
   "execution_count": null,
   "metadata": {},
   "outputs": [],
   "source": [
    "arr3"
   ]
  },
  {
   "cell_type": "code",
   "execution_count": null,
   "metadata": {},
   "outputs": [],
   "source": [
    "C = np.arange(12).reshape(3,4)\n",
    "D = C +20\n",
    "\n",
    "condition = np.array([True, True, False, False])\n",
    "answer3 = np.where(condition, C, D)\n",
    "answer3\n"
   ]
  },
  {
   "cell_type": "code",
   "execution_count": null,
   "metadata": {},
   "outputs": [],
   "source": [
    "from numpy.random import randn"
   ]
  },
  {
   "cell_type": "code",
   "execution_count": null,
   "metadata": {},
   "outputs": [],
   "source": [
    "arr_rnd = randn(20)\n",
    "\n",
    "arr_rnd = np.where(arr_rnd<0,\"NA\",arr_rnd)"
   ]
  },
  {
   "cell_type": "code",
   "execution_count": null,
   "metadata": {},
   "outputs": [],
   "source": [
    "arr_3d2 = np.arange(60).reshape(6,5,2)\n",
    "arr_3d2.sum()\n"
   ]
  },
  {
   "cell_type": "code",
   "execution_count": null,
   "metadata": {},
   "outputs": [],
   "source": [
    "np.in1d([\"NA\",\"3\"],arr_rnd)"
   ]
  }
 ],
 "metadata": {
  "kernelspec": {
   "display_name": "Python 3 (ipykernel)",
   "language": "python",
   "name": "python3"
  },
  "language_info": {
   "codemirror_mode": {
    "name": "ipython",
    "version": 3
   },
   "file_extension": ".py",
   "mimetype": "text/x-python",
   "name": "python",
   "nbconvert_exporter": "python",
   "pygments_lexer": "ipython3",
   "version": "3.7.11"
  }
 },
 "nbformat": 4,
 "nbformat_minor": 4
}
