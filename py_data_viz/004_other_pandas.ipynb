{
 "cells": [
  {
   "cell_type": "code",
   "execution_count": null,
   "metadata": {},
   "outputs": [],
   "source": [
    "import numpy as np\n",
    "import pandas as pd\n",
    "from pandas import Series, DataFrame\n",
    "\n",
    "from numpy.random import randn\n",
    "from numpy.random import randint\n",
    "from pathlib import Path\n",
    "import os"
   ]
  },
  {
   "cell_type": "markdown",
   "metadata": {},
   "source": [
    "Other resources   \n",
    "https://www.skytowner.com/explore/pandas_dataframe_equals_method\n",
    "\n",
    "https://datatofish.com/descriptive-statistics-pandas/"
   ]
  },
  {
   "cell_type": "markdown",
   "metadata": {},
   "source": [
    "# Summary"
   ]
  },
  {
   "cell_type": "markdown",
   "metadata": {},
   "source": [
    "- Re-indexing\n",
    "- Drop entry\n",
    "- Selecting entries\n",
    "- Data alignment\n",
    "- Rank and sort\n",
    "- Summary statistics\n",
    "- Missing data\n",
    "- Index hierarchy"
   ]
  },
  {
   "cell_type": "code",
   "execution_count": null,
   "metadata": {},
   "outputs": [],
   "source": [
    "csv_file = os.path.join(Path().resolve(), 'textdata_in_mp003.csv')\n",
    "df = pd.read_csv(csv_file)\n",
    "df"
   ]
  },
  {
   "cell_type": "code",
   "execution_count": null,
   "metadata": {},
   "outputs": [],
   "source": [
    "df.reindex([1,1,0,1,'a'],columns = ['Won','Lost','Won','Mana'], fill_value='suka')"
   ]
  },
  {
   "cell_type": "code",
   "execution_count": null,
   "metadata": {},
   "outputs": [],
   "source": [
    "df2 = df.iloc[0:5,[1,3,4,5]]\n",
    "df2['ratio'] = round(df2['Won']/df2['Lost'],2)\n",
    "df2"
   ]
  },
  {
   "cell_type": "code",
   "execution_count": null,
   "metadata": {},
   "outputs": [],
   "source": [
    "df2.drop(index = [2,3], columns = ['Won','Lost'])"
   ]
  },
  {
   "cell_type": "code",
   "execution_count": null,
   "metadata": {},
   "outputs": [],
   "source": [
    "df2.drop(index = [2,3])"
   ]
  },
  {
   "cell_type": "code",
   "execution_count": null,
   "metadata": {},
   "outputs": [],
   "source": [
    "df2.loc[0:3, ['Won']]"
   ]
  },
  {
   "cell_type": "code",
   "execution_count": null,
   "metadata": {},
   "outputs": [],
   "source": [
    "df2.describe(include='all')"
   ]
  },
  {
   "cell_type": "code",
   "execution_count": null,
   "metadata": {},
   "outputs": [],
   "source": []
  },
  {
   "cell_type": "markdown",
   "metadata": {},
   "source": [
    "# Development"
   ]
  },
  {
   "cell_type": "markdown",
   "metadata": {},
   "source": [
    "Series re-indexing"
   ]
  },
  {
   "cell_type": "code",
   "execution_count": null,
   "metadata": {},
   "outputs": [],
   "source": [
    "# Re-indexing\n",
    "ser1 = Series([1,2,3,4], index = ['A','B','C','D'])\n",
    "print(ser1)\n",
    "\n",
    "# Re-index adding an index that is not existing --> filled with NaN\n",
    "ser2 = ser1.reindex(['A','B','C','D','novalue'])\n",
    "print(ser2)\n",
    "\n",
    "# re-index with two indexes that are not existing with \"fill_value\"\n",
    "ser3 = ser1.reindex(['A','B','C','D','novalue','fillwithzero'], fill_value = 0)\n",
    "print(ser3)"
   ]
  },
  {
   "cell_type": "markdown",
   "metadata": {},
   "source": [
    "Forward filling"
   ]
  },
  {
   "cell_type": "code",
   "execution_count": null,
   "metadata": {},
   "outputs": [],
   "source": [
    "# Method to FORWARD fill an index using a sereis \n",
    "ser3 = Series(['USA','CAN','MEX'], index=[0,3,7])\n",
    "print(ser3)\n",
    "\n",
    "# Create a range of positions to fill\n",
    "ranger = list(range(12))\n",
    "print(type(ranger))\n",
    "# Foward fill the positions using forward-fill\n",
    "ser3.reindex(ranger,method='ffill')"
   ]
  },
  {
   "cell_type": "markdown",
   "metadata": {},
   "source": [
    "DataFrame "
   ]
  },
  {
   "cell_type": "code",
   "execution_count": null,
   "metadata": {},
   "outputs": [],
   "source": [
    "# Create dataframe with columns and index names\n",
    "dframe = DataFrame(randn(25).reshape(5,5),index=['row1','row2','row3','row5','row6'],columns=['col1','col2','col3','col4','col5'])\n",
    "print(dframe)\n",
    "\n",
    "# Reindex ROWS of the dataframe (row4 is NA)\n",
    "dframe2 = dframe.reindex(['row1','row2','row3','row4','row5','row6'])\n",
    "print(dframe2)\n",
    "\n",
    "# Reindex COL of the dataframe (col6 is NA)\n",
    "dframe3 = dframe2.reindex(columns=['col1','col2','col3','col4','col5','col6'])\n",
    "print(dframe3)\n",
    "\n",
    "# Reindex ROWS and COL of the dataframe (row4 and col6 are NA)\n",
    "dframe4 = dframe.reindex(['row1','row2','row3','row4','row5','row6'],columns=['col1','col2','col3','col4','col5','col6'])\n",
    "print(dframe4)"
   ]
  },
  {
   "cell_type": "markdown",
   "metadata": {},
   "source": [
    "Drop Entry"
   ]
  },
  {
   "cell_type": "code",
   "execution_count": null,
   "metadata": {},
   "outputs": [],
   "source": [
    "# Subset the Pandas Dataframe to have a Series\n",
    "\n",
    "row_series = dframe.iloc[1]\n",
    "# print(type(row_series))\n",
    "# print(row_series)\n",
    "\n",
    "col_series = dframe.iloc[:,1]\n",
    "# print(type(col_series))\n",
    "# print(col_series)\n",
    " \n",
    "# Drop the row the series that correspond ot an index\n",
    "print(row_series.drop('col1'))\n",
    "print(col_series.drop('row2'))\n",
    "\n",
    "# Drop \n",
    "print(dframe.drop(['col1'], axis=1))\n",
    "print(dframe.drop(['row2'], axis=0))\n"
   ]
  },
  {
   "cell_type": "markdown",
   "metadata": {},
   "source": [
    "Data alignment"
   ]
  },
  {
   "cell_type": "code",
   "execution_count": null,
   "metadata": {},
   "outputs": [],
   "source": [
    "# Use of .add and fill_value\n",
    "dframe1 = DataFrame(np.arange(0,25,1).reshape(5,5),index=['row1','row2','row3','row4','row6'],columns=['col1','col2','col3','col4','col5'])\n",
    "print(dframe1)\n",
    "dframe2 = DataFrame(np.arange(0,16,1).reshape(4,4),index=['row1','row2','row3','row4'],columns=['col1','col2','col3','col4'])\n",
    "print(dframe2)\n",
    "\n",
    "# Leaves NaN\n",
    "print(dframe1 + dframe2)\n",
    "\n",
    "# Add zeros where the column is not available\n",
    "print(dframe2.add(dframe1, fill_value=0))\n",
    "print(dframe1.add(dframe2, fill_value=0))"
   ]
  },
  {
   "cell_type": "code",
   "execution_count": null,
   "metadata": {},
   "outputs": [],
   "source": [
    "# Extract Series from above dataframe\n",
    "row_series = dframe1.iloc[1]\n",
    "print(row_series)\n",
    "\n",
    "col_series = dframe1.iloc[:,1]\n",
    "print(col_series)"
   ]
  },
  {
   "cell_type": "code",
   "execution_count": null,
   "metadata": {},
   "outputs": [],
   "source": [
    "# Sum between dataframe and series\n",
    "print(dframe1)\n",
    "print(row_series.name)\n",
    "print(row_series)\n",
    "print(dframe1 + row_series)\n",
    "print(col_series)\n",
    "print(dframe1.add(col_series), fill_value = 0)"
   ]
  },
  {
   "cell_type": "markdown",
   "metadata": {},
   "source": [
    "### Sorting"
   ]
  },
  {
   "cell_type": "code",
   "execution_count": null,
   "metadata": {},
   "outputs": [],
   "source": [
    "# Extract Series from above dataframe\n",
    "row_series = dframe1.iloc[1]\n",
    "print(row_series)\n",
    "\n",
    "col_series = dframe1.iloc[:,1]\n",
    "print(col_series)"
   ]
  },
  {
   "cell_type": "code",
   "execution_count": null,
   "metadata": {},
   "outputs": [],
   "source": [
    "# Sort values\n",
    "print(row_series.sort_values(ascending=True))\n",
    "# Sort index\n",
    "print(row_series.sort_index())\n",
    "# Rank\n",
    "print(row_series.rank())"
   ]
  },
  {
   "cell_type": "markdown",
   "metadata": {},
   "source": [
    "Descriptive Statistics"
   ]
  },
  {
   "cell_type": "code",
   "execution_count": null,
   "metadata": {},
   "outputs": [],
   "source": [
    "arr = np.array([[1,2,np.nan],[np.nan,5,6]])\n",
    "print(arr)\n",
    "dfame1 = DataFrame(arr,index = ['A','B'], columns=['one','two','three'])\n",
    "print(dfame1)"
   ]
  },
  {
   "cell_type": "code",
   "execution_count": null,
   "metadata": {},
   "outputs": [],
   "source": [
    "# Sum Rows\n",
    "print(dfame1.sum(axis=1))\n",
    "# sum col\n",
    "print(dfame1.sum(axis=0))"
   ]
  },
  {
   "cell_type": "code",
   "execution_count": null,
   "metadata": {},
   "outputs": [],
   "source": [
    "# Min value Rows\n",
    "print(dfame1.min(axis=1))\n",
    "# Min value col\n",
    "print(dfame1.min(axis=0))\n",
    "\n",
    "# Index of Min value Rows\n",
    "print(dfame1.idxmin(axis=1))\n",
    "# Index of Min value col\n",
    "print(dfame1.idxmin(axis=0))"
   ]
  },
  {
   "cell_type": "code",
   "execution_count": null,
   "metadata": {},
   "outputs": [],
   "source": [
    "dfame1.describe()"
   ]
  },
  {
   "cell_type": "code",
   "execution_count": null,
   "metadata": {},
   "outputs": [],
   "source": [
    "from IPython.display import YouTubeVideo\n",
    "# For more information about Covariance and Correlation\n",
    "# Check out these great videos!\n",
    "# Video credit: Brandon Foltz.\n",
    "\n",
    "#CoVariance\n",
    "YouTubeVideo('xGbpuFNR1ME')\n",
    "\n"
   ]
  },
  {
   "cell_type": "code",
   "execution_count": null,
   "metadata": {},
   "outputs": [],
   "source": [
    "#Correlation\n",
    "YouTubeVideo('4EXNedimDMs')"
   ]
  },
  {
   "cell_type": "markdown",
   "metadata": {},
   "source": [
    "### Covariance - Correlation "
   ]
  },
  {
   "cell_type": "code",
   "execution_count": null,
   "metadata": {},
   "outputs": [],
   "source": [
    "# TBD"
   ]
  },
  {
   "cell_type": "markdown",
   "metadata": {},
   "source": [
    "### Missing Data"
   ]
  },
  {
   "cell_type": "code",
   "execution_count": null,
   "metadata": {},
   "outputs": [],
   "source": [
    "data = Series(['one','two',np.nan,'four'])\n",
    "data"
   ]
  },
  {
   "cell_type": "code",
   "execution_count": null,
   "metadata": {},
   "outputs": [],
   "source": [
    "# Method to spot NA\n",
    "data.isnull()\n",
    "# Method to drop NA\n",
    "data.dropna()"
   ]
  },
  {
   "cell_type": "code",
   "execution_count": null,
   "metadata": {},
   "outputs": [],
   "source": [
    "# In a DataFrame we need to be a little more careful!\n",
    "dframe = DataFrame([[0.0,0.25,0.5,0.75,1.0],[1.0,2,3,1,np.nan],[2,5,6,np.nan,np.nan],[np.nan,np.nan,np.nan,np.nan,np.nan],[4,np.nan,np.nan,np.nan,np.nan]])\n",
    "print(dframe)\n",
    "\n",
    "# Removes ALL rows that contains ONE OR MORE\n",
    "# print(dframe.dropna())  \n",
    "\n",
    "# Remove only ROWS with ALL NAs\n",
    "# print(dframe.dropna(how='all')) \n",
    "\n",
    "# Remove only COLS with ALL NAs\n",
    "# print(dframe.dropna(axis =1, how='all'))\n",
    "\n",
    "\n",
    "# # Remove only ROWS with ALL NAs\n",
    "print(dframe.dropna(thresh=2)) \n",
    "\n",
    "# # Remove only COLS with more than 2 NaN\n",
    "print(dframe.dropna(axis=1, thresh=2))"
   ]
  },
  {
   "cell_type": "code",
   "execution_count": null,
   "metadata": {},
   "outputs": [],
   "source": [
    "# FILL NAs\n",
    "print(dframe.fillna(100))\n",
    "\n",
    "# FILL NAs with dictionary\n",
    "print(dframe.fillna({0:110,1:111,2:112,3:113}))"
   ]
  },
  {
   "cell_type": "markdown",
   "metadata": {},
   "source": [
    "### Index Hyerarchy"
   ]
  },
  {
   "cell_type": "code",
   "execution_count": null,
   "metadata": {},
   "outputs": [],
   "source": [
    "# Use of .add and fill_value\n",
    "dframe1 = DataFrame(np.arange(0,25,1).reshape(5,5),index=[[1,1,1,2,2],['row1','row2','row3','row4','row6']],columns=[[1,1,1,2,2],['col1','col2','col3','col4','col5']])\n",
    "print(dframe1)"
   ]
  },
  {
   "cell_type": "code",
   "execution_count": null,
   "metadata": {},
   "outputs": [],
   "source": [
    "# sort by index --> Not covered\n"
   ]
  },
  {
   "cell_type": "code",
   "execution_count": null,
   "metadata": {},
   "outputs": [],
   "source": [
    "# Name Indexes\n",
    "# Name row index\n",
    "dframe1.index.names = ['row_idx_1','row_idx_2']\n",
    "print(dframe1)\n",
    "\n",
    "# Name column index\n",
    "dframe1.columns.names = ['col_idx_1','col_idx_2']\n",
    "print(dframe1)\n",
    "\n",
    "# Swap level\n",
    "dframe1.swaplevel('col_idx_1','col_idx_2', axis=1)\n",
    "dframe1.swaplevel('row_idx_1','row_idx_2', axis=0)\n",
    "\n",
    "\n",
    "# Opration at specific level\n",
    "dframe1.sum(level='col_idx_1', axis=1)\n",
    "dframe1.sum(level='row_idx_1', axis=0)"
   ]
  },
  {
   "cell_type": "markdown",
   "metadata": {},
   "source": [
    "# SUMMARY - RECAP"
   ]
  },
  {
   "cell_type": "markdown",
   "metadata": {},
   "source": [
    "- Re-indexing\n",
    "- Drop entry\n",
    "- Selecting entries\n",
    "- Data alignment\n",
    "- Rank and sort (sort_value;  sort_index;  see rank vaue)\n",
    "- Summary statistics (sum, min, max, descriptive Stats)\n",
    "- Missing data (dropna, fillna)\n",
    "- Index hierarchy"
   ]
  },
  {
   "cell_type": "code",
   "execution_count": null,
   "metadata": {},
   "outputs": [],
   "source": []
  },
  {
   "cell_type": "code",
   "execution_count": null,
   "metadata": {},
   "outputs": [],
   "source": []
  },
  {
   "cell_type": "code",
   "execution_count": null,
   "metadata": {},
   "outputs": [],
   "source": []
  }
 ],
 "metadata": {
  "kernelspec": {
   "display_name": "Python 3 (ipykernel)",
   "language": "python",
   "name": "python3"
  },
  "language_info": {
   "codemirror_mode": {
    "name": "ipython",
    "version": 3
   },
   "file_extension": ".py",
   "mimetype": "text/x-python",
   "name": "python",
   "nbconvert_exporter": "python",
   "pygments_lexer": "ipython3",
   "version": "3.7.11"
  }
 },
 "nbformat": 4,
 "nbformat_minor": 4
}
