{
 "cells": [
  {
   "cell_type": "code",
   "execution_count": null,
   "metadata": {},
   "outputs": [],
   "source": [
    "import numpy as np\n",
    "import pandas as pd\n",
    "from pandas import Series, DataFrame\n",
    "from pathlib import Path\n",
    "import os"
   ]
  },
  {
   "cell_type": "markdown",
   "metadata": {},
   "source": [
    "https://pandas.pydata.org/pandas-docs/stable/reference/api/pandas.Series.reindex.html"
   ]
  },
  {
   "cell_type": "markdown",
   "metadata": {},
   "source": [
    "# Summary"
   ]
  },
  {
   "cell_type": "markdown",
   "metadata": {},
   "source": [
    "- See the columns names\n",
    "- See index\n",
    "- See column with a specific name\n",
    "- Replace a value in the entire column\n",
    "- Subset dataframe with column names + non existing\n",
    "- Replace values in the Dataframe using a seies --> matching by index\n",
    "- From DICTIONARY TO PANDAS\n",
    "\n",
    "data.iloc[row selction, column_selection]   \n",
    "- case-1    integer list [1,2,3]    \n",
    "- case-2    slice of rows [4:7]    \n",
    "- case-3    single value 1    \n",
    "    \n",
    "data.loc[row selction, column_selection]   \n",
    "- case-4    index/label value , column name    \n",
    "- case-5    list of labels    , list of clumn names    \n",
    "- case-6    logic on the row values , slice of columns    "
   ]
  },
  {
   "cell_type": "code",
   "execution_count": null,
   "metadata": {},
   "outputs": [],
   "source": [
    "# Load dataset\n",
    "\n",
    "Path().resolve()\n",
    "path_dataset = os.path.join(Path().resolve(),'textdata_in_mp003.csv')\n",
    "df = pd.read_csv(path_dataset)"
   ]
  },
  {
   "cell_type": "code",
   "execution_count": null,
   "metadata": {},
   "outputs": [],
   "source": [
    "da = DataFrame(df, columns = ['GP','Lost','xx'])\n",
    "da"
   ]
  },
  {
   "cell_type": "code",
   "execution_count": null,
   "metadata": {},
   "outputs": [],
   "source": [
    "a = Series([\"suca\", 'baruca'], index = [1,4])"
   ]
  },
  {
   "cell_type": "code",
   "execution_count": null,
   "metadata": {},
   "outputs": [],
   "source": [
    "da['xx'] = a\n",
    "da"
   ]
  },
  {
   "cell_type": "code",
   "execution_count": null,
   "metadata": {},
   "outputs": [],
   "source": [
    "# Select one row\n",
    "# da.iloc[[1]]\n",
    "\n",
    "# Select two rows\n",
    "# da.iloc[[2,1],[2,1]]\n",
    "\n",
    "# Select one column\n",
    "da.iloc[:,[1]]\n",
    "\n",
    "# Select multiple row columns\n",
    "\n"
   ]
  },
  {
   "cell_type": "code",
   "execution_count": null,
   "metadata": {},
   "outputs": [],
   "source": []
  },
  {
   "cell_type": "code",
   "execution_count": null,
   "metadata": {},
   "outputs": [],
   "source": []
  },
  {
   "cell_type": "code",
   "execution_count": null,
   "metadata": {},
   "outputs": [],
   "source": []
  },
  {
   "cell_type": "code",
   "execution_count": null,
   "metadata": {},
   "outputs": [],
   "source": []
  },
  {
   "cell_type": "markdown",
   "metadata": {},
   "source": [
    "# Development"
   ]
  },
  {
   "cell_type": "code",
   "execution_count": null,
   "metadata": {},
   "outputs": [],
   "source": [
    "#Now we'll learn DataFrames\n",
    "\n",
    "#Let's get some data to play with. How about the NFL?\n",
    "import webbrowser\n",
    "website = 'http://en.wikipedia.org/wiki/NFL_win-loss_records'\n",
    "webbrowser.open(website)"
   ]
  },
  {
   "cell_type": "code",
   "execution_count": null,
   "metadata": {},
   "outputs": [],
   "source": [
    "# This was the origna surce of data\n",
    "# nfl_frame = pd.read_clipboard()\n",
    "root_dir = Path().resolve().parent\n",
    "this_dir = Path().resolve()\n",
    "# print(root_dir)\n",
    "print(this_dir)\n",
    "filepath = os.path.join(this_dir,'textdata_in_mp003.csv')\n",
    "nfl_frame = pd.read_csv(filepath, sep=',')"
   ]
  },
  {
   "cell_type": "code",
   "execution_count": null,
   "metadata": {},
   "outputs": [],
   "source": [
    "# Show the dataframe just imported\n",
    "nfl_frame"
   ]
  },
  {
   "cell_type": "code",
   "execution_count": null,
   "metadata": {},
   "outputs": [],
   "source": [
    "# See columns names\n",
    "print(nfl_frame.columns)\n",
    "for cc in nfl_frame.columns:\n",
    "    print(cc)"
   ]
  },
  {
   "cell_type": "code",
   "execution_count": null,
   "metadata": {},
   "outputs": [],
   "source": [
    "# See index\n",
    "nfl_frame.index"
   ]
  },
  {
   "cell_type": "code",
   "execution_count": null,
   "metadata": {},
   "outputs": [],
   "source": [
    "# See column with a specific name\n",
    "nfl_frame['Team']\n",
    "# print(nfl_frame['Team'])\n",
    "# Replace a value in the entire column\n",
    "nfl_frame['Division'] = 'Antony'\n",
    "nfl_frame"
   ]
  },
  {
   "cell_type": "code",
   "execution_count": null,
   "metadata": {},
   "outputs": [],
   "source": [
    "# Subset dataframe with column names + non existing\n",
    "DataFrame(nfl_frame,columns=['Team','GP','Won','Luingi'])"
   ]
  },
  {
   "cell_type": "code",
   "execution_count": null,
   "metadata": {},
   "outputs": [],
   "source": [
    "# Replace values in the Dataframe using a seies --> matching by index\n",
    "to_replace = Series([\"replace1\",\"replace2\"],index=[1,3])\n",
    "print(to_replace)\n",
    "\n",
    "nfl_frame['Luingi'] = to_replace\n",
    "nfl_frame"
   ]
  },
  {
   "cell_type": "code",
   "execution_count": null,
   "metadata": {},
   "outputs": [],
   "source": [
    "nfl_frame.head()\n",
    "nfl_frame.tail()"
   ]
  },
  {
   "cell_type": "code",
   "execution_count": null,
   "metadata": {},
   "outputs": [],
   "source": [
    "## From DICTIONARY TO PANDAS\n",
    "data = {'City': ['SF','LA','NYC'], 'Population':[8300000,3000000,10000000]}\n",
    "data_df = DataFrame(data)\n",
    "data_df"
   ]
  },
  {
   "cell_type": "code",
   "execution_count": null,
   "metadata": {},
   "outputs": [],
   "source": [
    "print('default')\n",
    "print(data_df.to_dict())\n",
    "print('list')\n",
    "print(data_df.to_dict('list'))\n",
    "print('series')\n",
    "print(data_df.to_dict('series'))\n",
    "print('split')\n",
    "print(data_df.to_dict('split'))\n",
    "print('records')\n",
    "print(data_df.to_dict('records'))\n",
    "print('index')\n",
    "print(data_df.to_dict('index'))"
   ]
  },
  {
   "cell_type": "markdown",
   "metadata": {},
   "source": [
    "# iloc , loc\n",
    "\n",
    "**iloc** Selecting data by row numbers (.iloc)   \n",
    "**loc** Selecting data by label or by a conditional statment (.loc)\n",
    "\n",
    "data.iloc[row selction, column_selection]   \n",
    "case-1    integer list [1,2,3]    \n",
    "case-2    slice of rows [4:7]    \n",
    "case-3    single value 1    \n",
    "    \n",
    "data.loc[row selction, column_selection]   \n",
    "case-4    index/label value , column name    \n",
    "case-5    list of labels    , list of clumn names    \n",
    "case-6    logic on the row values , slice of columns    \n"
   ]
  },
  {
   "cell_type": "code",
   "execution_count": null,
   "metadata": {},
   "outputs": [],
   "source": [
    "# iloc\n",
    "\n",
    "# Case-1\n",
    "case = nfl_frame.iloc[[0,1,2],[2,3,4]]\n",
    "print(case)\n",
    "# Case-2\n",
    "# NB with this method the right-sode index must be one number higher\n",
    "case = nfl_frame.iloc[0:3,2:5]\n",
    "print(case)\n",
    "# Case-3\n",
    "case = nfl_frame.iloc[2,2]\n",
    "print(case)"
   ]
  },
  {
   "cell_type": "code",
   "execution_count": null,
   "metadata": {},
   "outputs": [],
   "source": [
    "print(type(nfl_frame.iloc[1])) # Select one row\n",
    "print(type(nfl_frame.iloc[[1]])) # Select one row as DATA FRAME\n",
    "print(type(nfl_frame.iloc[0:2,])) # Select two rows\n",
    "print(type(nfl_frame.iloc[:,1])) # Select one column\n",
    "print(type(nfl_frame.iloc[:,[1]])) # Select one column as DATAFRAME \n",
    "print(type(nfl_frame.iloc[0:2,0:3])) # Select multiple row columns"
   ]
  },
  {
   "cell_type": "code",
   "execution_count": null,
   "metadata": {},
   "outputs": [],
   "source": [
    "# Case-4\n",
    "case = nfl_frame.loc[:,['Division']] # as Dataframe\n",
    "print(type(case))\n",
    "case = nfl_frame.loc[:,'Division'] # as Series\n",
    "print(type(case))\n",
    "case = nfl_frame.loc[0,:] # as Series\n",
    "print(case)\n",
    "\n",
    "# Case-5\n",
    "case = nfl_frame.loc[[0]]\n",
    "print(type(case))\n",
    "print(case)\n",
    "\n",
    "case = nfl_frame.loc[0:3,['Division','Won']]\n",
    "print(type(case))\n",
    "print(case)\n",
    "\n",
    "# Case-6\n",
    "case = nfl_frame.loc[nfl_frame['Division']=='NFC North',['Won','Division']]\n",
    "print(case)\n"
   ]
  },
  {
   "cell_type": "markdown",
   "metadata": {},
   "source": [
    "# Exercise"
   ]
  },
  {
   "cell_type": "code",
   "execution_count": null,
   "metadata": {},
   "outputs": [],
   "source": [
    "import pandas as pd\n",
    "import random\n",
    " \n",
    "# read the data from the downloaded CSV file.\n",
    "data = pd.read_csv('https://s3-eu-west-1.amazonaws.com/shanebucket/downloads/uk-500.csv')\n",
    "# set a numeric id for use as an index for examples.\n",
    "data['id'] = [random.randint(0,1000) for x in range(data.shape[0])]\n",
    " \n",
    "data.head(5)"
   ]
  },
  {
   "cell_type": "markdown",
   "metadata": {},
   "source": [
    "- See the columns names\n",
    "- See index\n",
    "- See column with a specific name\n",
    "- Replace a value in the entire column\n",
    "- Subset dataframe with column names + non existing\n",
    "- Replace values in the Dataframe using a series --> matching by index\n",
    "- From DICTIONARY TO PANDAS\n",
    "- From PANDAS to DICTIONARIY (empty, list, series, split, records, index)\n",
    "\n",
    "data.iloc[row selction, column_selection]   \n",
    "- case-1    integer list [1,2,3]    \n",
    "- case-2    slice of rows [4:7]    \n",
    "- case-3    single value 1    \n",
    "    \n",
    "data.loc[row selction, column_selection]   \n",
    "- case-4    index/label value , column name    \n",
    "- case-5    list of labels    , list of clumn names    \n",
    "- case-6    logic on the row values , slice of columns    "
   ]
  },
  {
   "cell_type": "code",
   "execution_count": null,
   "metadata": {},
   "outputs": [],
   "source": []
  },
  {
   "cell_type": "code",
   "execution_count": null,
   "metadata": {},
   "outputs": [],
   "source": []
  },
  {
   "cell_type": "code",
   "execution_count": null,
   "metadata": {},
   "outputs": [],
   "source": [
    "# data.iloc[0] # first row of data frame (Aleshia Tomkiewicz) - Note a Series data type output.\n",
    "# data.iloc[1] # second row of data frame (Evan Zigomalas)\n",
    "# data.iloc[-1] # last row of data frame (Mi Richan)\n",
    "# # Columns:\n",
    "data.iloc[:,0] # first column of data frame (first_name)\n",
    "# data.iloc[:,1] # second column of data frame (last_name)\n",
    "# data.iloc[:,-1] # last column of data frame (id)"
   ]
  },
  {
   "cell_type": "code",
   "execution_count": null,
   "metadata": {},
   "outputs": [],
   "source": [
    "# Multiple row and column selections using iloc and DataFrame\n",
    "data.iloc[0:5] # first five rows of dataframe\n",
    "data.iloc[:, 0:2] # first two columns of data frame with all rows\n",
    "data.iloc[0:5, 5:8] # first 5 rows and 5th, 6th, 7th columns of data frame (county -> phone1)."
   ]
  },
  {
   "cell_type": "code",
   "execution_count": null,
   "metadata": {},
   "outputs": [],
   "source": []
  }
 ],
 "metadata": {
  "kernelspec": {
   "display_name": "Python 3 (ipykernel)",
   "language": "python",
   "name": "python3"
  },
  "language_info": {
   "codemirror_mode": {
    "name": "ipython",
    "version": 3
   },
   "file_extension": ".py",
   "mimetype": "text/x-python",
   "name": "python",
   "nbconvert_exporter": "python",
   "pygments_lexer": "ipython3",
   "version": "3.7.11"
  }
 },
 "nbformat": 4,
 "nbformat_minor": 4
}
