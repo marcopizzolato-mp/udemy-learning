{
 "cells": [
  {
   "cell_type": "code",
   "execution_count": 1,
   "metadata": {},
   "outputs": [],
   "source": [
    "import numpy as np\n",
    "import pandas as pd\n",
    "from pandas import Series, DataFrame\n",
    "\n",
    "from numpy.random import randn\n",
    "from numpy.random import randint"
   ]
  },
  {
   "cell_type": "markdown",
   "metadata": {},
   "source": [
    "# Summary"
   ]
  },
  {
   "cell_type": "markdown",
   "metadata": {},
   "source": [
    "- Group by on dataframes\n",
    "- Group by on dict and dataframes\n",
    "- Aggregation\n",
    "- Splitting applying and combining\n",
    "- Cross Tabulation"
   ]
  },
  {
   "cell_type": "markdown",
   "metadata": {},
   "source": [
    "# Development"
   ]
  },
  {
   "cell_type": "markdown",
   "metadata": {},
   "source": [
    "### Group by on dataframes"
   ]
  },
  {
   "cell_type": "code",
   "execution_count": 2,
   "metadata": {
    "scrolled": true
   },
   "outputs": [
    {
     "name": "stdout",
     "output_type": "stream",
     "text": [
      "  k1     k2  dataset1  dataset2\n",
      "0  X  alpha  1.001349 -1.940200\n",
      "1  X   beta  0.407667  0.749409\n",
      "2  Y  alpha -0.756223 -0.677726\n",
      "3  Y   beta -0.899028 -0.342027\n",
      "4  Z  alpha -0.130698  0.564096\n",
      "k1\n",
      "X    0.704508\n",
      "Y   -0.827626\n",
      "Z   -0.130698\n",
      "Name: dataset1, dtype: float64\n",
      "    dataset1  dataset2\n",
      "k1                    \n",
      "X   0.704508 -0.595396\n",
      "Y  -0.827626 -0.509876\n",
      "Z  -0.130698  0.564096\n",
      "k1\n",
      "X    2\n",
      "Y    2\n",
      "Z    1\n",
      "dtype: int64\n",
      "          dataset1  dataset2\n",
      "k1 k2                       \n",
      "X  alpha  1.001349 -1.940200\n",
      "   beta   0.407667  0.749409\n",
      "Y  alpha -0.756223 -0.677726\n",
      "   beta  -0.899028 -0.342027\n",
      "Z  alpha -0.130698  0.564096\n",
      "k1  k2   \n",
      "X   alpha    1\n",
      "    beta     1\n",
      "Y   alpha    1\n",
      "    beta     1\n",
      "Z   alpha    1\n",
      "dtype: int64\n"
     ]
    }
   ],
   "source": [
    "#Let's make a dframe\n",
    "dframe = DataFrame({'k1':['X','X','Y','Y','Z'],\n",
    "                    'k2':['alpha','beta','alpha','beta','alpha'],\n",
    "                    'dataset1':np.random.randn(5),\n",
    "                    'dataset2':np.random.randn(5)})\n",
    "\n",
    "#Show\n",
    "print(dframe)\n",
    "\n",
    "# GROUP BY on ONE Column\n",
    "group1 = dframe['dataset1'].groupby(dframe['k1'])\n",
    "print(group1.mean())\n",
    "\n",
    "\n",
    "# # For example if we only wanted to group the dataset2 column with both sets of keys\n",
    "# dataset2_group = dframe.groupby(['k1','k2'])[['dataset2']]\n",
    "\n",
    "# dataset2_group.mean()\n",
    "\n",
    "\n",
    "\n",
    "# GROUP BY ONE key\n",
    "print(dframe.groupby('k1').mean())\n",
    "print(dframe.groupby(['k1']).size())\n",
    "\n",
    "# GROUP BY MORE keys\n",
    "print(dframe.groupby(['k1','k2']).mean())\n",
    "print(dframe.groupby(['k1','k2']).size())\n"
   ]
  },
  {
   "cell_type": "code",
   "execution_count": 9,
   "metadata": {},
   "outputs": [
    {
     "name": "stdout",
     "output_type": "stream",
     "text": [
      "This is the X group\n",
      "  k1     k2  dataset1  dataset2\n",
      "0  X  alpha -0.703745 -0.343500\n",
      "1  X   beta  0.082883 -1.734687\n",
      "\n",
      "\n",
      "This is the Y group\n",
      "  k1     k2  dataset1  dataset2\n",
      "2  Y  alpha   0.87620 -1.255499\n",
      "3  Y   beta   0.35628  0.266643\n",
      "\n",
      "\n",
      "This is the Z group\n",
      "  k1     k2  dataset1  dataset2\n",
      "4  Z  alpha  0.023806 -0.481867\n",
      "\n",
      "\n"
     ]
    }
   ],
   "source": [
    "# We can also iterate over groups\n",
    "\n",
    "#For example:\n",
    "for name,group in dframe.groupby('k1'):\n",
    "    print(\"This is the %s group\" %name)\n",
    "    print(group)\n",
    "    print('\\n')"
   ]
  },
  {
   "cell_type": "code",
   "execution_count": 4,
   "metadata": {},
   "outputs": [
    {
     "name": "stdout",
     "output_type": "stream",
     "text": [
      "{'X':   k1     k2  dataset1  dataset2\n",
      "0  X  alpha  1.001349 -1.940200\n",
      "1  X   beta  0.407667  0.749409, 'Y':   k1     k2  dataset1  dataset2\n",
      "2  Y  alpha -0.756223 -0.677726\n",
      "3  Y   beta -0.899028 -0.342027, 'Z':   k1     k2  dataset1  dataset2\n",
      "4  Z  alpha -0.130698  0.564096}\n",
      "  k1     k2  dataset1  dataset2\n",
      "0  X  alpha  1.001349 -1.940200\n",
      "1  X   beta  0.407667  0.749409\n",
      "  k1     k2  dataset1  dataset2\n",
      "2  Y  alpha -0.756223 -0.677726\n",
      "3  Y   beta -0.899028 -0.342027\n"
     ]
    }
   ],
   "source": [
    "# TACTIC! is creating a dictionary of the data pieces \n",
    "group_dict = dict(list(dframe.groupby('k1')))\n",
    "\n",
    "print(group_dict)\n",
    "\n",
    "#Show the group with X\n",
    "print(group_dict['X'])\n",
    "print(group_dict['Y'])"
   ]
  },
  {
   "cell_type": "markdown",
   "metadata": {},
   "source": [
    "### Group by on dict and dataframes"
   ]
  },
  {
   "cell_type": "code",
   "execution_count": 10,
   "metadata": {},
   "outputs": [
    {
     "data": {
      "text/html": [
       "<div>\n",
       "<style scoped>\n",
       "    .dataframe tbody tr th:only-of-type {\n",
       "        vertical-align: middle;\n",
       "    }\n",
       "\n",
       "    .dataframe tbody tr th {\n",
       "        vertical-align: top;\n",
       "    }\n",
       "\n",
       "    .dataframe thead th {\n",
       "        text-align: right;\n",
       "    }\n",
       "</style>\n",
       "<table border=\"1\" class=\"dataframe\">\n",
       "  <thead>\n",
       "    <tr style=\"text-align: right;\">\n",
       "      <th></th>\n",
       "      <th>W</th>\n",
       "      <th>X</th>\n",
       "      <th>Y</th>\n",
       "      <th>Z</th>\n",
       "    </tr>\n",
       "  </thead>\n",
       "  <tbody>\n",
       "    <tr>\n",
       "      <th>Dog</th>\n",
       "      <td>0.0</td>\n",
       "      <td>1</td>\n",
       "      <td>2.0</td>\n",
       "      <td>3</td>\n",
       "    </tr>\n",
       "    <tr>\n",
       "      <th>Cat</th>\n",
       "      <td>NaN</td>\n",
       "      <td>5</td>\n",
       "      <td>NaN</td>\n",
       "      <td>7</td>\n",
       "    </tr>\n",
       "    <tr>\n",
       "      <th>Bird</th>\n",
       "      <td>8.0</td>\n",
       "      <td>9</td>\n",
       "      <td>10.0</td>\n",
       "      <td>11</td>\n",
       "    </tr>\n",
       "    <tr>\n",
       "      <th>Mouse</th>\n",
       "      <td>12.0</td>\n",
       "      <td>13</td>\n",
       "      <td>14.0</td>\n",
       "      <td>15</td>\n",
       "    </tr>\n",
       "  </tbody>\n",
       "</table>\n",
       "</div>"
      ],
      "text/plain": [
       "          W   X     Y   Z\n",
       "Dog     0.0   1   2.0   3\n",
       "Cat     NaN   5   NaN   7\n",
       "Bird    8.0   9  10.0  11\n",
       "Mouse  12.0  13  14.0  15"
      ]
     },
     "execution_count": 10,
     "metadata": {},
     "output_type": "execute_result"
    }
   ],
   "source": [
    "# Let's make a Dframe\n",
    "\n",
    "animals = DataFrame(np.arange(16).reshape(4, 4),\n",
    "                   columns=['W', 'X', 'Y', 'Z'],\n",
    "                   index=['Dog', 'Cat', 'Bird', 'Mouse'])\n",
    "\n",
    "#Now lets add some NAN values\n",
    "animals.loc['Cat',['W','Y']] = np.nan \n",
    "\n",
    "#Show\n",
    "animals"
   ]
  },
  {
   "cell_type": "code",
   "execution_count": 9,
   "metadata": {
    "scrolled": true
   },
   "outputs": [
    {
     "data": {
      "text/html": [
       "<div>\n",
       "<style scoped>\n",
       "    .dataframe tbody tr th:only-of-type {\n",
       "        vertical-align: middle;\n",
       "    }\n",
       "\n",
       "    .dataframe tbody tr th {\n",
       "        vertical-align: top;\n",
       "    }\n",
       "\n",
       "    .dataframe thead th {\n",
       "        text-align: right;\n",
       "    }\n",
       "</style>\n",
       "<table border=\"1\" class=\"dataframe\">\n",
       "  <thead>\n",
       "    <tr style=\"text-align: right;\">\n",
       "      <th></th>\n",
       "      <th>W</th>\n",
       "      <th>X</th>\n",
       "      <th>Y</th>\n",
       "      <th>Z</th>\n",
       "    </tr>\n",
       "  </thead>\n",
       "  <tbody>\n",
       "    <tr>\n",
       "      <th>Dog</th>\n",
       "      <td>0</td>\n",
       "      <td>1</td>\n",
       "      <td>2</td>\n",
       "      <td>3</td>\n",
       "    </tr>\n",
       "    <tr>\n",
       "      <th>Cat</th>\n",
       "      <td>samurai</td>\n",
       "      <td>5</td>\n",
       "      <td>samurai</td>\n",
       "      <td>7</td>\n",
       "    </tr>\n",
       "    <tr>\n",
       "      <th>Bird</th>\n",
       "      <td>8</td>\n",
       "      <td>9</td>\n",
       "      <td>10</td>\n",
       "      <td>11</td>\n",
       "    </tr>\n",
       "    <tr>\n",
       "      <th>Mouse</th>\n",
       "      <td>12</td>\n",
       "      <td>13</td>\n",
       "      <td>14</td>\n",
       "      <td>15</td>\n",
       "    </tr>\n",
       "  </tbody>\n",
       "</table>\n",
       "</div>"
      ],
      "text/plain": [
       "             W   X        Y   Z\n",
       "Dog          0   1        2   3\n",
       "Cat    samurai   5  samurai   7\n",
       "Bird         8   9       10  11\n",
       "Mouse       12  13       14  15"
      ]
     },
     "execution_count": 9,
     "metadata": {},
     "output_type": "execute_result"
    }
   ],
   "source": [
    "# animals.iloc[1,[0,2]] = 'samurai'\n",
    "# animals"
   ]
  },
  {
   "cell_type": "code",
   "execution_count": 43,
   "metadata": {},
   "outputs": [],
   "source": [
    "# animals.loc['Cat',['W','Y']] = 1000"
   ]
  },
  {
   "cell_type": "code",
   "execution_count": 13,
   "metadata": {},
   "outputs": [
    {
     "name": "stdout",
     "output_type": "stream",
     "text": [
      "        bad  good\n",
      "Dog     4.0   2.0\n",
      "Cat    12.0   0.0\n",
      "Bird   20.0  18.0\n",
      "Mouse  28.0  26.0\n",
      "       bad  good\n",
      "Dog      2     2\n",
      "Cat      2     0\n",
      "Bird     2     2\n",
      "Mouse    2     2\n"
     ]
    }
   ],
   "source": [
    "# Counts how many BED - GOOD according to the mapping in the dictionary\n",
    "\n",
    "# Now let's say I had a dictionary with ebhavior values in it\n",
    "behavior_map = {'W': 'good', 'X': 'bad', 'Y': 'good','Z': 'bad'}\n",
    "\n",
    "# Now we can groupby using that mapping\n",
    "animal_col = animals.groupby(behavior_map, axis=1)\n",
    "\n",
    "# Show the sum accroding to the groupby with the mapping\n",
    "print(animal_col.sum())\n",
    "print(animal_col.count())\n",
    "# For example [dog][good] = [dog][Y]+[dog][W]\n"
   ]
  },
  {
   "cell_type": "code",
   "execution_count": 15,
   "metadata": {},
   "outputs": [
    {
     "data": {
      "text/html": [
       "<div>\n",
       "<style scoped>\n",
       "    .dataframe tbody tr th:only-of-type {\n",
       "        vertical-align: middle;\n",
       "    }\n",
       "\n",
       "    .dataframe tbody tr th {\n",
       "        vertical-align: top;\n",
       "    }\n",
       "\n",
       "    .dataframe thead th {\n",
       "        text-align: right;\n",
       "    }\n",
       "</style>\n",
       "<table border=\"1\" class=\"dataframe\">\n",
       "  <thead>\n",
       "    <tr style=\"text-align: right;\">\n",
       "      <th></th>\n",
       "      <th>W</th>\n",
       "      <th>X</th>\n",
       "      <th>Y</th>\n",
       "      <th>Z</th>\n",
       "    </tr>\n",
       "  </thead>\n",
       "  <tbody>\n",
       "    <tr>\n",
       "      <th>3</th>\n",
       "      <td>0.0</td>\n",
       "      <td>6</td>\n",
       "      <td>2.0</td>\n",
       "      <td>10</td>\n",
       "    </tr>\n",
       "    <tr>\n",
       "      <th>4</th>\n",
       "      <td>8.0</td>\n",
       "      <td>9</td>\n",
       "      <td>10.0</td>\n",
       "      <td>11</td>\n",
       "    </tr>\n",
       "    <tr>\n",
       "      <th>5</th>\n",
       "      <td>12.0</td>\n",
       "      <td>13</td>\n",
       "      <td>14.0</td>\n",
       "      <td>15</td>\n",
       "    </tr>\n",
       "  </tbody>\n",
       "</table>\n",
       "</div>"
      ],
      "text/plain": [
       "      W   X     Y   Z\n",
       "3   0.0   6   2.0  10\n",
       "4   8.0   9  10.0  11\n",
       "5  12.0  13  14.0  15"
      ]
     },
     "execution_count": 15,
     "metadata": {},
     "output_type": "execute_result"
    }
   ],
   "source": [
    "# Aggregate according to the length of the index key\n",
    "animals.groupby(len).sum()"
   ]
  },
  {
   "cell_type": "code",
   "execution_count": null,
   "metadata": {},
   "outputs": [],
   "source": [
    "# We can also use groupby with hierarchaly index levels\n",
    "\n",
    "#Create a hierarchal column index\n",
    "hier_col = pd.MultiIndex.from_arrays([['NY','NY','NY','SF','SF'],[1,2,3,1,2]],names=['City','sub_value'])\n",
    "\n",
    "# Create a dframe with hierarchal index\n",
    "dframe_hr = DataFrame(np.arange(25).reshape(5,5),columns=hier_col)\n",
    "\n",
    "#Multiply values by 100 for clarity\n",
    "dframe_hr = dframe_hr*100\n",
    "\n",
    "#Show\n",
    "dframe_hr"
   ]
  },
  {
   "cell_type": "markdown",
   "metadata": {},
   "source": [
    "### Aggregation"
   ]
  },
  {
   "cell_type": "code",
   "execution_count": null,
   "metadata": {},
   "outputs": [],
   "source": []
  },
  {
   "cell_type": "markdown",
   "metadata": {},
   "source": [
    "### Splitting applying and combining"
   ]
  },
  {
   "cell_type": "code",
   "execution_count": null,
   "metadata": {},
   "outputs": [],
   "source": []
  },
  {
   "cell_type": "markdown",
   "metadata": {},
   "source": [
    "### Cross Tabulation"
   ]
  },
  {
   "cell_type": "code",
   "execution_count": null,
   "metadata": {},
   "outputs": [],
   "source": []
  },
  {
   "cell_type": "markdown",
   "metadata": {},
   "source": [
    "# SUMMARY - RECAP"
   ]
  },
  {
   "cell_type": "markdown",
   "metadata": {},
   "source": [
    "- Group by on dataframes\n",
    "- Group by on dict and dataframes\n",
    "- Aggregation\n",
    "- Splitting applying and combining\n",
    "- Cross Tabulation"
   ]
  },
  {
   "cell_type": "code",
   "execution_count": null,
   "metadata": {},
   "outputs": [],
   "source": []
  },
  {
   "cell_type": "code",
   "execution_count": null,
   "metadata": {},
   "outputs": [],
   "source": []
  },
  {
   "cell_type": "code",
   "execution_count": null,
   "metadata": {},
   "outputs": [],
   "source": []
  }
 ],
 "metadata": {
  "kernelspec": {
   "display_name": "Python 3",
   "language": "python",
   "name": "python3"
  },
  "language_info": {
   "codemirror_mode": {
    "name": "ipython",
    "version": 3
   },
   "file_extension": ".py",
   "mimetype": "text/x-python",
   "name": "python",
   "nbconvert_exporter": "python",
   "pygments_lexer": "ipython3",
   "version": "3.6.7"
  }
 },
 "nbformat": 4,
 "nbformat_minor": 4
}
