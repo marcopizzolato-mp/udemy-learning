{
 "cells": [
  {
   "cell_type": "code",
   "execution_count": null,
   "metadata": {},
   "outputs": [],
   "source": [
    "import numpy as np\n",
    "\n",
    "import pandas as pd\n",
    "from pandas import Series, DataFrame"
   ]
  },
  {
   "cell_type": "markdown",
   "metadata": {},
   "source": [
    "https://pandas.pydata.org/pandas-docs/stable/reference/api/pandas.Series.reindex.html"
   ]
  },
  {
   "cell_type": "markdown",
   "metadata": {},
   "source": [
    "# Summary"
   ]
  },
  {
   "cell_type": "markdown",
   "metadata": {},
   "source": [
    "- create a series\n",
    "- check index\n",
    "- check value\n",
    "- assign index\n",
    "- filter by logic/index\n",
    "- convert a series into a dictionary\n",
    "- convert dictionary into series\n",
    "- addition between series and series\n",
    "- assign a name to the series\n",
    "- name the index"
   ]
  },
  {
   "cell_type": "code",
   "execution_count": null,
   "metadata": {},
   "outputs": [],
   "source": []
  },
  {
   "cell_type": "code",
   "execution_count": null,
   "metadata": {},
   "outputs": [],
   "source": []
  },
  {
   "cell_type": "markdown",
   "metadata": {},
   "source": [
    "# Development"
   ]
  },
  {
   "cell_type": "code",
   "execution_count": null,
   "metadata": {},
   "outputs": [],
   "source": [
    "## Series is an array, however elements have an index\n",
    "obj = Series(['uno','due','tre'])\n",
    "print(\"Each value has an index\")\n",
    "print(obj)\n",
    "print(obj.values)\n",
    "print(obj.index)\n",
    "obj[2]"
   ]
  },
  {
   "cell_type": "code",
   "execution_count": null,
   "metadata": {},
   "outputs": [],
   "source": [
    "ww2_cas = Series([87,86,45,32,21],index=['USSR','USA','CHINA','GER','FRA'])\n",
    "ww2_cas"
   ]
  },
  {
   "cell_type": "code",
   "execution_count": null,
   "metadata": {},
   "outputs": [],
   "source": [
    "# Use index values to select series values\n",
    "ww2_cas[\"GER\"]"
   ]
  },
  {
   "cell_type": "code",
   "execution_count": null,
   "metadata": {},
   "outputs": [],
   "source": [
    "# Check logic operation\n",
    "print(ww2_cas[ww2_cas > 80])\n",
    "\n",
    "# Treat series as dictionaries - check if value is in the series indexes\n",
    "'USSR' in ww2_cas\n"
   ]
  },
  {
   "cell_type": "code",
   "execution_count": null,
   "metadata": {},
   "outputs": [],
   "source": [
    "# Convert a series into a dictionary\n",
    "ww2_dict = ww2_cas.to_dict()\n",
    "ww2_dict"
   ]
  },
  {
   "cell_type": "code",
   "execution_count": null,
   "metadata": {},
   "outputs": [],
   "source": [
    "# You can turn a dictionary into a series\n",
    "ww2_series = Series(ww2_dict)\n",
    "ww2_series\n",
    "# ww2_cas[ww2_cas > 40]\n"
   ]
  },
  {
   "cell_type": "code",
   "execution_count": null,
   "metadata": {},
   "outputs": [],
   "source": [
    "## Apply series Series[87,86,45,32,21]\n",
    "## Dictionary to Series assigning the index from a LIST\n",
    "Countries = ['USSR','USA','CHINA','GER','FRA','GRC']\n",
    "obj2 = Series(ww2_dict, index = Countries)\n",
    "print(\n",
    "obj2,\n",
    "pd.isnull(obj2),\n",
    "pd.notnull(obj2))"
   ]
  },
  {
   "cell_type": "code",
   "execution_count": null,
   "metadata": {},
   "outputs": [],
   "source": [
    "## Addition between series and series by INDEX - they will automatically allign by index\n",
    "obj3 = ww2_series + obj2\n",
    "obj3.name = \"World War 2 casualites\"\n",
    "obj3"
   ]
  },
  {
   "cell_type": "code",
   "execution_count": null,
   "metadata": {},
   "outputs": [],
   "source": [
    "# Assign a name to the series\n",
    "obj3.name\n"
   ]
  },
  {
   "cell_type": "code",
   "execution_count": null,
   "metadata": {},
   "outputs": [],
   "source": [
    "# name the index (same as naming the column in Excel)\n",
    "obj3.index.name = \"Casualties\"\n",
    "obj3"
   ]
  },
  {
   "cell_type": "markdown",
   "metadata": {},
   "source": [
    "Series have an index\n",
    "Numericaly filter (> XX) and will return the index values\n",
    "Series an become disctionary\n",
    "Dictionary can be turned into Series"
   ]
  },
  {
   "cell_type": "code",
   "execution_count": null,
   "metadata": {},
   "outputs": [],
   "source": [
    "objx = Series(ww2_dict, index = Countries[1:3])"
   ]
  },
  {
   "cell_type": "code",
   "execution_count": null,
   "metadata": {},
   "outputs": [],
   "source": [
    "type(objx)\n",
    "print(objx)"
   ]
  },
  {
   "cell_type": "markdown",
   "metadata": {},
   "source": [
    "# SUMMARY - RECAP"
   ]
  },
  {
   "cell_type": "markdown",
   "metadata": {},
   "source": [
    "- create a series\n",
    "- check index\n",
    "- check value\n",
    "- assign index\n",
    "- filter by logic/index\n",
    "- convert a series into a dictionary\n",
    "- convert dictionary into series\n",
    "- addition between series and series\n",
    "- assign a name to series\n",
    "- assign a name to the index"
   ]
  },
  {
   "cell_type": "code",
   "execution_count": null,
   "metadata": {},
   "outputs": [],
   "source": [
    "ser1 = Series([1,2,3,4,5], index =['a','b','c','d','e'])\n",
    "# print(ser1)\n",
    "ser1.name = 'Test Series'"
   ]
  },
  {
   "cell_type": "code",
   "execution_count": null,
   "metadata": {},
   "outputs": [],
   "source": [
    "ser1.index"
   ]
  },
  {
   "cell_type": "code",
   "execution_count": null,
   "metadata": {},
   "outputs": [],
   "source": [
    "ser1.values"
   ]
  },
  {
   "cell_type": "code",
   "execution_count": null,
   "metadata": {},
   "outputs": [],
   "source": [
    "ser2 = Series([1,2,3,4,5], index = ['a','b','c','d','e'])\n",
    "ser2.name = 'Test Series 2'"
   ]
  },
  {
   "cell_type": "code",
   "execution_count": null,
   "metadata": {},
   "outputs": [],
   "source": [
    "ser3 = ser1 + ser2\n",
    "ser3"
   ]
  },
  {
   "cell_type": "code",
   "execution_count": null,
   "metadata": {},
   "outputs": [],
   "source": [
    "ser4 = Series([1,2,3,4,5], index = ['a','a','c','d','f'])"
   ]
  },
  {
   "cell_type": "code",
   "execution_count": null,
   "metadata": {},
   "outputs": [],
   "source": [
    "ser4 + ser3"
   ]
  },
  {
   "cell_type": "code",
   "execution_count": null,
   "metadata": {},
   "outputs": [],
   "source": [
    "ser5 = ser3 + ser4\n",
    "print(ser5.index)\n",
    "print(ser5.values)\n",
    "ser5.name = 'Series5'\n",
    "ser5.index.name = 'IndexName'\n",
    "print(ser5.name)\n",
    "print(ser5)"
   ]
  },
  {
   "cell_type": "code",
   "execution_count": null,
   "metadata": {},
   "outputs": [],
   "source": [
    "# filter\n",
    "print(ser5[ser5.isna()])\n",
    "print(ser5[ser5.isnull()])"
   ]
  },
  {
   "cell_type": "code",
   "execution_count": null,
   "metadata": {},
   "outputs": [],
   "source": [
    "print(ser5[ser5.notna()]\n",
    ",ser5[ser5.notnull()])"
   ]
  },
  {
   "cell_type": "code",
   "execution_count": null,
   "metadata": {},
   "outputs": [],
   "source": [
    "ser5[(ser5 > 5) & (ser5 < 12)]"
   ]
  },
  {
   "cell_type": "code",
   "execution_count": null,
   "metadata": {},
   "outputs": [],
   "source": [
    "ser5.name = None\n",
    "ser5.index.name = None\n",
    "print(ser5.name)\n",
    "print(ser5)"
   ]
  },
  {
   "cell_type": "code",
   "execution_count": null,
   "metadata": {},
   "outputs": [],
   "source": []
  },
  {
   "cell_type": "code",
   "execution_count": null,
   "metadata": {},
   "outputs": [],
   "source": []
  },
  {
   "cell_type": "code",
   "execution_count": null,
   "metadata": {},
   "outputs": [],
   "source": []
  },
  {
   "cell_type": "code",
   "execution_count": null,
   "metadata": {},
   "outputs": [],
   "source": []
  },
  {
   "cell_type": "code",
   "execution_count": null,
   "metadata": {},
   "outputs": [],
   "source": []
  }
 ],
 "metadata": {
  "kernelspec": {
   "display_name": "Python 3 (ipykernel)",
   "language": "python",
   "name": "python3"
  },
  "language_info": {
   "codemirror_mode": {
    "name": "ipython",
    "version": 3
   },
   "file_extension": ".py",
   "mimetype": "text/x-python",
   "name": "python",
   "nbconvert_exporter": "python",
   "pygments_lexer": "ipython3",
   "version": "3.7.11"
  }
 },
 "nbformat": 4,
 "nbformat_minor": 4
}
