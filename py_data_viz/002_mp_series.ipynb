{
 "cells": [
  {
   "cell_type": "code",
   "execution_count": 2,
   "metadata": {},
   "outputs": [],
   "source": [
    "import numpy as np\n",
    "\n",
    "import pandas as pd\n",
    "from pandas import Series, DataFrame\n"
   ]
  },
  {
   "cell_type": "markdown",
   "metadata": {},
   "source": [
    "# Summary"
   ]
  },
  {
   "cell_type": "markdown",
   "metadata": {},
   "source": [
    "- create a series\n",
    "- check index\n",
    "- check value\n",
    "- assign index\n",
    "- filter by logic/index\n",
    "- convert a series into a dictionary\n",
    "- convert dictionary into series\n",
    "- addition between series and series\n",
    "- assign a name to the series\n",
    "- name the index"
   ]
  },
  {
   "cell_type": "markdown",
   "metadata": {},
   "source": [
    "# Development"
   ]
  },
  {
   "cell_type": "code",
   "execution_count": 2,
   "metadata": {},
   "outputs": [
    {
     "name": "stdout",
     "output_type": "stream",
     "text": [
      "Each value has an index\n",
      "0    uno\n",
      "1    due\n",
      "2    tre\n",
      "dtype: object\n",
      "['uno' 'due' 'tre']\n",
      "RangeIndex(start=0, stop=3, step=1)\n"
     ]
    },
    {
     "data": {
      "text/plain": [
       "'tre'"
      ]
     },
     "execution_count": 2,
     "metadata": {},
     "output_type": "execute_result"
    }
   ],
   "source": [
    "## Series is an array, however elements have an index\n",
    "obj = Series(['uno','due','tre'])\n",
    "print(\"Each value has an index\")\n",
    "print(obj)\n",
    "print(obj.values)\n",
    "print(obj.index)\n",
    "obj[2]"
   ]
  },
  {
   "cell_type": "code",
   "execution_count": 4,
   "metadata": {},
   "outputs": [
    {
     "data": {
      "text/plain": [
       "USSR     87\n",
       "USA      86\n",
       "CHINA    45\n",
       "GER      32\n",
       "FRA      21\n",
       "dtype: int64"
      ]
     },
     "execution_count": 4,
     "metadata": {},
     "output_type": "execute_result"
    }
   ],
   "source": [
    "ww2_cas = Series([87,86,45,32,21],index=['USSR','USA','CHINA','GER','FRA'])\n",
    "ww2_cas"
   ]
  },
  {
   "cell_type": "code",
   "execution_count": 5,
   "metadata": {},
   "outputs": [
    {
     "data": {
      "text/plain": [
       "32"
      ]
     },
     "execution_count": 5,
     "metadata": {},
     "output_type": "execute_result"
    }
   ],
   "source": [
    "# Use index values to select series values\n",
    "ww2_cas[\"GER\"]"
   ]
  },
  {
   "cell_type": "code",
   "execution_count": 6,
   "metadata": {},
   "outputs": [
    {
     "name": "stdout",
     "output_type": "stream",
     "text": [
      "USSR    87\n",
      "USA     86\n",
      "dtype: int64\n"
     ]
    },
    {
     "data": {
      "text/plain": [
       "True"
      ]
     },
     "execution_count": 6,
     "metadata": {},
     "output_type": "execute_result"
    }
   ],
   "source": [
    "# Check logic operation\n",
    "print(ww2_cas[ww2_cas > 80])\n",
    "\n",
    "# Treat series as dictionaries - check if value is in the series indexes\n",
    "'USSR' in ww2_cas\n"
   ]
  },
  {
   "cell_type": "code",
   "execution_count": 7,
   "metadata": {},
   "outputs": [
    {
     "data": {
      "text/plain": [
       "{'USSR': 87, 'USA': 86, 'CHINA': 45, 'GER': 32, 'FRA': 21}"
      ]
     },
     "execution_count": 7,
     "metadata": {},
     "output_type": "execute_result"
    }
   ],
   "source": [
    "# Convert a series into a dictionary\n",
    "ww2_dict = ww2_cas.to_dict()\n",
    "ww2_dict"
   ]
  },
  {
   "cell_type": "code",
   "execution_count": 8,
   "metadata": {},
   "outputs": [
    {
     "data": {
      "text/plain": [
       "USSR     87\n",
       "USA      86\n",
       "CHINA    45\n",
       "GER      32\n",
       "FRA      21\n",
       "dtype: int64"
      ]
     },
     "execution_count": 8,
     "metadata": {},
     "output_type": "execute_result"
    }
   ],
   "source": [
    "# You can turn a dictionary into a series\n",
    "ww2_series = Series(ww2_dict)\n",
    "ww2_series\n",
    "# ww2_cas[ww2_cas > 40]\n"
   ]
  },
  {
   "cell_type": "code",
   "execution_count": 9,
   "metadata": {},
   "outputs": [
    {
     "name": "stdout",
     "output_type": "stream",
     "text": [
      "USSR     87.0\n",
      "USA      86.0\n",
      "CHINA    45.0\n",
      "GER      32.0\n",
      "FRA      21.0\n",
      "GRC       NaN\n",
      "dtype: float64 USSR     False\n",
      "USA      False\n",
      "CHINA    False\n",
      "GER      False\n",
      "FRA      False\n",
      "GRC       True\n",
      "dtype: bool USSR      True\n",
      "USA       True\n",
      "CHINA     True\n",
      "GER       True\n",
      "FRA       True\n",
      "GRC      False\n",
      "dtype: bool\n"
     ]
    }
   ],
   "source": [
    "## Apply series Series[87,86,45,32,21]\n",
    "## Dictionary to Series assigning the index from a LIST\n",
    "Countries = ['USSR','USA','CHINA','GER','FRA','GRC']\n",
    "obj2 = Series(ww2_dict, index = Countries)\n",
    "print(\n",
    "obj2,\n",
    "pd.isnull(obj2),\n",
    "pd.notnull(obj2))"
   ]
  },
  {
   "cell_type": "code",
   "execution_count": 11,
   "metadata": {},
   "outputs": [
    {
     "data": {
      "text/plain": [
       "CHINA     90.0\n",
       "FRA       42.0\n",
       "GER       64.0\n",
       "GRC        NaN\n",
       "USA      172.0\n",
       "USSR     174.0\n",
       "Name: World War 2 casualites, dtype: float64"
      ]
     },
     "execution_count": 11,
     "metadata": {},
     "output_type": "execute_result"
    }
   ],
   "source": [
    "## Addition between series and series by INDEX - they will automatically allign by index\n",
    "obj3 = ww2_series + obj2\n",
    "obj3.name = \"World War 2 casualites\"\n",
    "obj3"
   ]
  },
  {
   "cell_type": "code",
   "execution_count": 15,
   "metadata": {},
   "outputs": [
    {
     "data": {
      "text/plain": [
       "'World War 2 casualites'"
      ]
     },
     "execution_count": 15,
     "metadata": {},
     "output_type": "execute_result"
    }
   ],
   "source": [
    "# Assign a name to the series\n",
    "obj3.name\n"
   ]
  },
  {
   "cell_type": "code",
   "execution_count": 16,
   "metadata": {},
   "outputs": [
    {
     "data": {
      "text/plain": [
       "Casualties\n",
       "CHINA     90.0\n",
       "FRA       42.0\n",
       "GER       64.0\n",
       "GRC        NaN\n",
       "USA      172.0\n",
       "USSR     174.0\n",
       "Name: World War 2 casualites, dtype: float64"
      ]
     },
     "execution_count": 16,
     "metadata": {},
     "output_type": "execute_result"
    }
   ],
   "source": [
    "# name the index (same as naming the column in Excel)\n",
    "obj3.index.name = \"Casualties\"\n",
    "obj3"
   ]
  },
  {
   "cell_type": "markdown",
   "metadata": {},
   "source": [
    "Series have an index\n",
    "Numericaly filter (> XX) and will return the index values\n",
    "Series an become disctionary\n",
    "Dictionary can be turned into Series"
   ]
  },
  {
   "cell_type": "code",
   "execution_count": 12,
   "metadata": {},
   "outputs": [],
   "source": [
    "objx = Series(ww2_dict, index = Countries[1:3])"
   ]
  },
  {
   "cell_type": "code",
   "execution_count": 13,
   "metadata": {},
   "outputs": [
    {
     "data": {
      "text/plain": [
       "pandas.core.series.Series"
      ]
     },
     "execution_count": 13,
     "metadata": {},
     "output_type": "execute_result"
    }
   ],
   "source": [
    "type(objx)"
   ]
  },
  {
   "cell_type": "markdown",
   "metadata": {},
   "source": [
    "# SUMMARY - RECAP"
   ]
  },
  {
   "cell_type": "markdown",
   "metadata": {},
   "source": [
    "- create a series\n",
    "- check index\n",
    "- check value\n",
    "- assign index\n",
    "- filter by logic/index\n",
    "- convert a series into a dictionary\n",
    "- convert dictionary into series\n",
    "- addition between series and series\n",
    "- assign a name to series\n",
    "- assign a name to the index"
   ]
  },
  {
   "cell_type": "code",
   "execution_count": 11,
   "metadata": {},
   "outputs": [
    {
     "name": "stdout",
     "output_type": "stream",
     "text": [
      "1     1\n",
      "2     2\n",
      "3     3\n",
      "4     4\n",
      "5a    5\n",
      "dtype: int64\n",
      "Index(['1', '2', '3', '4', '5a'], dtype='object')\n",
      "[1 2 3 4 5]\n",
      "index name\n",
      "1     1\n",
      "2     2\n",
      "3     3\n",
      "4     4\n",
      "5a    5\n",
      "Name: GEneral name, dtype: int64\n"
     ]
    }
   ],
   "source": []
  },
  {
   "cell_type": "code",
   "execution_count": 14,
   "metadata": {},
   "outputs": [
    {
     "data": {
      "text/plain": [
       "5"
      ]
     },
     "execution_count": 14,
     "metadata": {},
     "output_type": "execute_result"
    }
   ],
   "source": []
  },
  {
   "cell_type": "code",
   "execution_count": null,
   "metadata": {},
   "outputs": [],
   "source": []
  }
 ],
 "metadata": {
  "kernelspec": {
   "display_name": "Python 3",
   "language": "python",
   "name": "python3"
  },
  "language_info": {
   "codemirror_mode": {
    "name": "ipython",
    "version": 3
   },
   "file_extension": ".py",
   "mimetype": "text/x-python",
   "name": "python",
   "nbconvert_exporter": "python",
   "pygments_lexer": "ipython3",
   "version": "3.6.7"
  }
 },
 "nbformat": 4,
 "nbformat_minor": 2
}
