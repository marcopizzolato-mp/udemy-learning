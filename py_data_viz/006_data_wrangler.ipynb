{
 "cells": [
  {
   "cell_type": "code",
   "execution_count": 2,
   "metadata": {},
   "outputs": [],
   "source": [
    "import numpy as np\n",
    "import pandas as pd\n",
    "from pandas import Series, DataFrame\n",
    "\n",
    "from numpy.random import randn\n",
    "from numpy.random import randint"
   ]
  },
  {
   "cell_type": "markdown",
   "metadata": {},
   "source": [
    "# Summary"
   ]
  },
  {
   "cell_type": "markdown",
   "metadata": {},
   "source": [
    "- Merge\n",
    "- Merge on Index\n",
    "- Concatenate\n",
    "- Combining DF\n",
    "- Reshaping\n",
    "- Pivoting\n",
    "- Duplicates in DFs\n",
    "- Mapping\n",
    "- Replace\n",
    "- Rename Index\n",
    "- Binning\n",
    "- Outliers\n",
    "- Permutation"
   ]
  },
  {
   "cell_type": "markdown",
   "metadata": {},
   "source": [
    "# Development"
   ]
  },
  {
   "cell_type": "markdown",
   "metadata": {},
   "source": [
    "### Merge - which is the JOIN - left, right, inner, outer"
   ]
  },
  {
   "cell_type": "code",
   "execution_count": 3,
   "metadata": {},
   "outputs": [
    {
     "name": "stdout",
     "output_type": "stream",
     "text": [
      "  key  data_set_1\n",
      "0   X           0\n",
      "1   X           1\n",
      "2   Y           2\n",
      "3   Y           3\n",
      "4   Z           4\n",
      "5   Z           5\n",
      "  key  data_set_2\n",
      "0   Q         100\n",
      "1   Y         200\n",
      "2   Z         300\n"
     ]
    }
   ],
   "source": [
    "# Merge rows as keys\n",
    "dframe1 = DataFrame({'key':['X','X','Y','Y','Z','Z'],'data_set_1':np.arange(6)})\n",
    "print(dframe1)\n",
    "\n",
    "dframe2 = DataFrame({'key':['Q','Y','Z'],'data_set_2':[100,200,300]})\n",
    "print(dframe2) "
   ]
  },
  {
   "cell_type": "code",
   "execution_count": 4,
   "metadata": {},
   "outputs": [
    {
     "name": "stdout",
     "output_type": "stream",
     "text": [
      "  key  data_set_1  data_set_2\n",
      "0   Y           2         200\n",
      "1   Y           3         200\n",
      "2   Z           4         300\n",
      "3   Z           5         300\n",
      "  key  data_set_1  data_set_2\n",
      "0   Y           2         200\n",
      "1   Y           3         200\n",
      "2   Z           4         300\n",
      "3   Z           5         300\n",
      "  key  data_set_1  data_set_2\n",
      "0   X         0.0         NaN\n",
      "1   X         1.0         NaN\n",
      "2   Y         2.0       200.0\n",
      "3   Y         3.0       200.0\n",
      "4   Z         4.0       300.0\n",
      "5   Z         5.0       300.0\n",
      "6   Q         NaN       100.0\n"
     ]
    }
   ],
   "source": [
    "# Merge is a MANY to ONE method \n",
    "print(pd.merge(dframe1,dframe2))\n",
    "# Merge on a specific column use 'ON='\n",
    "print(pd.merge(dframe1,dframe2,on='key'))\n",
    "print(pd.merge(dframe1,dframe2,on='key',how='outer'))"
   ]
  },
  {
   "cell_type": "code",
   "execution_count": 5,
   "metadata": {},
   "outputs": [
    {
     "name": "stdout",
     "output_type": "stream",
     "text": [
      "    key1    key2  left_data\n",
      "0  Monte  Centro         10\n",
      "1  Trevi  Centro         20\n",
      "2  Signo  Centro         30\n",
      "    key1    key2  right_data\n",
      "0  Monte  Centro          10\n",
      "1  Monte    Peri          50\n",
      "2  Trevi  Centro          20\n",
      "3  Trevi    Peri          70\n",
      "Merge on Key one and Key two OUTER\n",
      "    key1    key2  left_data  right_data\n",
      "0  Monte  Centro       10.0        10.0\n",
      "1  Trevi  Centro       20.0        20.0\n",
      "2  Signo  Centro       30.0         NaN\n",
      "3  Monte    Peri        NaN        50.0\n",
      "4  Trevi    Peri        NaN        70.0\n",
      "---\n",
      "Merge on two keys INNER\n",
      "    key1    key2  left_data  right_data\n",
      "0  Monte  Centro         10          10\n",
      "1  Trevi  Centro         20          20\n",
      "---\n",
      "Merge on key1 OUTER\n",
      "    key1  key2_x  left_data  key2_y  right_data\n",
      "0  Monte  Centro         10  Centro        10.0\n",
      "1  Monte  Centro         10    Peri        50.0\n",
      "2  Trevi  Centro         20  Centro        20.0\n",
      "3  Trevi  Centro         20    Peri        70.0\n",
      "4  Signo  Centro         30     NaN         NaN\n",
      "---\n",
      "Merge on key2 OUTER\n",
      "  key1_x    key2  left_data key1_y  right_data\n",
      "0  Monte  Centro       10.0  Monte          10\n",
      "1  Monte  Centro       10.0  Trevi          20\n",
      "2  Trevi  Centro       20.0  Monte          10\n",
      "3  Trevi  Centro       20.0  Trevi          20\n",
      "4  Signo  Centro       30.0  Monte          10\n",
      "5  Signo  Centro       30.0  Trevi          20\n",
      "6    NaN    Peri        NaN  Monte          50\n",
      "7    NaN    Peri        NaN  Trevi          70\n",
      "---\n",
      "Merge on key1 INNER\n",
      "    key1  key2_x  left_data  key2_y  right_data\n",
      "0  Monte  Centro         10  Centro          10\n",
      "1  Monte  Centro         10    Peri          50\n",
      "2  Trevi  Centro         20  Centro          20\n",
      "3  Trevi  Centro         20    Peri          70\n",
      "---\n",
      "Merge on key2 INNER\n",
      "  key1_x    key2  left_data key1_y  right_data\n",
      "0  Monte  Centro         10  Monte          10\n",
      "1  Monte  Centro         10  Trevi          20\n",
      "2  Trevi  Centro         20  Monte          10\n",
      "3  Trevi  Centro         20  Trevi          20\n",
      "4  Signo  Centro         30  Monte          10\n",
      "5  Signo  Centro         30  Trevi          20\n"
     ]
    }
   ],
   "source": [
    "# MERGE WITH MULTIPLE KEYS\n",
    "# We can also merge with multiple keys!\n",
    "\n",
    "# Dframe on left\n",
    "df_left = DataFrame({'key1': ['Monte', 'Trevi', 'Signo'],\n",
    "                  'key2': ['Centro', 'Centro', 'Centro'],\n",
    "                  'left_data': [10,20,30]})\n",
    "\n",
    "print(df_left)\n",
    "#Dframe on right\n",
    "df_right = DataFrame({'key1': ['Monte', 'Monte', 'Trevi', 'Trevi'],\n",
    "                   'key2': ['Centro', 'Peri', 'Centro', 'Peri'],\n",
    "                   'right_data': [10,50,20,70]})\n",
    "print(df_right)\n",
    "\n",
    "#Merge\n",
    "print('Merge on Key one and Key two OUTER')\n",
    "print(pd.merge(df_left, df_right, on=['key1', 'key2'], how='outer'))\n",
    "\n",
    "# print('---')\n",
    "# print('Merge only on one Key with suffixes')\n",
    "# print(pd.merge(df_left, df_right, on=['key1'], suffixes=('_lefty','_righty')))\n",
    "\n",
    "print('---')\n",
    "print('Merge on two keys INNER')\n",
    "print(pd.merge(df_left, df_right, on=['key1', 'key2'], how='inner'))\n",
    "print('---')\n",
    "print('Merge on key1 OUTER')\n",
    "print(pd.merge(df_left, df_right, on=['key1'], how='outer'))\n",
    "print('---')\n",
    "print('Merge on key2 OUTER')\n",
    "print(pd.merge(df_left, df_right, on=['key2'], how='outer'))\n",
    "print('---')\n",
    "\n",
    "print('Merge on key1 INNER')\n",
    "print(pd.merge(df_left, df_right, on=['key1'], how='inner'))\n",
    "print('---')\n",
    "print('Merge on key2 INNER')\n",
    "\n",
    "print(pd.merge(df_left, df_right, on=['key2'], how='inner'))\n",
    "\n",
    "## Inner-Outer make sense if there are NON combo matches\n"
   ]
  },
  {
   "cell_type": "markdown",
   "metadata": {},
   "source": [
    "### Merge on Index"
   ]
  },
  {
   "cell_type": "code",
   "execution_count": 25,
   "metadata": {},
   "outputs": [
    {
     "name": "stdout",
     "output_type": "stream",
     "text": [
      "    key1    key2  left_data\n",
      "0  Monte  Centro         10\n",
      "1  Trevi  Centro         20\n",
      "2  Signo  Centro         30\n",
      "    key1    key2  right_data\n",
      "0  Monte  Centro          10\n",
      "1  Monte    Peri          50\n",
      "2  Trevi  Centro          20\n",
      "3  Trevi    Peri          70\n",
      "         key2  right_data\n",
      "key1                     \n",
      "Monte  Centro          10\n",
      "Monte    Peri          50\n",
      "Trevi  Centro          20\n",
      "Trevi    Peri          70\n",
      "    key1  key2_x  left_data  key2_y  right_data\n",
      "0  Monte  Centro         10  Centro          10\n",
      "1  Monte  Centro         10    Peri          50\n",
      "2  Trevi  Centro         20  Centro          20\n",
      "3  Trevi  Centro         20    Peri          70\n",
      "    key1  key2_x  left_data  key2_y  right_data\n",
      "0  Monte  Centro         10  Centro        10.0\n",
      "0  Monte  Centro         10    Peri        50.0\n",
      "1  Trevi  Centro         20  Centro        20.0\n",
      "1  Trevi  Centro         20    Peri        70.0\n",
      "2  Signo  Centro         30     NaN         NaN\n"
     ]
    }
   ],
   "source": [
    "# Dframe on left\n",
    "df_left = DataFrame({'key1': ['Monte', 'Trevi', 'Signo'],\n",
    "                  'key2': ['Centro', 'Centro', 'Centro'],\n",
    "                  'left_data': [10,20,30]})\n",
    "\n",
    "print(df_left)\n",
    "#Dframe on right\n",
    "df_right = DataFrame({'key1': ['Monte', 'Monte', 'Trevi', 'Trevi'],\n",
    "                   'key2': ['Centro', 'Peri', 'Centro', 'Peri'],\n",
    "                   'right_data': [10,50,20,70]})\n",
    "\n",
    "df_right2 = df_right.copy()\n",
    "print(df_right)\n",
    "df_right2 = df_right2.set_index('key1')\n",
    "print(df_right2)\n",
    "\n",
    "print(pd.merge(df_left, df_right, on='key1', how='inner'))\n",
    "\n",
    "print(pd.merge(df_left, df_right2, on='key1', right_index=True, how='outer'))"
   ]
  },
  {
   "cell_type": "code",
   "execution_count": 31,
   "metadata": {},
   "outputs": [
    {
     "name": "stdout",
     "output_type": "stream",
     "text": [
      "  key1  key2  data_set\n",
      "0   SF    10      1000\n",
      "1   SF    20      2000\n",
      "2   SF    30      3000\n",
      "3   LA    40      4000\n",
      "4   LA    50      5000\n",
      "       col_1  col_2\n",
      "LA 40      0      1\n",
      "   10      2      3\n",
      "SF 10      4      5\n",
      "   10      6      7\n",
      "   20      8      9\n",
      "  key1  key2  data_set  col_1  col_2\n",
      "0   SF    10      1000      4      5\n",
      "0   SF    10      1000      6      7\n",
      "1   SF    20      2000      8      9\n",
      "3   LA    40      4000      0      1\n"
     ]
    }
   ],
   "source": [
    "# More complex example\n",
    "\n",
    "#Now let's try something a little more complicated, remember hierarchal index?\n",
    "df_left_hr = DataFrame({'key1': ['SF','SF','SF','LA','LA'],\n",
    "                   'key2': [10, 20, 30, 40, 50],\n",
    "                   'data_set': [1000, 2000, 3000, 4000, 5000]})\n",
    "df_right_hr = DataFrame(np.arange(10).reshape((5, 2)),\n",
    "                   index=[['LA','LA','SF','SF','SF'],\n",
    "                          [40, 10, 10, 10, 20]],\n",
    "                   columns=['col_1', 'col_2'])\n",
    "\n",
    "print(df_left_hr)\n",
    "print(df_right_hr)\n",
    "\n",
    "print(pd.merge(df_left_hr, df_right_hr, left_on=['key1', 'key2'], right_index=True))"
   ]
  },
  {
   "cell_type": "markdown",
   "metadata": {},
   "source": [
    "### Concatenate"
   ]
  },
  {
   "cell_type": "code",
   "execution_count": 43,
   "metadata": {},
   "outputs": [
    {
     "name": "stdout",
     "output_type": "stream",
     "text": [
      "[[0 1 2 0 1 2]\n",
      " [3 4 5 3 4 5]\n",
      " [6 7 8 6 7 8]]\n",
      "[[0 1 2]\n",
      " [3 4 5]\n",
      " [6 7 8]\n",
      " [0 1 2]\n",
      " [3 4 5]\n",
      " [6 7 8]]\n"
     ]
    }
   ],
   "source": [
    "# Concatenate matrix on different axis\n",
    "arr1 = np.arange(9).reshape(3,3)\n",
    "\n",
    "# This is how to concatenate two matri`xes\n",
    "print(np.concatenate([arr1,arr1],axis=1))\n",
    "\n",
    "print(np.concatenate([arr1,arr1],axis=0))"
   ]
  },
  {
   "cell_type": "code",
   "execution_count": 5,
   "metadata": {},
   "outputs": [
    {
     "name": "stdout",
     "output_type": "stream",
     "text": [
      "ser1  A     0\n",
      "      B     1\n",
      "      C     2\n",
      "ser2  A    10\n",
      "      D    20\n",
      "dtype: int64\n",
      "     0     1\n",
      "A  0.0  10.0\n",
      "B  1.0   NaN\n",
      "C  2.0   NaN\n",
      "D  NaN  20.0\n",
      "   ser1  ser2\n",
      "A   0.0  10.0\n",
      "B   1.0   NaN\n",
      "C   2.0   NaN\n",
      "D   NaN  20.0\n"
     ]
    }
   ],
   "source": [
    "# Concatenate two series\n",
    "ser1 = Series([0,1,2], index =['A','B','C'])\n",
    "ser2 = Series([10,20], index =['A','D'])\n",
    "\n",
    "# Concatenate with markers\n",
    "print(pd.concat([ser1,ser2], keys=['ser1', 'ser2'], axis=0))\n",
    "# Concatenate the two series to obtain a dataframe\n",
    "print(pd.concat([ser1,ser2],  axis=1))\n",
    "print(pd.concat([ser1,ser2], keys=['ser1', 'ser2'],  axis=1))"
   ]
  },
  {
   "cell_type": "code",
   "execution_count": 6,
   "metadata": {},
   "outputs": [
    {
     "name": "stdout",
     "output_type": "stream",
     "text": [
      "          X         Y         Z\n",
      "0 -0.987562  0.247725 -1.635256\n",
      "1 -1.365617  0.989942  1.260238\n",
      "2 -0.185671 -0.125520  0.613887\n",
      "3  0.891886  0.083698 -1.877206\n",
      "          X         Y         Q\n",
      "0 -0.613227  0.486446 -0.098066\n",
      "1  1.378422  0.417419  0.552609\n",
      "2  0.959936 -0.316783  0.121617\n",
      "          X         Y         Z         Q\n",
      "0 -0.987562  0.247725 -1.635256       NaN\n",
      "1 -1.365617  0.989942  1.260238       NaN\n",
      "2 -0.185671 -0.125520  0.613887       NaN\n",
      "3  0.891886  0.083698 -1.877206       NaN\n",
      "4 -0.613227  0.486446       NaN -0.098066\n",
      "5  1.378422  0.417419       NaN  0.552609\n",
      "6  0.959936 -0.316783       NaN  0.121617\n",
      "          X         Y         Z         Q\n",
      "0 -0.987562  0.247725 -1.635256       NaN\n",
      "1 -1.365617  0.989942  1.260238       NaN\n",
      "2 -0.185671 -0.125520  0.613887       NaN\n",
      "3  0.891886  0.083698 -1.877206       NaN\n",
      "0 -0.613227  0.486446       NaN -0.098066\n",
      "1  1.378422  0.417419       NaN  0.552609\n",
      "2  0.959936 -0.316783       NaN  0.121617\n"
     ]
    }
   ],
   "source": [
    "# Concatenate two dataframes\n",
    "dframe1 = DataFrame(np.random.randn(4,3), columns=['X','Y','Z'])\n",
    "print(dframe1)\n",
    "dframe2 = DataFrame(np.random.randn(3,3), columns=['X','Y','Q'])\n",
    "print(dframe2)\n",
    "# ignore index is to get a new progressive index\n",
    "print(pd.concat([dframe1,dframe2], ignore_index=True))\n",
    "\n",
    "print(pd.concat([dframe1,dframe2], ignore_index=False))"
   ]
  },
  {
   "cell_type": "markdown",
   "metadata": {},
   "source": [
    "### Combining DF\n",
    "\n",
    "combine works on INDEXES"
   ]
  },
  {
   "cell_type": "code",
   "execution_count": 55,
   "metadata": {},
   "outputs": [
    {
     "name": "stdout",
     "output_type": "stream",
     "text": [
      "A      1.0\n",
      "B      2.0\n",
      "C      3.0\n",
      "D    400.0\n",
      "E    500.0\n",
      "F      6.0\n",
      "dtype: float64\n",
      "A      1.0\n",
      "B      2.0\n",
      "C      3.0\n",
      "D    400.0\n",
      "E    500.0\n",
      "F      6.0\n",
      "dtype: float64\n"
     ]
    }
   ],
   "source": [
    "# Combining Series\n",
    "ser1 = Series([1,2,3,np.nan,np.nan,6],\n",
    "             index=['A','B','C','D','E','F'])\n",
    "\n",
    "ser2 = Series([100,200,300,400,500,600],\n",
    "             index=['A','B','C','D','E','F'])\n",
    "\n",
    "print(Series(np.where(pd.isnull(ser1),ser2,ser1), index=ser1.index)\n",
    "     )\n",
    "print(ser1.combine_first(ser2)\n",
    "     )"
   ]
  },
  {
   "cell_type": "code",
   "execution_count": 7,
   "metadata": {},
   "outputs": [
    {
     "name": "stdout",
     "output_type": "stream",
     "text": [
      "  key1  col_1  col_2\n",
      "0   SF   10.0   1000\n",
      "1   SF   20.0   2000\n",
      "2   SF   30.0   3000\n",
      "3   LA    NaN   4000\n",
      "4   LA   50.0   5000\n",
      "  key1  col_1  col_2\n",
      "0   SF   10.0    100\n",
      "1   LA    NaN    200\n",
      "2   LA    NaN    300\n",
      "3   LA    NaN    400\n",
      "4   LA   50.0    500\n",
      "  key1  col_1  col_2\n",
      "0   SF   10.0   1000\n",
      "1   SF   20.0   2000\n",
      "2   SF   30.0   3000\n",
      "3   LA    NaN   4000\n",
      "4   LA   50.0   5000\n"
     ]
    }
   ],
   "source": [
    "# Combining Data Frames\n",
    "\n",
    "#! It fills the gaps in teh first Dataframe with the values in the second\n",
    "\n",
    "df_left_hr = DataFrame({'key1': ['SF','SF','SF','LA','LA'],\n",
    "                   'col_1': [10, 20, 30, np.nan, 50],\n",
    "                   'col_2': [1000, 2000, 3000, 4000, 5000]})\n",
    "\n",
    "\n",
    "df_right_hr = DataFrame({'key1': ['SF','LA','LA','LA','LA'],\n",
    "                   'col_1': [10, np.nan, np.nan, np.nan, 50],\n",
    "                   'col_2': [100, 200, 300, 400, 500]})\n",
    "\n",
    "\n",
    "\n",
    "print(df_left_hr)\n",
    "print(df_right_hr)\n",
    "print(df_left_hr.combine_first(df_right_hr))\n",
    "\n"
   ]
  },
  {
   "cell_type": "markdown",
   "metadata": {},
   "source": [
    "### Reshaping\n",
    "\n",
    "Basically turning from long to wide format.   \n",
    "From Pandas I get a Series, if I unstuck I get back a Pandas.    \n",
    "By unstacking for diferent columns I can retunr to wide format with a different column.   "
   ]
  },
  {
   "cell_type": "code",
   "execution_count": 8,
   "metadata": {},
   "outputs": [
    {
     "name": "stdout",
     "output_type": "stream",
     "text": [
      "letter  A  B  C  D\n",
      "city              \n",
      "LA      0  1  2  3\n",
      "SF      4  5  6  7\n"
     ]
    }
   ],
   "source": [
    "#Let's see how stack and unstack work\n",
    "\n",
    "# Create DataFrame\n",
    "dframe1 = DataFrame(np.arange(8).reshape((2, 4)),\n",
    "                 index=pd.Index(['LA', 'SF'], name='city'),\n",
    "                 columns=pd.Index(['A', 'B', 'C','D'], name='letter'))\n",
    "#Show\n",
    "print(dframe1)"
   ]
  },
  {
   "cell_type": "code",
   "execution_count": 15,
   "metadata": {},
   "outputs": [
    {
     "name": "stdout",
     "output_type": "stream",
     "text": [
      "city  letter\n",
      "LA    A         0\n",
      "      B         1\n",
      "      C         2\n",
      "      D         3\n",
      "SF    A         4\n",
      "      B         5\n",
      "      C         6\n",
      "      D         7\n",
      "dtype: int32\n",
      "letter  A  B  C  D\n",
      "city              \n",
      "LA      0  1  2  3\n",
      "SF      4  5  6  7\n",
      "city    LA  SF\n",
      "letter        \n",
      "A        0   4\n",
      "B        1   5\n",
      "C        2   6\n",
      "D        3   7\n"
     ]
    }
   ],
   "source": [
    "dframe_st = dframe1.stack()\n",
    "print(dframe_st)\n",
    "type(dframe_st)\n",
    "print(dframe_st.unstack())\n",
    "print(dframe_st.unstack('city'))"
   ]
  },
  {
   "cell_type": "code",
   "execution_count": null,
   "metadata": {},
   "outputs": [],
   "source": [
    "dframe_st = dframe1.stack()\n",
    "dframe_st\n",
    "type(dframe_st)"
   ]
  },
  {
   "cell_type": "markdown",
   "metadata": {},
   "source": [
    "### Pivoting\n",
    "\n"
   ]
  },
  {
   "cell_type": "code",
   "execution_count": 2,
   "metadata": {},
   "outputs": [
    {
     "name": "stderr",
     "output_type": "stream",
     "text": [
      "C:\\Users\\mp53\\AppData\\Local\\ESRI\\conda\\envs\\arcgispro-py3-clone\\lib\\site-packages\\ipykernel_launcher.py:6: FutureWarning: pandas.util.testing is deprecated. Use the functions in the public API at pandas.testing instead.\n",
      "  \n"
     ]
    }
   ],
   "source": [
    "# Lets create some data to play with:\n",
    "\n",
    "# Note: It is not necessary to understand how this dataset was made to understand this Lecture.\n",
    "\n",
    "#import pandas testing utility\n",
    "import pandas.util.testing as tm; tm.N = 3\n",
    "\n",
    "#Create a unpivoted function\n",
    "def unpivot(frame):\n",
    "    N, K = frame.shape\n",
    "    \n",
    "    data = {'value' : frame.values.ravel('F'),\n",
    "            'variable' : np.asarray(frame.columns).repeat(N),\n",
    "            'date' : np.tile(np.asarray(frame.index), K)}\n",
    "    \n",
    "    # Return the DataFrame\n",
    "    return DataFrame(data, columns=['date', 'variable', 'value'])\n",
    "\n",
    "#Set the DataFrame we'll be using\n",
    "dframe = unpivot(tm.makeTimeDataFrame())"
   ]
  },
  {
   "cell_type": "code",
   "execution_count": 3,
   "metadata": {},
   "outputs": [
    {
     "data": {
      "text/html": [
       "<div>\n",
       "<style scoped>\n",
       "    .dataframe tbody tr th:only-of-type {\n",
       "        vertical-align: middle;\n",
       "    }\n",
       "\n",
       "    .dataframe tbody tr th {\n",
       "        vertical-align: top;\n",
       "    }\n",
       "\n",
       "    .dataframe thead th {\n",
       "        text-align: right;\n",
       "    }\n",
       "</style>\n",
       "<table border=\"1\" class=\"dataframe\">\n",
       "  <thead>\n",
       "    <tr style=\"text-align: right;\">\n",
       "      <th></th>\n",
       "      <th>date</th>\n",
       "      <th>variable</th>\n",
       "      <th>value</th>\n",
       "    </tr>\n",
       "  </thead>\n",
       "  <tbody>\n",
       "    <tr>\n",
       "      <th>0</th>\n",
       "      <td>2000-01-03</td>\n",
       "      <td>A</td>\n",
       "      <td>-0.521677</td>\n",
       "    </tr>\n",
       "    <tr>\n",
       "      <th>1</th>\n",
       "      <td>2000-01-04</td>\n",
       "      <td>A</td>\n",
       "      <td>0.759259</td>\n",
       "    </tr>\n",
       "    <tr>\n",
       "      <th>2</th>\n",
       "      <td>2000-01-05</td>\n",
       "      <td>A</td>\n",
       "      <td>-0.085330</td>\n",
       "    </tr>\n",
       "    <tr>\n",
       "      <th>3</th>\n",
       "      <td>2000-01-06</td>\n",
       "      <td>A</td>\n",
       "      <td>0.721594</td>\n",
       "    </tr>\n",
       "    <tr>\n",
       "      <th>4</th>\n",
       "      <td>2000-01-07</td>\n",
       "      <td>A</td>\n",
       "      <td>-1.397962</td>\n",
       "    </tr>\n",
       "    <tr>\n",
       "      <th>...</th>\n",
       "      <td>...</td>\n",
       "      <td>...</td>\n",
       "      <td>...</td>\n",
       "    </tr>\n",
       "    <tr>\n",
       "      <th>115</th>\n",
       "      <td>2000-02-07</td>\n",
       "      <td>D</td>\n",
       "      <td>0.714316</td>\n",
       "    </tr>\n",
       "    <tr>\n",
       "      <th>116</th>\n",
       "      <td>2000-02-08</td>\n",
       "      <td>D</td>\n",
       "      <td>-0.219693</td>\n",
       "    </tr>\n",
       "    <tr>\n",
       "      <th>117</th>\n",
       "      <td>2000-02-09</td>\n",
       "      <td>D</td>\n",
       "      <td>1.649881</td>\n",
       "    </tr>\n",
       "    <tr>\n",
       "      <th>118</th>\n",
       "      <td>2000-02-10</td>\n",
       "      <td>D</td>\n",
       "      <td>-0.306279</td>\n",
       "    </tr>\n",
       "    <tr>\n",
       "      <th>119</th>\n",
       "      <td>2000-02-11</td>\n",
       "      <td>D</td>\n",
       "      <td>1.421848</td>\n",
       "    </tr>\n",
       "  </tbody>\n",
       "</table>\n",
       "<p>120 rows × 3 columns</p>\n",
       "</div>"
      ],
      "text/plain": [
       "          date variable     value\n",
       "0   2000-01-03        A -0.521677\n",
       "1   2000-01-04        A  0.759259\n",
       "2   2000-01-05        A -0.085330\n",
       "3   2000-01-06        A  0.721594\n",
       "4   2000-01-07        A -1.397962\n",
       "..         ...      ...       ...\n",
       "115 2000-02-07        D  0.714316\n",
       "116 2000-02-08        D -0.219693\n",
       "117 2000-02-09        D  1.649881\n",
       "118 2000-02-10        D -0.306279\n",
       "119 2000-02-11        D  1.421848\n",
       "\n",
       "[120 rows x 3 columns]"
      ]
     },
     "execution_count": 3,
     "metadata": {},
     "output_type": "execute_result"
    }
   ],
   "source": [
    "dframe"
   ]
  },
  {
   "cell_type": "code",
   "execution_count": 4,
   "metadata": {},
   "outputs": [
    {
     "name": "stdout",
     "output_type": "stream",
     "text": [
      "variable           A         B         C         D\n",
      "date                                              \n",
      "2000-01-03 -0.521677 -0.711643  0.116085 -1.924481\n",
      "2000-01-04  0.759259 -0.870730 -2.473561 -1.345243\n",
      "2000-01-05 -0.085330 -1.308282  0.642622  0.606811\n",
      "2000-01-06  0.721594  0.818925 -1.831232 -0.143633\n",
      "2000-01-07 -1.397962  0.917652 -0.567233  0.279183\n",
      "2000-01-10 -0.217547 -0.023237  0.582158 -0.910210\n",
      "2000-01-11 -1.261291 -1.620958 -0.545936 -0.769461\n",
      "2000-01-12 -0.120402  2.273398  0.198328  0.945378\n",
      "2000-01-13 -1.197004 -0.436398 -0.075036  0.877579\n",
      "2000-01-14 -0.334776 -0.133706  0.859413 -1.165871\n",
      "2000-01-17 -0.671377  0.234078 -1.273001  0.686825\n",
      "2000-01-18 -1.401051 -1.879911 -1.445234 -1.002718\n",
      "2000-01-19  0.615876  0.237788 -0.395292  0.294778\n",
      "2000-01-20  0.862061 -0.207441  1.464805 -0.506530\n",
      "2000-01-21 -1.335949 -1.879542  1.721499  0.205185\n",
      "2000-01-24 -0.362738 -1.376768 -0.404514  0.629297\n",
      "2000-01-25 -0.468951 -0.601086  2.169211 -0.058185\n",
      "2000-01-26 -0.266152 -1.597993  0.053880 -0.001758\n",
      "2000-01-27 -0.899711 -1.234434 -1.383379 -0.356311\n",
      "2000-01-28  0.466262 -0.691298 -0.410774  0.313381\n",
      "2000-01-31 -0.475133 -1.581623 -1.042679 -1.156165\n",
      "2000-02-01 -0.957008 -0.890244  1.170106  0.688918\n",
      "2000-02-02 -1.134659 -0.671800  0.026355 -0.520441\n",
      "2000-02-03  1.216684  1.683636  0.745892 -3.082650\n",
      "2000-02-04  2.192513 -1.091645  0.318962 -0.621389\n",
      "2000-02-07  1.567670  0.259062 -0.412967  0.714316\n",
      "2000-02-08  0.683199 -0.560697  1.280090 -0.219693\n",
      "2000-02-09 -0.490305 -0.195488  1.243696  1.649881\n",
      "2000-02-10 -0.640000  0.991502  0.392407 -0.306279\n",
      "2000-02-11 -0.111715  0.002870  0.054503  1.421848\n"
     ]
    }
   ],
   "source": [
    "# Now let's pivot the data\n",
    "\n",
    "# First two value spassed are teh row and column indexes, then finally an optional fill value\n",
    "dframe_piv = dframe.pivot('date','variable','value')\n",
    "\n",
    "#Show\n",
    "print(dframe_piv)\n",
    "\n",
    "dframe_piv.to_csv('./in_out/out_test_piv1.csv')"
   ]
  },
  {
   "cell_type": "code",
   "execution_count": 11,
   "metadata": {},
   "outputs": [
    {
     "name": "stdout",
     "output_type": "stream",
     "text": [
      "          date variable     value     emptycol\n",
      "0   2000-01-03        A -0.521677  pivot_field\n",
      "1   2000-01-04        A  0.759259  pivot_field\n",
      "2   2000-01-05        A -0.085330  pivot_field\n",
      "3   2000-01-06        A  0.721594  pivot_field\n",
      "4   2000-01-07        A -1.397962  pivot_field\n",
      "..         ...      ...       ...          ...\n",
      "115 2000-02-07        D  0.714316  pivot_field\n",
      "116 2000-02-08        D -0.219693  pivot_field\n",
      "117 2000-02-09        D  1.649881  pivot_field\n",
      "118 2000-02-10        D -0.306279  pivot_field\n",
      "119 2000-02-11        D  1.421848  pivot_field\n",
      "\n",
      "[120 rows x 4 columns]\n",
      "emptycol             pivot_field\n",
      "date       variable             \n",
      "2000-01-03 A           -0.521677\n",
      "           B           -0.711643\n",
      "           C            0.116085\n",
      "           D           -1.924481\n",
      "2000-01-04 A            0.759259\n",
      "...                          ...\n",
      "2000-02-10 D           -0.306279\n",
      "2000-02-11 A           -0.111715\n",
      "           B            0.002870\n",
      "           C            0.054503\n",
      "           D            1.421848\n",
      "\n",
      "[120 rows x 1 columns]\n"
     ]
    }
   ],
   "source": [
    "# Now let's pivot the data\n",
    "dframe2 = dframe.copy()\n",
    "dframe2['emptycol'] = \"pivot_field\"\n",
    "print(dframe2)\n",
    "\n",
    "# First two value spassed are teh row and column indexes, then finally an optional fill value\n",
    "dframe_piv_2 = dframe2.pivot(index=['date','variable'],\n",
    "                            columns='emptycol',\n",
    "                            values='value')\n",
    "\n",
    "#Show\n",
    "print(dframe_piv_2)\n",
    "\n",
    "dframe_piv_2.to_csv('./in_out/out_test_piv2.csv')"
   ]
  },
  {
   "cell_type": "markdown",
   "metadata": {},
   "source": [
    "### Duplicates in DFs"
   ]
  },
  {
   "cell_type": "code",
   "execution_count": 12,
   "metadata": {},
   "outputs": [
    {
     "name": "stdout",
     "output_type": "stream",
     "text": [
      "  key1  key2\n",
      "0    A     2\n",
      "1    A     2\n",
      "2    B     2\n",
      "3    B     3\n",
      "4    B     3\n"
     ]
    }
   ],
   "source": [
    "#Lets get a dataframe with duplicates\n",
    "\n",
    "dframe = DataFrame({'key1': ['A'] * 2 + ['B'] * 3,\n",
    "                  'key2': [2, 2, 2, 3, 3]})\n",
    "\n",
    "print(dframe)"
   ]
  },
  {
   "cell_type": "code",
   "execution_count": 16,
   "metadata": {},
   "outputs": [
    {
     "name": "stdout",
     "output_type": "stream",
     "text": [
      "0    False\n",
      "1     True\n",
      "2    False\n",
      "3    False\n",
      "4     True\n",
      "dtype: bool\n",
      "  key1  key2\n",
      "0    A     2\n",
      "2    B     2\n",
      "3    B     3\n",
      "  key1  key2\n",
      "0    A     2\n",
      "2    B     2\n",
      "  key1  key2\n",
      "1    A     2\n",
      "4    B     3\n"
     ]
    }
   ],
   "source": [
    "#We can use duplicated to find duplicates\n",
    "print(dframe.duplicated())\n",
    "\n",
    "# We can also drop duplicates like this:\n",
    "print(dframe.drop_duplicates())\n",
    "\n",
    "#You can filter which duplicates to drop by a single column\n",
    "print(dframe.drop_duplicates(['key1']))\n",
    "\n",
    "#By default the first value was taken for the duplicates, we can also take the last value instead\n",
    "print(dframe.drop_duplicates(['key1'],keep='last'))\n"
   ]
  },
  {
   "cell_type": "markdown",
   "metadata": {},
   "source": [
    "### Mapping\n",
    "\n",
    "Add columns with values in a dictionary.   \n",
    "Kind of a VLOOKUP   "
   ]
  },
  {
   "cell_type": "code",
   "execution_count": 17,
   "metadata": {},
   "outputs": [
    {
     "name": "stdout",
     "output_type": "stream",
     "text": [
      "         city  altitude\n",
      "0        Alma      3158\n",
      "1  Brian Head      3000\n",
      "2    Fox Park      2762\n",
      "{'Alma': 'Colorado', 'Brian Head': 'Utah', 'Fox Park': 'Wyoming'}\n"
     ]
    }
   ],
   "source": [
    "# Let's create a dframe to work with (Highest elevation cities in USA)\n",
    "dframe = DataFrame({'city':['Alma','Brian Head','Fox Park'],\n",
    "                    'altitude':[3158,3000,2762]})\n",
    "\n",
    "#Now let's say we wanted to add a column for the States, we can do that with a mapping.\n",
    "state_map={'Alma':'Colorado','Brian Head':'Utah','Fox Park':'Wyoming'}\n",
    "\n",
    "#Show\n",
    "print(dframe)\n",
    "print(state_map)"
   ]
  },
  {
   "cell_type": "code",
   "execution_count": 19,
   "metadata": {},
   "outputs": [
    {
     "name": "stdout",
     "output_type": "stream",
     "text": [
      "         city  altitude     state\n",
      "0        Alma      3158  Colorado\n",
      "1  Brian Head      3000      Utah\n",
      "2    Fox Park      2762   Wyoming\n"
     ]
    }
   ],
   "source": [
    "# Now we can map that data to our current dframe\n",
    "dframe['state'] = dframe['city'].map(state_map)\n",
    "\n",
    "print(dframe)"
   ]
  },
  {
   "cell_type": "markdown",
   "metadata": {},
   "source": [
    "### Replace"
   ]
  },
  {
   "cell_type": "code",
   "execution_count": 21,
   "metadata": {},
   "outputs": [
    {
     "name": "stdout",
     "output_type": "stream",
     "text": [
      "0    1\n",
      "1    2\n",
      "2    3\n",
      "3    4\n",
      "4    1\n",
      "5    2\n",
      "6    3\n",
      "7    4\n",
      "dtype: int64\n",
      "0    NaN\n",
      "1    2.0\n",
      "2    3.0\n",
      "3    4.0\n",
      "4    NaN\n",
      "5    2.0\n",
      "6    3.0\n",
      "7    4.0\n",
      "dtype: float64\n",
      "0    100\n",
      "1      2\n",
      "2      3\n",
      "3    400\n",
      "4    100\n",
      "5      2\n",
      "6      3\n",
      "7    400\n",
      "dtype: int64\n",
      "0    1.0\n",
      "1    2.0\n",
      "2    3.0\n",
      "3    NaN\n",
      "4    1.0\n",
      "5    2.0\n",
      "6    3.0\n",
      "7    NaN\n",
      "dtype: float64\n"
     ]
    }
   ],
   "source": [
    "# Lets make  Series\n",
    "ser1 = Series([1,2,3,4,1,2,3,4])\n",
    "#Show\n",
    "print(ser1)\n",
    "\n",
    "\n",
    "# Using replace we can select --> .replace(value to be replaced, new_value)\n",
    "print(ser1.replace(1,np.nan))\n",
    "\n",
    "#Can also input lists\n",
    "print(ser1.replace([1,4],[100,400]))\n",
    "\n",
    "#Can also input dictionary\n",
    "print(ser1.replace({4:np.nan}))\n"
   ]
  },
  {
   "cell_type": "markdown",
   "metadata": {},
   "source": [
    "### Lec 38 - Rename Index using MAPPING"
   ]
  },
  {
   "cell_type": "code",
   "execution_count": 22,
   "metadata": {},
   "outputs": [
    {
     "name": "stdout",
     "output_type": "stream",
     "text": [
      "    A  B   C   D\n",
      "NY  0  1   2   3\n",
      "LA  4  5   6   7\n",
      "SF  8  9  10  11\n"
     ]
    }
   ],
   "source": [
    "# Making a DataFrame\n",
    "dframe= DataFrame(np.arange(12).reshape((3, 4)),\n",
    "                 index=['NY', 'LA', 'SF'],\n",
    "                 columns=['A', 'B', 'C', 'D'])\n",
    "\n",
    "#Show\n",
    "print(dframe)"
   ]
  },
  {
   "cell_type": "code",
   "execution_count": 23,
   "metadata": {},
   "outputs": [
    {
     "name": "stdout",
     "output_type": "stream",
     "text": [
      "Index(['ny', 'la', 'sf'], dtype='object')\n",
      "    ALPHA  B   C   D\n",
      "NY      0  1   2   3\n",
      "LA      4  5   6   7\n",
      "SF      8  9  10  11\n"
     ]
    }
   ],
   "source": [
    "#Let's use map to lowercase the city initials\n",
    "print(dframe.index.map(str.lower))\n",
    "\n",
    "# If you want to assign this to the actual index, you can use index\n",
    "# dframe.index = dframe.index.map(str.lower)\n",
    "\n",
    "\n",
    "# Use rename if you want to create a transformed version\n",
    "# WHITOUT modifying the original!\n",
    "\n",
    "#str.title will capitalize the first letter, lowercasing the columns\n",
    "dframe.rename(index=str.title, columns=str.lower)\n",
    "\n",
    "\n",
    "# We can also use rename with dictionaries providing new values for indexes or columns!\n",
    "# inplace=True actually edit the data\n",
    "dframe.rename(index={'ny': 'NEW YORK'},\n",
    "            columns={'A': 'ALPHA'}, inplace=True)\n",
    "\n",
    "print(dframe)"
   ]
  },
  {
   "cell_type": "markdown",
   "metadata": {},
   "source": [
    "### Binning"
   ]
  },
  {
   "cell_type": "code",
   "execution_count": 4,
   "metadata": {},
   "outputs": [
    {
     "name": "stdout",
     "output_type": "stream",
     "text": [
      "<class 'pandas.core.arrays.categorical.Categorical'>\n",
      "[(1980, 1990], (1990, 2000], (1990, 2000], (2000, 2010], (2010, 2020], ..., (1980, 1990], (1960, 1970], (2010, 2020], (2000, 2010], (1990, 2000]]\n",
      "Length: 11\n",
      "Categories (6, interval[int64]): [(1960, 1970] < (1970, 1980] < (1980, 1990] < (1990, 2000] < (2000, 2010] < (2010, 2020]]\n",
      "<class 'pandas.core.indexes.interval.IntervalIndex'>\n",
      "IntervalIndex([(1960, 1970], (1970, 1980], (1980, 1990], (1990, 2000], (2000, 2010], (2010, 2020]],\n",
      "              closed='right',\n",
      "              dtype='interval[int64]')\n"
     ]
    }
   ],
   "source": [
    "years = [1990,1991,1992,2008,2012,2015,1987,1969,2013,2008,1999]\n",
    "# We can seperate these years by decade\n",
    "decade_bins = [1960,1970,1980,1990,2000,2010,2020]\n",
    "\n",
    "#Now we'll use cut to get somethign called a Category object\n",
    "decade_cat = pd.cut(years,decade_bins)\n",
    "\n",
    "print(type(decade_cat))\n",
    "print(decade_cat)\n",
    "# See the categories\n",
    "print(type(decade_cat.categories))\n",
    "print(decade_cat.categories)"
   ]
  },
  {
   "cell_type": "markdown",
   "metadata": {},
   "source": [
    "### Outliers"
   ]
  },
  {
   "cell_type": "code",
   "execution_count": 6,
   "metadata": {},
   "outputs": [
    {
     "data": {
      "text/html": [
       "<div>\n",
       "<style scoped>\n",
       "    .dataframe tbody tr th:only-of-type {\n",
       "        vertical-align: middle;\n",
       "    }\n",
       "\n",
       "    .dataframe tbody tr th {\n",
       "        vertical-align: top;\n",
       "    }\n",
       "\n",
       "    .dataframe thead th {\n",
       "        text-align: right;\n",
       "    }\n",
       "</style>\n",
       "<table border=\"1\" class=\"dataframe\">\n",
       "  <thead>\n",
       "    <tr style=\"text-align: right;\">\n",
       "      <th></th>\n",
       "      <th>0</th>\n",
       "      <th>1</th>\n",
       "      <th>2</th>\n",
       "      <th>3</th>\n",
       "    </tr>\n",
       "  </thead>\n",
       "  <tbody>\n",
       "    <tr>\n",
       "      <th>0</th>\n",
       "      <td>-0.204708</td>\n",
       "      <td>0.478943</td>\n",
       "      <td>-0.519439</td>\n",
       "      <td>-0.555730</td>\n",
       "    </tr>\n",
       "    <tr>\n",
       "      <th>1</th>\n",
       "      <td>1.965781</td>\n",
       "      <td>1.393406</td>\n",
       "      <td>0.092908</td>\n",
       "      <td>0.281746</td>\n",
       "    </tr>\n",
       "    <tr>\n",
       "      <th>2</th>\n",
       "      <td>0.769023</td>\n",
       "      <td>1.246435</td>\n",
       "      <td>1.007189</td>\n",
       "      <td>-1.296221</td>\n",
       "    </tr>\n",
       "    <tr>\n",
       "      <th>3</th>\n",
       "      <td>0.274992</td>\n",
       "      <td>0.228913</td>\n",
       "      <td>1.352917</td>\n",
       "      <td>0.886429</td>\n",
       "    </tr>\n",
       "    <tr>\n",
       "      <th>4</th>\n",
       "      <td>-2.001637</td>\n",
       "      <td>-0.371843</td>\n",
       "      <td>1.669025</td>\n",
       "      <td>-0.438570</td>\n",
       "    </tr>\n",
       "  </tbody>\n",
       "</table>\n",
       "</div>"
      ],
      "text/plain": [
       "          0         1         2         3\n",
       "0 -0.204708  0.478943 -0.519439 -0.555730\n",
       "1  1.965781  1.393406  0.092908  0.281746\n",
       "2  0.769023  1.246435  1.007189 -1.296221\n",
       "3  0.274992  0.228913  1.352917  0.886429\n",
       "4 -2.001637 -0.371843  1.669025 -0.438570"
      ]
     },
     "execution_count": 6,
     "metadata": {},
     "output_type": "execute_result"
    }
   ],
   "source": [
    "# Let's see how we would find outliers in a dataset\n",
    "\n",
    "# First we'll seed the numpy generator\n",
    "np.random.seed(12345)\n",
    "\n",
    "#Next we'll create the dataframe\n",
    "dframe = DataFrame(np.random.randn(1000,4))\n",
    "\n",
    "dframe.head(5)"
   ]
  },
  {
   "cell_type": "code",
   "execution_count": 7,
   "metadata": {},
   "outputs": [
    {
     "data": {
      "text/html": [
       "<div>\n",
       "<style scoped>\n",
       "    .dataframe tbody tr th:only-of-type {\n",
       "        vertical-align: middle;\n",
       "    }\n",
       "\n",
       "    .dataframe tbody tr th {\n",
       "        vertical-align: top;\n",
       "    }\n",
       "\n",
       "    .dataframe thead th {\n",
       "        text-align: right;\n",
       "    }\n",
       "</style>\n",
       "<table border=\"1\" class=\"dataframe\">\n",
       "  <thead>\n",
       "    <tr style=\"text-align: right;\">\n",
       "      <th></th>\n",
       "      <th>0</th>\n",
       "      <th>1</th>\n",
       "      <th>2</th>\n",
       "      <th>3</th>\n",
       "    </tr>\n",
       "  </thead>\n",
       "  <tbody>\n",
       "    <tr>\n",
       "      <th>count</th>\n",
       "      <td>1000.000000</td>\n",
       "      <td>1000.000000</td>\n",
       "      <td>1000.000000</td>\n",
       "      <td>1000.000000</td>\n",
       "    </tr>\n",
       "    <tr>\n",
       "      <th>mean</th>\n",
       "      <td>-0.067684</td>\n",
       "      <td>0.067924</td>\n",
       "      <td>0.025598</td>\n",
       "      <td>-0.002298</td>\n",
       "    </tr>\n",
       "    <tr>\n",
       "      <th>std</th>\n",
       "      <td>0.998035</td>\n",
       "      <td>0.992106</td>\n",
       "      <td>1.006835</td>\n",
       "      <td>0.996794</td>\n",
       "    </tr>\n",
       "    <tr>\n",
       "      <th>min</th>\n",
       "      <td>-3.428254</td>\n",
       "      <td>-3.548824</td>\n",
       "      <td>-3.184377</td>\n",
       "      <td>-3.745356</td>\n",
       "    </tr>\n",
       "    <tr>\n",
       "      <th>25%</th>\n",
       "      <td>-0.774890</td>\n",
       "      <td>-0.591841</td>\n",
       "      <td>-0.641675</td>\n",
       "      <td>-0.644144</td>\n",
       "    </tr>\n",
       "    <tr>\n",
       "      <th>50%</th>\n",
       "      <td>-0.116401</td>\n",
       "      <td>0.101143</td>\n",
       "      <td>0.002073</td>\n",
       "      <td>-0.013611</td>\n",
       "    </tr>\n",
       "    <tr>\n",
       "      <th>75%</th>\n",
       "      <td>0.616366</td>\n",
       "      <td>0.780282</td>\n",
       "      <td>0.680391</td>\n",
       "      <td>0.654328</td>\n",
       "    </tr>\n",
       "    <tr>\n",
       "      <th>max</th>\n",
       "      <td>3.366626</td>\n",
       "      <td>2.653656</td>\n",
       "      <td>3.260383</td>\n",
       "      <td>3.927528</td>\n",
       "    </tr>\n",
       "  </tbody>\n",
       "</table>\n",
       "</div>"
      ],
      "text/plain": [
       "                 0            1            2            3\n",
       "count  1000.000000  1000.000000  1000.000000  1000.000000\n",
       "mean     -0.067684     0.067924     0.025598    -0.002298\n",
       "std       0.998035     0.992106     1.006835     0.996794\n",
       "min      -3.428254    -3.548824    -3.184377    -3.745356\n",
       "25%      -0.774890    -0.591841    -0.641675    -0.644144\n",
       "50%      -0.116401     0.101143     0.002073    -0.013611\n",
       "75%       0.616366     0.780282     0.680391     0.654328\n",
       "max       3.366626     2.653656     3.260383     3.927528"
      ]
     },
     "execution_count": 7,
     "metadata": {},
     "output_type": "execute_result"
    }
   ],
   "source": [
    "# Get statistics on the DF \n",
    "# As you can see there are values lower/greater than 3\n",
    "dframe.describe()"
   ]
  },
  {
   "cell_type": "code",
   "execution_count": 11,
   "metadata": {},
   "outputs": [
    {
     "data": {
      "text/html": [
       "<div>\n",
       "<style scoped>\n",
       "    .dataframe tbody tr th:only-of-type {\n",
       "        vertical-align: middle;\n",
       "    }\n",
       "\n",
       "    .dataframe tbody tr th {\n",
       "        vertical-align: top;\n",
       "    }\n",
       "\n",
       "    .dataframe thead th {\n",
       "        text-align: right;\n",
       "    }\n",
       "</style>\n",
       "<table border=\"1\" class=\"dataframe\">\n",
       "  <thead>\n",
       "    <tr style=\"text-align: right;\">\n",
       "      <th></th>\n",
       "      <th>0</th>\n",
       "      <th>1</th>\n",
       "      <th>2</th>\n",
       "      <th>3</th>\n",
       "    </tr>\n",
       "  </thead>\n",
       "  <tbody>\n",
       "    <tr>\n",
       "      <th>5</th>\n",
       "      <td>-0.539741</td>\n",
       "      <td>0.476985</td>\n",
       "      <td>3.248944</td>\n",
       "      <td>-1.021228</td>\n",
       "    </tr>\n",
       "    <tr>\n",
       "      <th>97</th>\n",
       "      <td>-0.774363</td>\n",
       "      <td>0.552936</td>\n",
       "      <td>0.106061</td>\n",
       "      <td>3.927528</td>\n",
       "    </tr>\n",
       "    <tr>\n",
       "      <th>102</th>\n",
       "      <td>-0.655054</td>\n",
       "      <td>-0.565230</td>\n",
       "      <td>3.176873</td>\n",
       "      <td>0.959533</td>\n",
       "    </tr>\n",
       "    <tr>\n",
       "      <th>305</th>\n",
       "      <td>-2.315555</td>\n",
       "      <td>0.457246</td>\n",
       "      <td>-0.025907</td>\n",
       "      <td>-3.399312</td>\n",
       "    </tr>\n",
       "    <tr>\n",
       "      <th>324</th>\n",
       "      <td>0.050188</td>\n",
       "      <td>1.951312</td>\n",
       "      <td>3.260383</td>\n",
       "      <td>0.963301</td>\n",
       "    </tr>\n",
       "    <tr>\n",
       "      <th>400</th>\n",
       "      <td>0.146326</td>\n",
       "      <td>0.508391</td>\n",
       "      <td>-0.196713</td>\n",
       "      <td>-3.745356</td>\n",
       "    </tr>\n",
       "    <tr>\n",
       "      <th>499</th>\n",
       "      <td>-0.293333</td>\n",
       "      <td>-0.242459</td>\n",
       "      <td>-3.056990</td>\n",
       "      <td>1.918403</td>\n",
       "    </tr>\n",
       "    <tr>\n",
       "      <th>523</th>\n",
       "      <td>-3.428254</td>\n",
       "      <td>-0.296336</td>\n",
       "      <td>-0.439938</td>\n",
       "      <td>-0.867165</td>\n",
       "    </tr>\n",
       "    <tr>\n",
       "      <th>586</th>\n",
       "      <td>0.275144</td>\n",
       "      <td>1.179227</td>\n",
       "      <td>-3.184377</td>\n",
       "      <td>1.369891</td>\n",
       "    </tr>\n",
       "    <tr>\n",
       "      <th>808</th>\n",
       "      <td>-0.362528</td>\n",
       "      <td>-3.548824</td>\n",
       "      <td>1.553205</td>\n",
       "      <td>-2.186301</td>\n",
       "    </tr>\n",
       "    <tr>\n",
       "      <th>900</th>\n",
       "      <td>3.366626</td>\n",
       "      <td>-2.372214</td>\n",
       "      <td>0.851010</td>\n",
       "      <td>1.332846</td>\n",
       "    </tr>\n",
       "  </tbody>\n",
       "</table>\n",
       "</div>"
      ],
      "text/plain": [
       "            0         1         2         3\n",
       "5   -0.539741  0.476985  3.248944 -1.021228\n",
       "97  -0.774363  0.552936  0.106061  3.927528\n",
       "102 -0.655054 -0.565230  3.176873  0.959533\n",
       "305 -2.315555  0.457246 -0.025907 -3.399312\n",
       "324  0.050188  1.951312  3.260383  0.963301\n",
       "400  0.146326  0.508391 -0.196713 -3.745356\n",
       "499 -0.293333 -0.242459 -3.056990  1.918403\n",
       "523 -3.428254 -0.296336 -0.439938 -0.867165\n",
       "586  0.275144  1.179227 -3.184377  1.369891\n",
       "808 -0.362528 -3.548824  1.553205 -2.186301\n",
       "900  3.366626 -2.372214  0.851010  1.332846"
      ]
     },
     "execution_count": 11,
     "metadata": {},
     "output_type": "execute_result"
    }
   ],
   "source": [
    "col = dframe[0]\n",
    "# Lookng at values > 3 in DF column 1 \n",
    "col[np.abs(col)>3]\n",
    "\n",
    "# Check at the entire DF - return any row with value greater than 3\n",
    "dframe[(np.abs(dframe)>3).any(1)]"
   ]
  },
  {
   "cell_type": "code",
   "execution_count": 15,
   "metadata": {},
   "outputs": [],
   "source": [
    "# Capping the DF\n",
    "# any value whihc is greater/smaller than 3 or -3 is replaced \n",
    "# with the value 3 times the sign +/-.\n",
    "dframe[np.abs(dframe)>3] = np.sign(dframe)*3"
   ]
  },
  {
   "cell_type": "code",
   "execution_count": 14,
   "metadata": {},
   "outputs": [
    {
     "data": {
      "text/html": [
       "<div>\n",
       "<style scoped>\n",
       "    .dataframe tbody tr th:only-of-type {\n",
       "        vertical-align: middle;\n",
       "    }\n",
       "\n",
       "    .dataframe tbody tr th {\n",
       "        vertical-align: top;\n",
       "    }\n",
       "\n",
       "    .dataframe thead th {\n",
       "        text-align: right;\n",
       "    }\n",
       "</style>\n",
       "<table border=\"1\" class=\"dataframe\">\n",
       "  <thead>\n",
       "    <tr style=\"text-align: right;\">\n",
       "      <th></th>\n",
       "      <th>0</th>\n",
       "      <th>1</th>\n",
       "      <th>2</th>\n",
       "      <th>3</th>\n",
       "    </tr>\n",
       "  </thead>\n",
       "  <tbody>\n",
       "    <tr>\n",
       "      <th>count</th>\n",
       "      <td>1000.000000</td>\n",
       "      <td>1000.000000</td>\n",
       "      <td>1000.000000</td>\n",
       "      <td>1000.000000</td>\n",
       "    </tr>\n",
       "    <tr>\n",
       "      <th>mean</th>\n",
       "      <td>-0.067623</td>\n",
       "      <td>0.068473</td>\n",
       "      <td>0.025153</td>\n",
       "      <td>-0.002081</td>\n",
       "    </tr>\n",
       "    <tr>\n",
       "      <th>std</th>\n",
       "      <td>0.995485</td>\n",
       "      <td>0.990253</td>\n",
       "      <td>1.003977</td>\n",
       "      <td>0.989736</td>\n",
       "    </tr>\n",
       "    <tr>\n",
       "      <th>min</th>\n",
       "      <td>-3.000000</td>\n",
       "      <td>-3.000000</td>\n",
       "      <td>-3.000000</td>\n",
       "      <td>-3.000000</td>\n",
       "    </tr>\n",
       "    <tr>\n",
       "      <th>25%</th>\n",
       "      <td>-0.774890</td>\n",
       "      <td>-0.591841</td>\n",
       "      <td>-0.641675</td>\n",
       "      <td>-0.644144</td>\n",
       "    </tr>\n",
       "    <tr>\n",
       "      <th>50%</th>\n",
       "      <td>-0.116401</td>\n",
       "      <td>0.101143</td>\n",
       "      <td>0.002073</td>\n",
       "      <td>-0.013611</td>\n",
       "    </tr>\n",
       "    <tr>\n",
       "      <th>75%</th>\n",
       "      <td>0.616366</td>\n",
       "      <td>0.780282</td>\n",
       "      <td>0.680391</td>\n",
       "      <td>0.654328</td>\n",
       "    </tr>\n",
       "    <tr>\n",
       "      <th>max</th>\n",
       "      <td>3.000000</td>\n",
       "      <td>2.653656</td>\n",
       "      <td>3.000000</td>\n",
       "      <td>3.000000</td>\n",
       "    </tr>\n",
       "  </tbody>\n",
       "</table>\n",
       "</div>"
      ],
      "text/plain": [
       "                 0            1            2            3\n",
       "count  1000.000000  1000.000000  1000.000000  1000.000000\n",
       "mean     -0.067623     0.068473     0.025153    -0.002081\n",
       "std       0.995485     0.990253     1.003977     0.989736\n",
       "min      -3.000000    -3.000000    -3.000000    -3.000000\n",
       "25%      -0.774890    -0.591841    -0.641675    -0.644144\n",
       "50%      -0.116401     0.101143     0.002073    -0.013611\n",
       "75%       0.616366     0.780282     0.680391     0.654328\n",
       "max       3.000000     2.653656     3.000000     3.000000"
      ]
     },
     "execution_count": 14,
     "metadata": {},
     "output_type": "execute_result"
    }
   ],
   "source": [
    "dframe.describe()"
   ]
  },
  {
   "cell_type": "markdown",
   "metadata": {},
   "source": [
    "### Permutation ?"
   ]
  },
  {
   "cell_type": "code",
   "execution_count": 16,
   "metadata": {},
   "outputs": [
    {
     "name": "stdout",
     "output_type": "stream",
     "text": [
      "[1 2 3]\n",
      "[0 2 2 2 0 2 0 2 0 2]\n"
     ]
    }
   ],
   "source": [
    "# Let imagine a box with 3 marbles in it: labeled 1, 2, and 3\n",
    "box = np.array([1,2,3])\n",
    "print(box)\n",
    "\n",
    "# Now lets create a random permuation WITH replacement using randint\n",
    "shaker = np.random.randint(0, len(box), size=10)\n",
    "print(shaker)"
   ]
  },
  {
   "cell_type": "markdown",
   "metadata": {},
   "source": [
    "# SUMMARY - RECAP"
   ]
  },
  {
   "cell_type": "markdown",
   "metadata": {},
   "source": [
    "- Merge\n",
    "- Merge on Index\n",
    "- Concatenate\n",
    "- Combining DF\n",
    "- Reshaping\n",
    "- Pivoting\n",
    "- Duplicates in DFs\n",
    "- Mapping\n",
    "- Replace\n",
    "- Rename Index\n",
    "- Binning\n",
    "- Outliers\n",
    "- Permutation"
   ]
  },
  {
   "cell_type": "code",
   "execution_count": null,
   "metadata": {},
   "outputs": [],
   "source": []
  },
  {
   "cell_type": "code",
   "execution_count": null,
   "metadata": {},
   "outputs": [],
   "source": []
  },
  {
   "cell_type": "code",
   "execution_count": null,
   "metadata": {},
   "outputs": [],
   "source": []
  }
 ],
 "metadata": {
  "kernelspec": {
   "display_name": "Python 3",
   "language": "python",
   "name": "python3"
  },
  "language_info": {
   "codemirror_mode": {
    "name": "ipython",
    "version": 3
   },
   "file_extension": ".py",
   "mimetype": "text/x-python",
   "name": "python",
   "nbconvert_exporter": "python",
   "pygments_lexer": "ipython3",
   "version": "3.6.7"
  }
 },
 "nbformat": 4,
 "nbformat_minor": 4
}
